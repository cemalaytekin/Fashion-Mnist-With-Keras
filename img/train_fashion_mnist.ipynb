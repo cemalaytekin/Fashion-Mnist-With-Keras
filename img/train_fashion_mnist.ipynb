{
 "cells": [
  {
   "cell_type": "markdown",
   "metadata": {},
   "source": [
    "### Dataset\n",
    "Fashion-MNIST is a dataset of Zalando's article images—consisting of a training set of 60,000 examples and a test set of 10,000 examples. Each example is a 28x28 grayscale image, associated with a label from 10 classes. Zalando intends Fashion-MNIST to serve as a direct drop-in replacement for the original MNIST dataset for benchmarking machine learning algorithms. It shares the same image size and structure of training and testing splits.\n",
    "\n",
    "### Content\n",
    "* Each image is 28 pixels in height and 28 pixels in width, for a total of 784 pixels in total.\n",
    "\n",
    "* Each pixel has a single pixel-value associated with it, indicating the lightness or darkness of that pixel, with higher numbers meaning darker. This pixel-value is an integer between 0 and 255.\n",
    "\n",
    "* The training and test data sets have 785 columns.\n",
    "\n",
    "* The first column consists of the class labels (see above), and represents the article of clothing.\n",
    "\n",
    "* The rest of 784 columns (1-785) contain the pixel-values of the associated image.\n",
    "\n",
    "### Import Libraries"
   ]
  },
  {
   "cell_type": "code",
   "execution_count": 92,
   "metadata": {},
   "outputs": [],
   "source": [
    "# import necessary libraries\n",
    "import numpy as np # linear algebra\n",
    "import seaborn as sns # to visualize statistical data\n",
    "import matplotlib.pyplot as plt # for MATLAB-like way of plotting.\n",
    "import time\n",
    "import pandas as pd\n",
    "\n",
    "\n",
    "# import keras libraries\n",
    "from tensorflow.python import keras\n",
    "from keras.models import load_model # to save the model\n",
    "from sklearn.metrics import confusion_matrix # to compute confusion matrix to evaluate the accuracy of a classification\n",
    "from keras.utils.np_utils import to_categorical # to encode categorical integer features as a one-hot numeric array.\n",
    "from keras.datasets import fashion_mnist # to load the fashion mnist dataset\n",
    "from sklearn.model_selection import train_test_split # cross validation\n",
    "from keras.preprocessing.image import ImageDataGenerator # for Image Augmentation\n",
    "from keras.regularizers import l2,l1 # regularization\n",
    "\n",
    "\n",
    "# libraries for construction of CNN model\n",
    "from keras.models import Sequential\n",
    "from keras.layers.normalization import BatchNormalization\n",
    "from keras.layers.convolutional import Conv2D\n",
    "from keras.layers.convolutional import MaxPooling2D\n",
    "from keras.layers.core import Activation\n",
    "from keras.layers.core import Flatten\n",
    "from keras.layers.core import Dropout\n",
    "from keras.layers.core import Dense\n",
    "from keras.optimizers import Adam\n",
    "#from keras.callbacks import ReduceLROnPlateau\n",
    "\n",
    "\n",
    "import plotly.graph_objs as go\n",
    "import plotly.figure_factory as ff\n",
    "from plotly import tools\n",
    "from plotly.offline import download_plotlyjs, init_notebook_mode, plot, iplot\n",
    "# import warnings\n",
    "import warnings\n",
    "# filter warnings\n",
    "warnings.filterwarnings('ignore')"
   ]
  },
  {
   "cell_type": "markdown",
   "metadata": {},
   "source": [
    "### Arguments"
   ]
  },
  {
   "cell_type": "code",
   "execution_count": 104,
   "metadata": {},
   "outputs": [],
   "source": [
    "# Output directories\n",
    "MODEL_OUTPUT_DIRECTORY = 'saved_models/'\n",
    "MODEL_HISTORY_OUTPUT_DIRECTORY = 'saved_model_histories/'\n",
    "\n",
    "# data arguments\n",
    "ROWS = 28\n",
    "COLUMNS = 28\n",
    "CLASS = 10\n",
    "\n",
    "TEST_SIZE = 0.2\n",
    "RANDOM_STATE = 2018\n",
    "\n",
    "# Model hyperparameters\n",
    "BATCH_SIZE = 128\n",
    "NUMBER_OF_EPOCHS = 50\n",
    "SHIFT = 0.3"
   ]
  },
  {
   "cell_type": "markdown",
   "metadata": {},
   "source": [
    "### Load Dataset\n",
    "\n",
    "There are 10 different classes of images, as following:\n",
    "\n",
    "0\tT-shirt/top <br>\n",
    "1\tTrouser <br>\n",
    "2\tPullover <br>\n",
    "3\tDress <br>\n",
    "4\tCoat <br>\n",
    "5\tSandal <br>\n",
    "6\tShirt <br>\n",
    "7\tSneaker <br>\n",
    "8\tBag <br>\n",
    "9\tAnkle boot <br>\n",
    "\n",
    "Image dimmensions are 28x28.\n",
    "\n",
    "The train set and test set are given in two separate datasets."
   ]
  },
  {
   "cell_type": "code",
   "execution_count": 41,
   "metadata": {
    "scrolled": true
   },
   "outputs": [
    {
     "name": "stdout",
     "output_type": "stream",
     "text": [
      "TrainX: (60000, 28, 28)\n",
      "TrainY: (60000,)\n",
      "TestX: (10000, 28, 28)\n",
      "TestY: (10000,)\n"
     ]
    }
   ],
   "source": [
    "# load dataset\n",
    "(trainX, trainY), (testX, testY) = fashion_mnist.load_data()\n",
    "\n",
    "# summarize loaded dataset\n",
    "print(\"TrainX: \"+str(trainX.shape))\n",
    "print(\"TrainY: \"+str(trainY.shape))\n",
    "print(\"TestX: \"+str(testX.shape))\n",
    "print(\"TestY: \"+str(testY.shape))"
   ]
  },
  {
   "cell_type": "markdown",
   "metadata": {},
   "source": [
    "### Class Distribution\n",
    "Let's see how many number of images are in each class. We start with the train set."
   ]
  },
  {
   "cell_type": "code",
   "execution_count": 42,
   "metadata": {},
   "outputs": [
    {
     "data": {
      "image/png": "[encoded data removed]",
      "text/plain": [
       "<Figure size 576x288 with 1 Axes>"
      ]
     },
     "metadata": {
      "needs_background": "light"
     },
     "output_type": "display_data"
    },
    {
     "data": {
      "image/png": "[encoded data removed]",
      "text/plain": [
       "<Figure size 576x288 with 1 Axes>"
      ]
     },
     "metadata": {
      "needs_background": "light"
     },
     "output_type": "display_data"
    }
   ],
   "source": [
    "plt.figure(figsize=(8, 4))\n",
    "sns.countplot(trainY, palette=\"Set3\")\n",
    "plt.title(\"Number of Classes for Train Data\")\n",
    "plt.show()\n",
    "plt.figure(figsize=(8, 4))\n",
    "sns.countplot(testY, palette=\"Set3\")\n",
    "plt.title(\"Number of Classes for Test Data\")\n",
    "plt.show()"
   ]
  },
  {
   "cell_type": "markdown",
   "metadata": {},
   "source": [
    "Train and test datas are balanced\n",
    "#### View some random images"
   ]
  },
  {
   "cell_type": "code",
   "execution_count": 43,
   "metadata": {},
   "outputs": [],
   "source": [
    "# Create a dataframe from train data (x and y)\n",
    "# merge label and pixel array,create a dataframe, of size (60000, 785). \n",
    "# Dataframe: 60000 rows. Each row holds label, pixel1, pixel2, ..., pixel784.\n",
    "def create_dataframe(x_data,y_data):\n",
    "    y_data_list = y_data.tolist()\n",
    "    y_data_adjusted = np.array([y_data_list]) # needed step for contatenation\n",
    "    num_images = x_data.shape[0] \n",
    "    x_data_array  = x_data.reshape(num_images, ROWS*COLUMNS)\n",
    "    data_array = np.concatenate((y_data_adjusted.T, x_data_array), axis=1)\n",
    "    pixel_idx = range(1,ROWS*COLUMNS+1) \n",
    "    pixel_names = ['pixel' + str(i) for i in pixel_idx]\n",
    "    columns = ['label'] + pixel_names\n",
    "    data_df = pd.DataFrame(data_array, columns = columns) \n",
    "    return data_df\n",
    "\n",
    "train_data_df = create_dataframe(trainX, trainY)\n",
    "test_data_df = create_dataframe(testX, testY)\n"
   ]
  },
  {
   "cell_type": "markdown",
   "metadata": {},
   "source": [
    "Add labels to the train set images, with the corresponding fashion item category."
   ]
  },
  {
   "cell_type": "code",
   "execution_count": 44,
   "metadata": {},
   "outputs": [
    {
     "name": "stdout",
     "output_type": "stream",
     "text": [
      "Total number of sample images to plot:  40\n"
     ]
    }
   ],
   "source": [
    "labels = {0 : \"T-shirt/top\", 1: \"Trouser\", 2: \"Pullover\", 3: \"Dress\", 4: \"Coat\",\n",
    "          5: \"Sandal\", 6: \"Shirt\", 7: \"Sneaker\", 8: \"Bag\", 9: \"Ankle Boot\"}\n",
    "\n",
    "def sample_images_data(data):\n",
    "    # An empty list to collect some samples\n",
    "    sample_images = []\n",
    "    sample_labels = []\n",
    "\n",
    "    # Iterate over the keys of the labels dictionary defined in the above cell\n",
    "    for k in labels.keys():\n",
    "        # Get four samples for each category\n",
    "        samples = data[data[\"label\"] == k].head(4)\n",
    "        # Append the samples to the samples list\n",
    "        for j, s in enumerate(samples.values):\n",
    "            # First column contain labels, hence index should start from 1\n",
    "            img = np.array(samples.iloc[j, 1:]).reshape(ROWS,COLUMNS)\n",
    "            sample_images.append(img)\n",
    "            sample_labels.append(samples.iloc[j, 0])\n",
    "\n",
    "    print(\"Total number of sample images to plot: \", len(sample_images))\n",
    "    return sample_images, sample_labels\n",
    "\n",
    "train_sample_images, train_sample_labels = sample_images_data(train_data_df)"
   ]
  },
  {
   "cell_type": "markdown",
   "metadata": {},
   "source": [
    "Let's now plot the images.\n",
    "The labels are shown above each image."
   ]
  },
  {
   "cell_type": "code",
   "execution_count": 79,
   "metadata": {},
   "outputs": [
    {
     "data": {
      "image/png": "[encoded data removed]",
      "text/plain": [
       "<Figure size 1152x720 with 40 Axes>"
      ]
     },
     "metadata": {
      "needs_background": "light"
     },
     "output_type": "display_data"
    }
   ],
   "source": [
    "def plot_sample_images(data_sample_images,data_sample_labels,cmap=\"Blues\"):\n",
    "    # Plot the sample images now\n",
    "    f, ax = plt.subplots(5,8, figsize=(16,10))\n",
    "\n",
    "    for i, img in enumerate(data_sample_images):\n",
    "        ax[i//8, i%8].imshow(img, cmap=cmap)\n",
    "        ax[i//8, i%8].axis('off')\n",
    "        ax[i//8, i%8].set_title(labels[data_sample_labels[i]])\n",
    "    plt.show()    \n",
    "    \n",
    "plot_sample_images(train_sample_images,train_sample_labels, \"Oranges\")"
   ]
  },
  {
   "cell_type": "markdown",
   "metadata": {},
   "source": [
    "## Model\n",
    "\n",
    "### Data preprocessing\n",
    "\n",
    "First we will do a data preprocessing to prepare for the model.\n",
    "We reshape the columns from (784) to (28,28,1). We also save label (target) feature as a separate vector."
   ]
  },
  {
   "cell_type": "markdown",
   "metadata": {},
   "source": [
    "#### Encoding\n",
    "We also know that there are 10 classes and that classes are represented as unique integers:\n",
    "\n",
    "0\tT-shirt/top <br>\n",
    "1\tTrouser <br>\n",
    "2\tPullover <br>\n",
    "3\tDress <br>\n",
    "4\tCoat <br>\n",
    "5\tSandal <br>\n",
    "6\tShirt <br>\n",
    "7\tSneaker <br>\n",
    "8\tBag <br>\n",
    "9\tAnkle boot <br>\n",
    "\n",
    "We can, therefore, use a one hot encoding for the class element of each sample, transforming the integer into a 10 element binary vector with a 1 for the index of the class value. We can achieve this with the to_categorical() utility function."
   ]
  },
  {
   "cell_type": "code",
   "execution_count": 46,
   "metadata": {},
   "outputs": [
    {
     "name": "stdout",
     "output_type": "stream",
     "text": [
      "trainY: (60000, 10)\n",
      "testY: (10000, 10)\n"
     ]
    }
   ],
   "source": [
    "# one hot encode target values\n",
    "trainY = to_categorical(trainY)\n",
    "testY = to_categorical(testY)\n",
    "\n",
    "print(\"trainY: \"+str(trainY.shape))\n",
    "print(\"testY: \"+str(testY.shape))"
   ]
  },
  {
   "cell_type": "markdown",
   "metadata": {},
   "source": [
    "#### Normalization\n",
    "We know that the pixel values for each image in the dataset are unsigned integers in the range 0 and 255. (black and white range)\n",
    "\n",
    "So, normalize the pixel values of grayscale images, e.g. rescale them to the range [0,1]."
   ]
  },
  {
   "cell_type": "code",
   "execution_count": 47,
   "metadata": {},
   "outputs": [],
   "source": [
    "# scale data to the range of [0, 1]\n",
    "trainX = trainX.astype(\"float32\") / 255.0\n",
    "testX = testX.astype(\"float32\") / 255.0"
   ]
  },
  {
   "cell_type": "markdown",
   "metadata": {},
   "source": [
    "#### Train, Test, Validation\n",
    "The dataset already defined as train and test.\n",
    "\n",
    "In order to calculate the performance of a model for a given training, we need to split the training set into a train and validation dataset. Performance on the train and validation dataset over each run can then be plotted to provide learning curves and insight into how well a model is learning the problem."
   ]
  },
  {
   "cell_type": "code",
   "execution_count": 48,
   "metadata": {},
   "outputs": [
    {
     "name": "stdout",
     "output_type": "stream",
     "text": [
      "trainX: (48000, 28, 28, 1)\n",
      "validationX: (12000, 28, 28, 1)\n",
      "trainY: (48000, 10)\n",
      "validationY: (12000, 10)\n"
     ]
    }
   ],
   "source": [
    "# reshape the data arrays to have a single color channel.\n",
    "trainX = trainX.reshape((trainX.shape[0], ROWS, COLUMNS, 1))\n",
    "testX = testX.reshape((testX.shape[0], ROWS, COLUMNS, 1))\n",
    "\n",
    "X_train, X_val, y_train, y_val = train_test_split(trainX, trainY, test_size=TEST_SIZE, random_state=RANDOM_STATE)\n",
    "\n",
    "print(\"trainX: \"+str(X_train.shape))\n",
    "print(\"validationX: \"+str(X_val.shape))\n",
    "print(\"trainY: \"+str(y_train.shape))\n",
    "print(\"validationY: \"+str(y_val.shape))"
   ]
  },
  {
   "cell_type": "markdown",
   "metadata": {},
   "source": [
    "### Train the Model\n",
    "\n",
    "#### Build the model\n",
    "\n",
    "I will use a Sequential model.\n",
    "\n",
    "The Sequential model is a linear stack of layers. It can be first initialized and then we add layers using add method or we can add all layers at init stage. The layers added are as follows:\n",
    "\n",
    "I tried to train different models with different specifications. I mostly inspired by VGGNet. Firstly, I will give a brief explanation for the VGGNet.\n",
    "\n",
    "#### VGGNet\n",
    "\n",
    "VGGNet consists of 16 convolutional layers and is very appealing because of its very uniform architecture. Similar to AlexNet, only 3x3 convolutions, but lots of filters. It is currently the most preferred choice in the community for extracting features from images. However, VGGNet consists of 138 million parameters, which can be a bit challenging to handle. <br>\n",
    "<br>\n",
    "<img src=\"https://miro.medium.com/max/1575/0*V1muWIDnPVwZUuEv.png\" width=\"75%\">\n",
    "\n",
    "##### Layers\n",
    "Below we define our CNNmodel with the Sequential() function before defining the specific layers we will apply to our convolutional neural network.\n",
    "\n",
    "##### Conv + Maxpool\n",
    "The Convolution layer is the main process for the CNN. In this operation, there is a filter detecting edges or specific shapes, beginning in the top left of the image. The filter is multiplied with some value across the same indices, after which the results are summed and put into an output matrix. The filter then 'strides' right and repeats the process again and again. Following these operations we apply a ReLU function. The maxpooling in this later reduces the parameters needed for the computing process. Maxpooling prevents overfitting.\n",
    "\n",
    "##### Dropout\n",
    "Dropout is a regularization technique that aids in reducing overfitting by dropping out visible or hidden nodes in the neural network.\n",
    "\n",
    "##### Flattening\n",
    "Basically after applying our laters we need to flatten the matrix into a one dimensional array for use with the rest of our CNN. Does not affect the batch size. It is used without parameters.\n",
    "\n",
    "##### Fully Connecting\n",
    "This layer takes data from the 1D array we created with our flattening layer and begins the learning process.\n",
    "\n",
    "#### Dense. \n",
    "\n",
    "This layer is a regular fully-connected NN layer.\n",
    "\n",
    "##### Then we compile the model, specifying as well the following parameters:\n",
    "\n",
    "* loss\n",
    "* optimizer\n",
    "* metrics\n",
    "\n",
    "-------------------------------------------------------------------------------------------------------------------"
   ]
  },
  {
   "cell_type": "markdown",
   "metadata": {},
   "source": [
    "### Model 1"
   ]
  },
  {
   "cell_type": "code",
   "execution_count": 49,
   "metadata": {},
   "outputs": [
    {
     "name": "stdout",
     "output_type": "stream",
     "text": [
      "Model: \"sequential_3\"\n",
      "_________________________________________________________________\n",
      "Layer (type)                 Output Shape              Param #   \n",
      "=================================================================\n",
      "conv2d_7 (Conv2D)            (None, 26, 26, 32)        320       \n",
      "_________________________________________________________________\n",
      "max_pooling2d_5 (MaxPooling2 (None, 13, 13, 32)        0         \n",
      "_________________________________________________________________\n",
      "conv2d_8 (Conv2D)            (None, 11, 11, 64)        18496     \n",
      "_________________________________________________________________\n",
      "max_pooling2d_6 (MaxPooling2 (None, 5, 5, 64)          0         \n",
      "_________________________________________________________________\n",
      "conv2d_9 (Conv2D)            (None, 3, 3, 128)         73856     \n",
      "_________________________________________________________________\n",
      "flatten_3 (Flatten)          (None, 1152)              0         \n",
      "_________________________________________________________________\n",
      "dense_5 (Dense)              (None, 128)               147584    \n",
      "_________________________________________________________________\n",
      "dense_6 (Dense)              (None, 10)                1290      \n",
      "=================================================================\n",
      "Total params: 241,546\n",
      "Trainable params: 241,546\n",
      "Non-trainable params: 0\n",
      "_________________________________________________________________\n"
     ]
    }
   ],
   "source": [
    "# Model\n",
    "cnn1 = Sequential()\n",
    "# Add convolution 2D\n",
    "cnn1.add(Conv2D(32, kernel_size=(3, 3),\n",
    "                 activation='relu',\n",
    "                 kernel_initializer='he_normal',\n",
    "                 input_shape=(ROWS, COLUMNS, 1)))\n",
    "cnn1.add(MaxPooling2D((2, 2)))\n",
    "cnn1.add(Conv2D(64, \n",
    "                 kernel_size=(3, 3), \n",
    "                 activation='relu'))\n",
    "cnn1.add(MaxPooling2D(pool_size=(2, 2)))\n",
    "cnn1.add(Conv2D(128, (3, 3), activation='relu'))\n",
    "cnn1.add(Flatten())\n",
    "cnn1.add(Dense(128, activation='relu'))\n",
    "cnn1.add(Dense(CLASS, activation='softmax'))\n",
    "\n",
    "\n",
    "cnn1.compile(loss=keras.losses.categorical_crossentropy,\n",
    "              optimizer='adam',\n",
    "              metrics=['accuracy'])\n",
    "\n",
    "cnn1.summary()"
   ]
  },
  {
   "cell_type": "markdown",
   "metadata": {},
   "source": [
    "#### Run the model\n",
    "We run the model with the training set. We are also using the validation set (a subset from the orginal training set) for validation."
   ]
  },
  {
   "cell_type": "markdown",
   "metadata": {},
   "source": [
    "train_model = model.fit(X_train, y_train,\n",
    "                  batch_size=BATCH_SIZE,\n",
    "                  epochs=NO_EPOCHS,\n",
    "                  verbose=1,\n",
    "                  validation_data=(X_val, y_val))"
   ]
  },
  {
   "cell_type": "code",
   "execution_count": 50,
   "metadata": {},
   "outputs": [
    {
     "name": "stdout",
     "output_type": "stream",
     "text": [
      "Train on 48000 samples, validate on 12000 samples\n",
      "Epoch 1/50\n",
      "48000/48000 [==============================] - 28s 586us/step - loss: 0.5282 - accuracy: 0.8092 - val_loss: 0.3573 - val_accuracy: 0.8748\n",
      "Epoch 2/50\n",
      "48000/48000 [==============================] - 30s 630us/step - loss: 0.3345 - accuracy: 0.8785 - val_loss: 0.3026 - val_accuracy: 0.8935\n",
      "Epoch 3/50\n",
      "48000/48000 [==============================] - 30s 632us/step - loss: 0.2837 - accuracy: 0.8966 - val_loss: 0.2800 - val_accuracy: 0.9016\n",
      "Epoch 4/50\n",
      "48000/48000 [==============================] - 30s 631us/step - loss: 0.2496 - accuracy: 0.9078 - val_loss: 0.2690 - val_accuracy: 0.9028\n",
      "Epoch 5/50\n",
      "48000/48000 [==============================] - 33s 693us/step - loss: 0.2242 - accuracy: 0.9181 - val_loss: 0.2715 - val_accuracy: 0.9053\n",
      "Epoch 6/50\n",
      "48000/48000 [==============================] - 33s 678us/step - loss: 0.2007 - accuracy: 0.9256 - val_loss: 0.2606 - val_accuracy: 0.9093\n",
      "Epoch 7/50\n",
      "48000/48000 [==============================] - 29s 598us/step - loss: 0.1811 - accuracy: 0.9332 - val_loss: 0.2556 - val_accuracy: 0.9105\n",
      "Epoch 8/50\n",
      "48000/48000 [==============================] - 28s 590us/step - loss: 0.1621 - accuracy: 0.9403 - val_loss: 0.2585 - val_accuracy: 0.9128\n",
      "Epoch 9/50\n",
      "48000/48000 [==============================] - 32s 669us/step - loss: 0.1454 - accuracy: 0.9478 - val_loss: 0.2644 - val_accuracy: 0.9155\n",
      "Epoch 10/50\n",
      "48000/48000 [==============================] - 33s 690us/step - loss: 0.1303 - accuracy: 0.9520 - val_loss: 0.2611 - val_accuracy: 0.9128\n",
      "Epoch 11/50\n",
      "48000/48000 [==============================] - 34s 715us/step - loss: 0.1137 - accuracy: 0.9577 - val_loss: 0.3091 - val_accuracy: 0.9078\n",
      "Epoch 12/50\n",
      "48000/48000 [==============================] - 33s 677us/step - loss: 0.1033 - accuracy: 0.9617 - val_loss: 0.2958 - val_accuracy: 0.9172\n",
      "Epoch 13/50\n",
      "48000/48000 [==============================] - 33s 678us/step - loss: 0.0913 - accuracy: 0.9658 - val_loss: 0.2901 - val_accuracy: 0.9112\n",
      "Epoch 14/50\n",
      "48000/48000 [==============================] - 32s 660us/step - loss: 0.0784 - accuracy: 0.9714 - val_loss: 0.3188 - val_accuracy: 0.9135\n",
      "Epoch 15/50\n",
      "48000/48000 [==============================] - 30s 635us/step - loss: 0.0720 - accuracy: 0.9732 - val_loss: 0.3513 - val_accuracy: 0.9082\n",
      "Epoch 16/50\n",
      "48000/48000 [==============================] - 31s 636us/step - loss: 0.0657 - accuracy: 0.9757 - val_loss: 0.3382 - val_accuracy: 0.9107\n",
      "Epoch 17/50\n",
      "48000/48000 [==============================] - 31s 641us/step - loss: 0.0569 - accuracy: 0.9788 - val_loss: 0.3567 - val_accuracy: 0.9135\n",
      "Epoch 18/50\n",
      "48000/48000 [==============================] - 31s 641us/step - loss: 0.0512 - accuracy: 0.9811 - val_loss: 0.3795 - val_accuracy: 0.9087\n",
      "Epoch 19/50\n",
      "48000/48000 [==============================] - 31s 649us/step - loss: 0.0428 - accuracy: 0.9846 - val_loss: 0.3965 - val_accuracy: 0.9144\n",
      "Epoch 20/50\n",
      "48000/48000 [==============================] - 31s 642us/step - loss: 0.0397 - accuracy: 0.9854 - val_loss: 0.4147 - val_accuracy: 0.9126\n",
      "Epoch 21/50\n",
      "48000/48000 [==============================] - 31s 648us/step - loss: 0.0370 - accuracy: 0.9860 - val_loss: 0.4390 - val_accuracy: 0.9129\n",
      "Epoch 22/50\n",
      "48000/48000 [==============================] - 31s 643us/step - loss: 0.0376 - accuracy: 0.9864 - val_loss: 0.4800 - val_accuracy: 0.9063\n",
      "Epoch 23/50\n",
      "48000/48000 [==============================] - 30s 633us/step - loss: 0.0335 - accuracy: 0.9883 - val_loss: 0.5228 - val_accuracy: 0.9118\n",
      "Epoch 24/50\n",
      "48000/48000 [==============================] - 31s 640us/step - loss: 0.0345 - accuracy: 0.9878 - val_loss: 0.4952 - val_accuracy: 0.9133\n",
      "Epoch 25/50\n",
      "48000/48000 [==============================] - 31s 640us/step - loss: 0.0318 - accuracy: 0.9879 - val_loss: 0.4846 - val_accuracy: 0.9116\n",
      "Epoch 26/50\n",
      "48000/48000 [==============================] - 31s 644us/step - loss: 0.0252 - accuracy: 0.9906 - val_loss: 0.5309 - val_accuracy: 0.9125\n",
      "Epoch 27/50\n",
      "48000/48000 [==============================] - 31s 643us/step - loss: 0.0218 - accuracy: 0.9923 - val_loss: 0.5206 - val_accuracy: 0.9120\n",
      "Epoch 28/50\n",
      "48000/48000 [==============================] - 31s 643us/step - loss: 0.0315 - accuracy: 0.9887 - val_loss: 0.5424 - val_accuracy: 0.9090\n",
      "Epoch 29/50\n",
      "48000/48000 [==============================] - 32s 657us/step - loss: 0.0247 - accuracy: 0.9912 - val_loss: 0.5458 - val_accuracy: 0.9058\n",
      "Epoch 30/50\n",
      "48000/48000 [==============================] - 31s 641us/step - loss: 0.0223 - accuracy: 0.9922 - val_loss: 0.5690 - val_accuracy: 0.9126\n",
      "Epoch 31/50\n",
      "48000/48000 [==============================] - 31s 639us/step - loss: 0.0239 - accuracy: 0.9917 - val_loss: 0.5503 - val_accuracy: 0.9112\n",
      "Epoch 32/50\n",
      "48000/48000 [==============================] - 31s 644us/step - loss: 0.0192 - accuracy: 0.9935 - val_loss: 0.6042 - val_accuracy: 0.9073\n",
      "Epoch 33/50\n",
      "48000/48000 [==============================] - 31s 642us/step - loss: 0.0205 - accuracy: 0.9928 - val_loss: 0.5775 - val_accuracy: 0.9136\n",
      "Epoch 34/50\n",
      "48000/48000 [==============================] - 32s 668us/step - loss: 0.0228 - accuracy: 0.9924 - val_loss: 0.5407 - val_accuracy: 0.9088\n",
      "Epoch 35/50\n",
      "48000/48000 [==============================] - 40s 838us/step - loss: 0.0181 - accuracy: 0.9934 - val_loss: 0.5831 - val_accuracy: 0.9125\n",
      "Epoch 36/50\n",
      "48000/48000 [==============================] - 41s 860us/step - loss: 0.0133 - accuracy: 0.9954 - val_loss: 0.6630 - val_accuracy: 0.9107\n",
      "Epoch 37/50\n",
      "48000/48000 [==============================] - 38s 785us/step - loss: 0.0176 - accuracy: 0.9939 - val_loss: 0.5796 - val_accuracy: 0.9086\n",
      "Epoch 38/50\n",
      "48000/48000 [==============================] - 32s 668us/step - loss: 0.0253 - accuracy: 0.9909 - val_loss: 0.6131 - val_accuracy: 0.9111\n",
      "Epoch 39/50\n",
      "48000/48000 [==============================] - 34s 703us/step - loss: 0.0189 - accuracy: 0.9930 - val_loss: 0.6573 - val_accuracy: 0.9116\n",
      "Epoch 40/50\n",
      "48000/48000 [==============================] - 43s 887us/step - loss: 0.0186 - accuracy: 0.9934 - val_loss: 0.6325 - val_accuracy: 0.9066\n",
      "Epoch 41/50\n",
      "48000/48000 [==============================] - 46s 951us/step - loss: 0.0198 - accuracy: 0.9930 - val_loss: 0.6564 - val_accuracy: 0.9102\n",
      "Epoch 42/50\n",
      "48000/48000 [==============================] - 44s 908us/step - loss: 0.0170 - accuracy: 0.9944 - val_loss: 0.6643 - val_accuracy: 0.9118\n",
      "Epoch 43/50\n",
      "48000/48000 [==============================] - 44s 927us/step - loss: 0.0153 - accuracy: 0.9952 - val_loss: 0.7007 - val_accuracy: 0.9049\n",
      "Epoch 44/50\n",
      "48000/48000 [==============================] - 43s 892us/step - loss: 0.0192 - accuracy: 0.9934 - val_loss: 0.6328 - val_accuracy: 0.9108\n",
      "Epoch 45/50\n",
      "48000/48000 [==============================] - 46s 962us/step - loss: 0.0058 - accuracy: 0.9982 - val_loss: 0.7041 - val_accuracy: 0.9070\n",
      "Epoch 46/50\n",
      "48000/48000 [==============================] - 40s 836us/step - loss: 0.0226 - accuracy: 0.9917 - val_loss: 0.6767 - val_accuracy: 0.9113\n",
      "Epoch 47/50\n",
      "48000/48000 [==============================] - 32s 659us/step - loss: 0.0183 - accuracy: 0.9936 - val_loss: 0.7042 - val_accuracy: 0.9077\n",
      "Epoch 48/50\n",
      "48000/48000 [==============================] - 32s 668us/step - loss: 0.0163 - accuracy: 0.9948 - val_loss: 0.6721 - val_accuracy: 0.9124\n",
      "Epoch 49/50\n",
      "48000/48000 [==============================] - 32s 664us/step - loss: 0.0135 - accuracy: 0.9954 - val_loss: 0.7140 - val_accuracy: 0.9049\n",
      "Epoch 50/50\n",
      "48000/48000 [==============================] - 32s 659us/step - loss: 0.0193 - accuracy: 0.9937 - val_loss: 0.7142 - val_accuracy: 0.9112\n"
     ]
    }
   ],
   "source": [
    "start_time = time.time()\n",
    "train_model = cnn1.fit(X_train, y_train,\n",
    "                  batch_size=BATCH_SIZE,\n",
    "                  epochs=NUMBER_OF_EPOCHS,\n",
    "                  verbose=1,\n",
    "                  validation_data=(X_val, y_val))\n",
    "end_time = time.time()\n",
    "duration = end_time - start_time"
   ]
  },
  {
   "cell_type": "markdown",
   "metadata": {},
   "source": [
    "#### Test prediction accuracy\n",
    "We calculate the test loss and accuracy."
   ]
  },
  {
   "cell_type": "code",
   "execution_count": 65,
   "metadata": {},
   "outputs": [
    {
     "name": "stdout",
     "output_type": "stream",
     "text": [
      "10000/10000 [==============================] - 2s 172us/step\n",
      "Test loss: 0.7261430284757167\n",
      "Test accuracy: 0.9100000262260437\n",
      "Duration:  1674.1493618488312\n"
     ]
    }
   ],
   "source": [
    "score = cnn1.evaluate(testX, testY, verbose=1)\n",
    "print('Test loss:', score[0])\n",
    "print('Test accuracy:', score[1])\n",
    "print('Duration: ',duration)"
   ]
  },
  {
   "cell_type": "markdown",
   "metadata": {},
   "source": [
    "Test accuracy is  ~0.91.\n",
    "\n",
    "We evaluated the model accuracy based on the predicted values for the test set. Let's check the validation value during training."
   ]
  },
  {
   "cell_type": "markdown",
   "metadata": {},
   "source": [
    "### Plot Functions"
   ]
  },
  {
   "cell_type": "code",
   "execution_count": 59,
   "metadata": {},
   "outputs": [
    {
     "data": {
      "application/vnd.plotly.v1+json": {
       "config": {
        "linkText": "Export to plot.ly",
        "plotlyServerURL": "https://plot.ly",
        "showLink": false
       },
       "data": [
        {
         "marker": {
          "color": "Green"
         },
         "mode": "markers+lines",
         "name": "Training accuracy",
         "text": [
          "1",
          "2",
          "3",
          "4",
          "5",
          "6",
          "7",
          "8",
          "9",
          "10",
          "11",
          "12",
          "13",
          "14",
          "15",
          "16",
          "17",
          "18",
          "19",
          "20",
          "21",
          "22",
          "23",
          "24",
          "25",
          "26",
          "27",
          "28",
          "29",
          "30",
          "31",
          "32",
          "33",
          "34",
          "35",
          "36",
          "37",
          "38",
          "39",
          "40",
          "41",
          "42",
          "43",
          "44",
          "45",
          "46",
          "47",
          "48",
          "49",
          "50"
         ],
         "type": "scatter",
         "x": [
          1,
          2,
          3,
          4,
          5,
          6,
          7,
          8,
          9,
          10,
          11,
          12,
          13,
          14,
          15,
          16,
          17,
          18,
          19,
          20,
          21,
          22,
          23,
          24,
          25,
          26,
          27,
          28,
          29,
          30,
          31,
          32,
          33,
          34,
          35,
          36,
          37,
          38,
          39,
          40,
          41,
          42,
          43,
          44,
          45,
          46,
          47,
          48,
          49,
          50
         ],
         "xaxis": "x",
         "y": [
          0.809166669845581,
          0.8784791827201843,
          0.8965625166893005,
          0.9077708125114441,
          0.9180833101272583,
          0.9255833625793457,
          0.9331666827201843,
          0.9403125047683716,
          0.9478333592414856,
          0.9520416855812073,
          0.9577083587646484,
          0.9617499709129333,
          0.9657708406448364,
          0.9714166522026062,
          0.9732499718666077,
          0.9757083058357239,
          0.9787916541099548,
          0.9810624718666077,
          0.98458331823349,
          0.9853958487510681,
          0.9859583377838135,
          0.9864374995231628,
          0.9882708191871643,
          0.9877916574478149,
          0.9878749847412109,
          0.9906458258628845,
          0.9922916889190674,
          0.9886666536331177,
          0.9911875128746033,
          0.992229163646698,
          0.9916666746139526,
          0.9934999942779541,
          0.9928333163261414,
          0.992354154586792,
          0.9933958053588867,
          0.995354175567627,
          0.9939374923706055,
          0.9909166693687439,
          0.9930416941642761,
          0.9933958053588867,
          0.9930416941642761,
          0.9944375157356262,
          0.995187520980835,
          0.9933541417121887,
          0.9982083439826965,
          0.9917291402816772,
          0.9935833215713501,
          0.9947500228881836,
          0.995395839214325,
          0.9937499761581421
         ],
         "yaxis": "y"
        },
        {
         "marker": {
          "color": "Red"
         },
         "mode": "markers+lines",
         "name": "Validation accuracy",
         "text": [
          "1",
          "2",
          "3",
          "4",
          "5",
          "6",
          "7",
          "8",
          "9",
          "10",
          "11",
          "12",
          "13",
          "14",
          "15",
          "16",
          "17",
          "18",
          "19",
          "20",
          "21",
          "22",
          "23",
          "24",
          "25",
          "26",
          "27",
          "28",
          "29",
          "30",
          "31",
          "32",
          "33",
          "34",
          "35",
          "36",
          "37",
          "38",
          "39",
          "40",
          "41",
          "42",
          "43",
          "44",
          "45",
          "46",
          "47",
          "48",
          "49",
          "50"
         ],
         "type": "scatter",
         "x": [
          1,
          2,
          3,
          4,
          5,
          6,
          7,
          8,
          9,
          10,
          11,
          12,
          13,
          14,
          15,
          16,
          17,
          18,
          19,
          20,
          21,
          22,
          23,
          24,
          25,
          26,
          27,
          28,
          29,
          30,
          31,
          32,
          33,
          34,
          35,
          36,
          37,
          38,
          39,
          40,
          41,
          42,
          43,
          44,
          45,
          46,
          47,
          48,
          49,
          50
         ],
         "xaxis": "x",
         "y": [
          0.874833345413208,
          0.8934999704360962,
          0.9015833139419556,
          0.9028333425521851,
          0.9052500128746033,
          0.909333348274231,
          0.9104999899864197,
          0.9127500057220459,
          0.9154999852180481,
          0.9128333330154419,
          0.9078333377838135,
          0.9172499775886536,
          0.9111666679382324,
          0.9135000109672546,
          0.9081666469573975,
          0.9106666445732117,
          0.9135000109672546,
          0.9087499976158142,
          0.9144166707992554,
          0.9125833511352539,
          0.9129166603088379,
          0.906333327293396,
          0.9118333458900452,
          0.9132500290870667,
          0.9115833044052124,
          0.9125000238418579,
          0.9120000004768372,
          0.9089999794960022,
          0.9058333039283752,
          0.9125833511352539,
          0.9111666679382324,
          0.9073333144187927,
          0.9135833382606506,
          0.9088333249092102,
          0.9125000238418579,
          0.9107499718666077,
          0.9085833430290222,
          0.9110833406448364,
          0.9115833044052124,
          0.906583309173584,
          0.9101666808128357,
          0.9118333458900452,
          0.9049166440963745,
          0.9108333587646484,
          0.9070000052452087,
          0.9113333225250244,
          0.9076666831970215,
          0.9124166369438171,
          0.9049166440963745,
          0.9111666679382324
         ],
         "yaxis": "y"
        },
        {
         "marker": {
          "color": "Blue"
         },
         "mode": "markers+lines",
         "name": "Training loss",
         "text": [
          "1",
          "2",
          "3",
          "4",
          "5",
          "6",
          "7",
          "8",
          "9",
          "10",
          "11",
          "12",
          "13",
          "14",
          "15",
          "16",
          "17",
          "18",
          "19",
          "20",
          "21",
          "22",
          "23",
          "24",
          "25",
          "26",
          "27",
          "28",
          "29",
          "30",
          "31",
          "32",
          "33",
          "34",
          "35",
          "36",
          "37",
          "38",
          "39",
          "40",
          "41",
          "42",
          "43",
          "44",
          "45",
          "46",
          "47",
          "48",
          "49",
          "50"
         ],
         "type": "scatter",
         "x": [
          1,
          2,
          3,
          4,
          5,
          6,
          7,
          8,
          9,
          10,
          11,
          12,
          13,
          14,
          15,
          16,
          17,
          18,
          19,
          20,
          21,
          22,
          23,
          24,
          25,
          26,
          27,
          28,
          29,
          30,
          31,
          32,
          33,
          34,
          35,
          36,
          37,
          38,
          39,
          40,
          41,
          42,
          43,
          44,
          45,
          46,
          47,
          48,
          49,
          50
         ],
         "xaxis": "x2",
         "y": [
          0.5282230617602667,
          0.334524339834849,
          0.28366983314355215,
          0.24964625704288482,
          0.22424811271826425,
          0.20068239893515905,
          0.1811288100282351,
          0.16213645738363267,
          0.14535516779621444,
          0.1303064364095529,
          0.11372106403112411,
          0.10332351567347844,
          0.09126870693763098,
          0.07842794209221998,
          0.07196922450512648,
          0.06567180549105009,
          0.0569202779357632,
          0.051180692420651513,
          0.042822596819450456,
          0.03970842905094226,
          0.03704788890480995,
          0.0375626676628987,
          0.03351120079991718,
          0.03453319437149912,
          0.03182607516522209,
          0.025215073012436428,
          0.021784511897712945,
          0.031535396926725905,
          0.02471089026456078,
          0.022326057681192956,
          0.023865219659171998,
          0.019203380446260174,
          0.020479677121543013,
          0.022774616001872347,
          0.01813076080242172,
          0.013314396576529058,
          0.01760576521915694,
          0.025293091409141197,
          0.018910015740276623,
          0.01864843434592088,
          0.019753630513713386,
          0.017044445142227537,
          0.015295902987631659,
          0.0192244185936482,
          0.00577341684588464,
          0.022615403911098838,
          0.018294844209061314,
          0.016293805573756495,
          0.013485856807868306,
          0.019254880158773933
         ],
         "yaxis": "y2"
        },
        {
         "marker": {
          "color": "Orange"
         },
         "mode": "markers+lines",
         "name": "Validation loss",
         "text": [
          "1",
          "2",
          "3",
          "4",
          "5",
          "6",
          "7",
          "8",
          "9",
          "10",
          "11",
          "12",
          "13",
          "14",
          "15",
          "16",
          "17",
          "18",
          "19",
          "20",
          "21",
          "22",
          "23",
          "24",
          "25",
          "26",
          "27",
          "28",
          "29",
          "30",
          "31",
          "32",
          "33",
          "34",
          "35",
          "36",
          "37",
          "38",
          "39",
          "40",
          "41",
          "42",
          "43",
          "44",
          "45",
          "46",
          "47",
          "48",
          "49",
          "50"
         ],
         "type": "scatter",
         "x": [
          1,
          2,
          3,
          4,
          5,
          6,
          7,
          8,
          9,
          10,
          11,
          12,
          13,
          14,
          15,
          16,
          17,
          18,
          19,
          20,
          21,
          22,
          23,
          24,
          25,
          26,
          27,
          28,
          29,
          30,
          31,
          32,
          33,
          34,
          35,
          36,
          37,
          38,
          39,
          40,
          41,
          42,
          43,
          44,
          45,
          46,
          47,
          48,
          49,
          50
         ],
         "xaxis": "x2",
         "y": [
          0.35725178448359174,
          0.3025678978761037,
          0.2799963643550873,
          0.26895265634854637,
          0.27151863515377045,
          0.26058018509546915,
          0.2556145356496175,
          0.25846447511514026,
          0.2643948723077774,
          0.26109466767311096,
          0.309106094678243,
          0.295760502576828,
          0.29013051819801333,
          0.31883720215161643,
          0.35125979367891946,
          0.3382245107491811,
          0.35674791320165,
          0.3794988374710083,
          0.39654698173205055,
          0.4147164083321889,
          0.43899666571617124,
          0.48001114384333293,
          0.522780254761378,
          0.4952022904555003,
          0.4846269675890605,
          0.5309448091189066,
          0.5205782912572225,
          0.542435599565506,
          0.5458392705917359,
          0.5689880998929342,
          0.5502744285265605,
          0.6042390491167704,
          0.5775276430447897,
          0.540731159845988,
          0.583131705125173,
          0.6629742578665415,
          0.579590225537618,
          0.6131165596644084,
          0.6573465908368429,
          0.632456749757131,
          0.6564359157880147,
          0.6643284929593404,
          0.7007405815124512,
          0.6328375452359517,
          0.7041298608779907,
          0.6767135210037232,
          0.7041989733378092,
          0.6721192059516907,
          0.7140390836397806,
          0.714179190158844
         ],
         "yaxis": "y2"
        }
       ],
       "layout": {
        "annotations": [
         {
          "font": {
           "size": 16
          },
          "showarrow": false,
          "text": "Training and validation accuracy",
          "x": 0.225,
          "xanchor": "center",
          "xref": "paper",
          "y": 1,
          "yanchor": "bottom",
          "yref": "paper"
         },
         {
          "font": {
           "size": 16
          },
          "showarrow": false,
          "text": "Training and validation loss",
          "x": 0.775,
          "xanchor": "center",
          "xref": "paper",
          "y": 1,
          "yanchor": "bottom",
          "yref": "paper"
         }
        ],
        "template": {
         "data": {
          "bar": [
           {
            "error_x": {
             "color": "#2a3f5f"
            },
            "error_y": {
             "color": "#2a3f5f"
            },
            "marker": {
             "line": {
              "color": "#E5ECF6",
              "width": 0.5
             }
            },
            "type": "bar"
           }
          ],
          "barpolar": [
           {
            "marker": {
             "line": {
              "color": "#E5ECF6",
              "width": 0.5
             }
            },
            "type": "barpolar"
           }
          ],
          "carpet": [
           {
            "aaxis": {
             "endlinecolor": "#2a3f5f",
             "gridcolor": "white",
             "linecolor": "white",
             "minorgridcolor": "white",
             "startlinecolor": "#2a3f5f"
            },
            "baxis": {
             "endlinecolor": "#2a3f5f",
             "gridcolor": "white",
             "linecolor": "white",
             "minorgridcolor": "white",
             "startlinecolor": "#2a3f5f"
            },
            "type": "carpet"
           }
          ],
          "choropleth": [
           {
            "colorbar": {
             "outlinewidth": 0,
             "ticks": ""
            },
            "type": "choropleth"
           }
          ],
          "contour": [
           {
            "colorbar": {
             "outlinewidth": 0,
             "ticks": ""
            },
            "colorscale": [
             [
              0,
              "#0d0887"
             ],
             [
              0.1111111111111111,
              "#46039f"
             ],
             [
              0.2222222222222222,
              "#7201a8"
             ],
             [
              0.3333333333333333,
              "#9c179e"
             ],
             [
              0.4444444444444444,
              "#bd3786"
             ],
             [
              0.5555555555555556,
              "#d8576b"
             ],
             [
              0.6666666666666666,
              "#ed7953"
             ],
             [
              0.7777777777777778,
              "#fb9f3a"
             ],
             [
              0.8888888888888888,
              "#fdca26"
             ],
             [
              1,
              "#f0f921"
             ]
            ],
            "type": "contour"
           }
          ],
          "contourcarpet": [
           {
            "colorbar": {
             "outlinewidth": 0,
             "ticks": ""
            },
            "type": "contourcarpet"
           }
          ],
          "heatmap": [
           {
            "colorbar": {
             "outlinewidth": 0,
             "ticks": ""
            },
            "colorscale": [
             [
              0,
              "#0d0887"
             ],
             [
              0.1111111111111111,
              "#46039f"
             ],
             [
              0.2222222222222222,
              "#7201a8"
             ],
             [
              0.3333333333333333,
              "#9c179e"
             ],
             [
              0.4444444444444444,
              "#bd3786"
             ],
             [
              0.5555555555555556,
              "#d8576b"
             ],
             [
              0.6666666666666666,
              "#ed7953"
             ],
             [
              0.7777777777777778,
              "#fb9f3a"
             ],
             [
              0.8888888888888888,
              "#fdca26"
             ],
             [
              1,
              "#f0f921"
             ]
            ],
            "type": "heatmap"
           }
          ],
          "heatmapgl": [
           {
            "colorbar": {
             "outlinewidth": 0,
             "ticks": ""
            },
            "colorscale": [
             [
              0,
              "#0d0887"
             ],
             [
              0.1111111111111111,
              "#46039f"
             ],
             [
              0.2222222222222222,
              "#7201a8"
             ],
             [
              0.3333333333333333,
              "#9c179e"
             ],
             [
              0.4444444444444444,
              "#bd3786"
             ],
             [
              0.5555555555555556,
              "#d8576b"
             ],
             [
              0.6666666666666666,
              "#ed7953"
             ],
             [
              0.7777777777777778,
              "#fb9f3a"
             ],
             [
              0.8888888888888888,
              "#fdca26"
             ],
             [
              1,
              "#f0f921"
             ]
            ],
            "type": "heatmapgl"
           }
          ],
          "histogram": [
           {
            "marker": {
             "colorbar": {
              "outlinewidth": 0,
              "ticks": ""
             }
            },
            "type": "histogram"
           }
          ],
          "histogram2d": [
           {
            "colorbar": {
             "outlinewidth": 0,
             "ticks": ""
            },
            "colorscale": [
             [
              0,
              "#0d0887"
             ],
             [
              0.1111111111111111,
              "#46039f"
             ],
             [
              0.2222222222222222,
              "#7201a8"
             ],
             [
              0.3333333333333333,
              "#9c179e"
             ],
             [
              0.4444444444444444,
              "#bd3786"
             ],
             [
              0.5555555555555556,
              "#d8576b"
             ],
             [
              0.6666666666666666,
              "#ed7953"
             ],
             [
              0.7777777777777778,
              "#fb9f3a"
             ],
             [
              0.8888888888888888,
              "#fdca26"
             ],
             [
              1,
              "#f0f921"
             ]
            ],
            "type": "histogram2d"
           }
          ],
          "histogram2dcontour": [
           {
            "colorbar": {
             "outlinewidth": 0,
             "ticks": ""
            },
            "colorscale": [
             [
              0,
              "#0d0887"
             ],
             [
              0.1111111111111111,
              "#46039f"
             ],
             [
              0.2222222222222222,
              "#7201a8"
             ],
             [
              0.3333333333333333,
              "#9c179e"
             ],
             [
              0.4444444444444444,
              "#bd3786"
             ],
             [
              0.5555555555555556,
              "#d8576b"
             ],
             [
              0.6666666666666666,
              "#ed7953"
             ],
             [
              0.7777777777777778,
              "#fb9f3a"
             ],
             [
              0.8888888888888888,
              "#fdca26"
             ],
             [
              1,
              "#f0f921"
             ]
            ],
            "type": "histogram2dcontour"
           }
          ],
          "mesh3d": [
           {
            "colorbar": {
             "outlinewidth": 0,
             "ticks": ""
            },
            "type": "mesh3d"
           }
          ],
          "parcoords": [
           {
            "line": {
             "colorbar": {
              "outlinewidth": 0,
              "ticks": ""
             }
            },
            "type": "parcoords"
           }
          ],
          "pie": [
           {
            "automargin": true,
            "type": "pie"
           }
          ],
          "scatter": [
           {
            "marker": {
             "colorbar": {
              "outlinewidth": 0,
              "ticks": ""
             }
            },
            "type": "scatter"
           }
          ],
          "scatter3d": [
           {
            "line": {
             "colorbar": {
              "outlinewidth": 0,
              "ticks": ""
             }
            },
            "marker": {
             "colorbar": {
              "outlinewidth": 0,
              "ticks": ""
             }
            },
            "type": "scatter3d"
           }
          ],
          "scattercarpet": [
           {
            "marker": {
             "colorbar": {
              "outlinewidth": 0,
              "ticks": ""
             }
            },
            "type": "scattercarpet"
           }
          ],
          "scattergeo": [
           {
            "marker": {
             "colorbar": {
              "outlinewidth": 0,
              "ticks": ""
             }
            },
            "type": "scattergeo"
           }
          ],
          "scattergl": [
           {
            "marker": {
             "colorbar": {
              "outlinewidth": 0,
              "ticks": ""
             }
            },
            "type": "scattergl"
           }
          ],
          "scattermapbox": [
           {
            "marker": {
             "colorbar": {
              "outlinewidth": 0,
              "ticks": ""
             }
            },
            "type": "scattermapbox"
           }
          ],
          "scatterpolar": [
           {
            "marker": {
             "colorbar": {
              "outlinewidth": 0,
              "ticks": ""
             }
            },
            "type": "scatterpolar"
           }
          ],
          "scatterpolargl": [
           {
            "marker": {
             "colorbar": {
              "outlinewidth": 0,
              "ticks": ""
             }
            },
            "type": "scatterpolargl"
           }
          ],
          "scatterternary": [
           {
            "marker": {
             "colorbar": {
              "outlinewidth": 0,
              "ticks": ""
             }
            },
            "type": "scatterternary"
           }
          ],
          "surface": [
           {
            "colorbar": {
             "outlinewidth": 0,
             "ticks": ""
            },
            "colorscale": [
             [
              0,
              "#0d0887"
             ],
             [
              0.1111111111111111,
              "#46039f"
             ],
             [
              0.2222222222222222,
              "#7201a8"
             ],
             [
              0.3333333333333333,
              "#9c179e"
             ],
             [
              0.4444444444444444,
              "#bd3786"
             ],
             [
              0.5555555555555556,
              "#d8576b"
             ],
             [
              0.6666666666666666,
              "#ed7953"
             ],
             [
              0.7777777777777778,
              "#fb9f3a"
             ],
             [
              0.8888888888888888,
              "#fdca26"
             ],
             [
              1,
              "#f0f921"
             ]
            ],
            "type": "surface"
           }
          ],
          "table": [
           {
            "cells": {
             "fill": {
              "color": "#EBF0F8"
             },
             "line": {
              "color": "white"
             }
            },
            "header": {
             "fill": {
              "color": "#C8D4E3"
             },
             "line": {
              "color": "white"
             }
            },
            "type": "table"
           }
          ]
         },
         "layout": {
          "annotationdefaults": {
           "arrowcolor": "#2a3f5f",
           "arrowhead": 0,
           "arrowwidth": 1
          },
          "coloraxis": {
           "colorbar": {
            "outlinewidth": 0,
            "ticks": ""
           }
          },
          "colorscale": {
           "diverging": [
            [
             0,
             "#8e0152"
            ],
            [
             0.1,
             "#c51b7d"
            ],
            [
             0.2,
             "#de77ae"
            ],
            [
             0.3,
             "#f1b6da"
            ],
            [
             0.4,
             "#fde0ef"
            ],
            [
             0.5,
             "#f7f7f7"
            ],
            [
             0.6,
             "#e6f5d0"
            ],
            [
             0.7,
             "#b8e186"
            ],
            [
             0.8,
             "#7fbc41"
            ],
            [
             0.9,
             "#4d9221"
            ],
            [
             1,
             "#276419"
            ]
           ],
           "sequential": [
            [
             0,
             "#0d0887"
            ],
            [
             0.1111111111111111,
             "#46039f"
            ],
            [
             0.2222222222222222,
             "#7201a8"
            ],
            [
             0.3333333333333333,
             "#9c179e"
            ],
            [
             0.4444444444444444,
             "#bd3786"
            ],
            [
             0.5555555555555556,
             "#d8576b"
            ],
            [
             0.6666666666666666,
             "#ed7953"
            ],
            [
             0.7777777777777778,
             "#fb9f3a"
            ],
            [
             0.8888888888888888,
             "#fdca26"
            ],
            [
             1,
             "#f0f921"
            ]
           ],
           "sequentialminus": [
            [
             0,
             "#0d0887"
            ],
            [
             0.1111111111111111,
             "#46039f"
            ],
            [
             0.2222222222222222,
             "#7201a8"
            ],
            [
             0.3333333333333333,
             "#9c179e"
            ],
            [
             0.4444444444444444,
             "#bd3786"
            ],
            [
             0.5555555555555556,
             "#d8576b"
            ],
            [
             0.6666666666666666,
             "#ed7953"
            ],
            [
             0.7777777777777778,
             "#fb9f3a"
            ],
            [
             0.8888888888888888,
             "#fdca26"
            ],
            [
             1,
             "#f0f921"
            ]
           ]
          },
          "colorway": [
           "#636efa",
           "#EF553B",
           "#00cc96",
           "#ab63fa",
           "#FFA15A",
           "#19d3f3",
           "#FF6692",
           "#B6E880",
           "#FF97FF",
           "#FECB52"
          ],
          "font": {
           "color": "#2a3f5f"
          },
          "geo": {
           "bgcolor": "white",
           "lakecolor": "white",
           "landcolor": "#E5ECF6",
           "showlakes": true,
           "showland": true,
           "subunitcolor": "white"
          },
          "hoverlabel": {
           "align": "left"
          },
          "hovermode": "closest",
          "mapbox": {
           "style": "light"
          },
          "paper_bgcolor": "white",
          "plot_bgcolor": "#E5ECF6",
          "polar": {
           "angularaxis": {
            "gridcolor": "white",
            "linecolor": "white",
            "ticks": ""
           },
           "bgcolor": "#E5ECF6",
           "radialaxis": {
            "gridcolor": "white",
            "linecolor": "white",
            "ticks": ""
           }
          },
          "scene": {
           "xaxis": {
            "backgroundcolor": "#E5ECF6",
            "gridcolor": "white",
            "gridwidth": 2,
            "linecolor": "white",
            "showbackground": true,
            "ticks": "",
            "zerolinecolor": "white"
           },
           "yaxis": {
            "backgroundcolor": "#E5ECF6",
            "gridcolor": "white",
            "gridwidth": 2,
            "linecolor": "white",
            "showbackground": true,
            "ticks": "",
            "zerolinecolor": "white"
           },
           "zaxis": {
            "backgroundcolor": "#E5ECF6",
            "gridcolor": "white",
            "gridwidth": 2,
            "linecolor": "white",
            "showbackground": true,
            "ticks": "",
            "zerolinecolor": "white"
           }
          },
          "shapedefaults": {
           "line": {
            "color": "#2a3f5f"
           }
          },
          "ternary": {
           "aaxis": {
            "gridcolor": "white",
            "linecolor": "white",
            "ticks": ""
           },
           "baxis": {
            "gridcolor": "white",
            "linecolor": "white",
            "ticks": ""
           },
           "bgcolor": "#E5ECF6",
           "caxis": {
            "gridcolor": "white",
            "linecolor": "white",
            "ticks": ""
           }
          },
          "title": {
           "x": 0.05
          },
          "xaxis": {
           "automargin": true,
           "gridcolor": "white",
           "linecolor": "white",
           "ticks": "",
           "title": {
            "standoff": 15
           },
           "zerolinecolor": "white",
           "zerolinewidth": 2
          },
          "yaxis": {
           "automargin": true,
           "gridcolor": "white",
           "linecolor": "white",
           "ticks": "",
           "title": {
            "standoff": 15
           },
           "zerolinecolor": "white",
           "zerolinewidth": 2
          }
         }
        },
        "xaxis": {
         "anchor": "y",
         "domain": [
          0,
          0.45
         ],
         "title": {
          "text": "Epoch"
         }
        },
        "xaxis2": {
         "anchor": "y2",
         "domain": [
          0.55,
          1
         ],
         "title": {
          "text": "Epoch"
         }
        },
        "yaxis": {
         "anchor": "x",
         "domain": [
          0,
          1
         ],
         "range": [
          0,
          1
         ],
         "title": {
          "text": "Accuracy"
         }
        },
        "yaxis2": {
         "anchor": "x2",
         "domain": [
          0,
          1
         ],
         "range": [
          0,
          1
         ],
         "title": {
          "text": "Loss"
         }
        }
       }
      },
      "text/html": [
       "<div>\n",
       "        \n",
       "        \n",
       "            <div id=\"7f756b13-feab-4623-9930-61d19e724752\" class=\"plotly-graph-div\" style=\"height:525px; width:100%;\"></div>\n",
       "            <script type=\"text/javascript\">\n",
       "                require([\"plotly\"], function(Plotly) {\n",
       "                    window.PLOTLYENV=window.PLOTLYENV || {};\n",
       "                    \n",
       "                if (document.getElementById(\"7f756b13-feab-4623-9930-61d19e724752\")) {\n",
       "                    Plotly.newPlot(\n",
       "                        '7f756b13-feab-4623-9930-61d19e724752',\n",
       "                        [{\"marker\": {\"color\": \"Green\"}, \"mode\": \"markers+lines\", \"name\": \"Training accuracy\", \"text\": [\"1\", \"2\", \"3\", \"4\", \"5\", \"6\", \"7\", \"8\", \"9\", \"10\", \"11\", \"12\", \"13\", \"14\", \"15\", \"16\", \"17\", \"18\", \"19\", \"20\", \"21\", \"22\", \"23\", \"24\", \"25\", \"26\", \"27\", \"28\", \"29\", \"30\", \"31\", \"32\", \"33\", \"34\", \"35\", \"36\", \"37\", \"38\", \"39\", \"40\", \"41\", \"42\", \"43\", \"44\", \"45\", \"46\", \"47\", \"48\", \"49\", \"50\"], \"type\": \"scatter\", \"x\": [1, 2, 3, 4, 5, 6, 7, 8, 9, 10, 11, 12, 13, 14, 15, 16, 17, 18, 19, 20, 21, 22, 23, 24, 25, 26, 27, 28, 29, 30, 31, 32, 33, 34, 35, 36, 37, 38, 39, 40, 41, 42, 43, 44, 45, 46, 47, 48, 49, 50], \"xaxis\": \"x\", \"y\": [0.809166669845581, 0.8784791827201843, 0.8965625166893005, 0.9077708125114441, 0.9180833101272583, 0.9255833625793457, 0.9331666827201843, 0.9403125047683716, 0.9478333592414856, 0.9520416855812073, 0.9577083587646484, 0.9617499709129333, 0.9657708406448364, 0.9714166522026062, 0.9732499718666077, 0.9757083058357239, 0.9787916541099548, 0.9810624718666077, 0.98458331823349, 0.9853958487510681, 0.9859583377838135, 0.9864374995231628, 0.9882708191871643, 0.9877916574478149, 0.9878749847412109, 0.9906458258628845, 0.9922916889190674, 0.9886666536331177, 0.9911875128746033, 0.992229163646698, 0.9916666746139526, 0.9934999942779541, 0.9928333163261414, 0.992354154586792, 0.9933958053588867, 0.995354175567627, 0.9939374923706055, 0.9909166693687439, 0.9930416941642761, 0.9933958053588867, 0.9930416941642761, 0.9944375157356262, 0.995187520980835, 0.9933541417121887, 0.9982083439826965, 0.9917291402816772, 0.9935833215713501, 0.9947500228881836, 0.995395839214325, 0.9937499761581421], \"yaxis\": \"y\"}, {\"marker\": {\"color\": \"Red\"}, \"mode\": \"markers+lines\", \"name\": \"Validation accuracy\", \"text\": [\"1\", \"2\", \"3\", \"4\", \"5\", \"6\", \"7\", \"8\", \"9\", \"10\", \"11\", \"12\", \"13\", \"14\", \"15\", \"16\", \"17\", \"18\", \"19\", \"20\", \"21\", \"22\", \"23\", \"24\", \"25\", \"26\", \"27\", \"28\", \"29\", \"30\", \"31\", \"32\", \"33\", \"34\", \"35\", \"36\", \"37\", \"38\", \"39\", \"40\", \"41\", \"42\", \"43\", \"44\", \"45\", \"46\", \"47\", \"48\", \"49\", \"50\"], \"type\": \"scatter\", \"x\": [1, 2, 3, 4, 5, 6, 7, 8, 9, 10, 11, 12, 13, 14, 15, 16, 17, 18, 19, 20, 21, 22, 23, 24, 25, 26, 27, 28, 29, 30, 31, 32, 33, 34, 35, 36, 37, 38, 39, 40, 41, 42, 43, 44, 45, 46, 47, 48, 49, 50], \"xaxis\": \"x\", \"y\": [0.874833345413208, 0.8934999704360962, 0.9015833139419556, 0.9028333425521851, 0.9052500128746033, 0.909333348274231, 0.9104999899864197, 0.9127500057220459, 0.9154999852180481, 0.9128333330154419, 0.9078333377838135, 0.9172499775886536, 0.9111666679382324, 0.9135000109672546, 0.9081666469573975, 0.9106666445732117, 0.9135000109672546, 0.9087499976158142, 0.9144166707992554, 0.9125833511352539, 0.9129166603088379, 0.906333327293396, 0.9118333458900452, 0.9132500290870667, 0.9115833044052124, 0.9125000238418579, 0.9120000004768372, 0.9089999794960022, 0.9058333039283752, 0.9125833511352539, 0.9111666679382324, 0.9073333144187927, 0.9135833382606506, 0.9088333249092102, 0.9125000238418579, 0.9107499718666077, 0.9085833430290222, 0.9110833406448364, 0.9115833044052124, 0.906583309173584, 0.9101666808128357, 0.9118333458900452, 0.9049166440963745, 0.9108333587646484, 0.9070000052452087, 0.9113333225250244, 0.9076666831970215, 0.9124166369438171, 0.9049166440963745, 0.9111666679382324], \"yaxis\": \"y\"}, {\"marker\": {\"color\": \"Blue\"}, \"mode\": \"markers+lines\", \"name\": \"Training loss\", \"text\": [\"1\", \"2\", \"3\", \"4\", \"5\", \"6\", \"7\", \"8\", \"9\", \"10\", \"11\", \"12\", \"13\", \"14\", \"15\", \"16\", \"17\", \"18\", \"19\", \"20\", \"21\", \"22\", \"23\", \"24\", \"25\", \"26\", \"27\", \"28\", \"29\", \"30\", \"31\", \"32\", \"33\", \"34\", \"35\", \"36\", \"37\", \"38\", \"39\", \"40\", \"41\", \"42\", \"43\", \"44\", \"45\", \"46\", \"47\", \"48\", \"49\", \"50\"], \"type\": \"scatter\", \"x\": [1, 2, 3, 4, 5, 6, 7, 8, 9, 10, 11, 12, 13, 14, 15, 16, 17, 18, 19, 20, 21, 22, 23, 24, 25, 26, 27, 28, 29, 30, 31, 32, 33, 34, 35, 36, 37, 38, 39, 40, 41, 42, 43, 44, 45, 46, 47, 48, 49, 50], \"xaxis\": \"x2\", \"y\": [0.5282230617602667, 0.334524339834849, 0.28366983314355215, 0.24964625704288482, 0.22424811271826425, 0.20068239893515905, 0.1811288100282351, 0.16213645738363267, 0.14535516779621444, 0.1303064364095529, 0.11372106403112411, 0.10332351567347844, 0.09126870693763098, 0.07842794209221998, 0.07196922450512648, 0.06567180549105009, 0.0569202779357632, 0.051180692420651513, 0.042822596819450456, 0.03970842905094226, 0.03704788890480995, 0.0375626676628987, 0.03351120079991718, 0.03453319437149912, 0.03182607516522209, 0.025215073012436428, 0.021784511897712945, 0.031535396926725905, 0.02471089026456078, 0.022326057681192956, 0.023865219659171998, 0.019203380446260174, 0.020479677121543013, 0.022774616001872347, 0.01813076080242172, 0.013314396576529058, 0.01760576521915694, 0.025293091409141197, 0.018910015740276623, 0.01864843434592088, 0.019753630513713386, 0.017044445142227537, 0.015295902987631659, 0.0192244185936482, 0.00577341684588464, 0.022615403911098838, 0.018294844209061314, 0.016293805573756495, 0.013485856807868306, 0.019254880158773933], \"yaxis\": \"y2\"}, {\"marker\": {\"color\": \"Orange\"}, \"mode\": \"markers+lines\", \"name\": \"Validation loss\", \"text\": [\"1\", \"2\", \"3\", \"4\", \"5\", \"6\", \"7\", \"8\", \"9\", \"10\", \"11\", \"12\", \"13\", \"14\", \"15\", \"16\", \"17\", \"18\", \"19\", \"20\", \"21\", \"22\", \"23\", \"24\", \"25\", \"26\", \"27\", \"28\", \"29\", \"30\", \"31\", \"32\", \"33\", \"34\", \"35\", \"36\", \"37\", \"38\", \"39\", \"40\", \"41\", \"42\", \"43\", \"44\", \"45\", \"46\", \"47\", \"48\", \"49\", \"50\"], \"type\": \"scatter\", \"x\": [1, 2, 3, 4, 5, 6, 7, 8, 9, 10, 11, 12, 13, 14, 15, 16, 17, 18, 19, 20, 21, 22, 23, 24, 25, 26, 27, 28, 29, 30, 31, 32, 33, 34, 35, 36, 37, 38, 39, 40, 41, 42, 43, 44, 45, 46, 47, 48, 49, 50], \"xaxis\": \"x2\", \"y\": [0.35725178448359174, 0.3025678978761037, 0.2799963643550873, 0.26895265634854637, 0.27151863515377045, 0.26058018509546915, 0.2556145356496175, 0.25846447511514026, 0.2643948723077774, 0.26109466767311096, 0.309106094678243, 0.295760502576828, 0.29013051819801333, 0.31883720215161643, 0.35125979367891946, 0.3382245107491811, 0.35674791320165, 0.3794988374710083, 0.39654698173205055, 0.4147164083321889, 0.43899666571617124, 0.48001114384333293, 0.522780254761378, 0.4952022904555003, 0.4846269675890605, 0.5309448091189066, 0.5205782912572225, 0.542435599565506, 0.5458392705917359, 0.5689880998929342, 0.5502744285265605, 0.6042390491167704, 0.5775276430447897, 0.540731159845988, 0.583131705125173, 0.6629742578665415, 0.579590225537618, 0.6131165596644084, 0.6573465908368429, 0.632456749757131, 0.6564359157880147, 0.6643284929593404, 0.7007405815124512, 0.6328375452359517, 0.7041298608779907, 0.6767135210037232, 0.7041989733378092, 0.6721192059516907, 0.7140390836397806, 0.714179190158844], \"yaxis\": \"y2\"}],\n",
       "                        {\"annotations\": [{\"font\": {\"size\": 16}, \"showarrow\": false, \"text\": \"Training and validation accuracy\", \"x\": 0.225, \"xanchor\": \"center\", \"xref\": \"paper\", \"y\": 1.0, \"yanchor\": \"bottom\", \"yref\": \"paper\"}, {\"font\": {\"size\": 16}, \"showarrow\": false, \"text\": \"Training and validation loss\", \"x\": 0.775, \"xanchor\": \"center\", \"xref\": \"paper\", \"y\": 1.0, \"yanchor\": \"bottom\", \"yref\": \"paper\"}], \"template\": {\"data\": {\"bar\": [{\"error_x\": {\"color\": \"#2a3f5f\"}, \"error_y\": {\"color\": \"#2a3f5f\"}, \"marker\": {\"line\": {\"color\": \"#E5ECF6\", \"width\": 0.5}}, \"type\": \"bar\"}], \"barpolar\": [{\"marker\": {\"line\": {\"color\": \"#E5ECF6\", \"width\": 0.5}}, \"type\": \"barpolar\"}], \"carpet\": [{\"aaxis\": {\"endlinecolor\": \"#2a3f5f\", \"gridcolor\": \"white\", \"linecolor\": \"white\", \"minorgridcolor\": \"white\", \"startlinecolor\": \"#2a3f5f\"}, \"baxis\": {\"endlinecolor\": \"#2a3f5f\", \"gridcolor\": \"white\", \"linecolor\": \"white\", \"minorgridcolor\": \"white\", \"startlinecolor\": \"#2a3f5f\"}, \"type\": \"carpet\"}], \"choropleth\": [{\"colorbar\": {\"outlinewidth\": 0, \"ticks\": \"\"}, \"type\": \"choropleth\"}], \"contour\": [{\"colorbar\": {\"outlinewidth\": 0, \"ticks\": \"\"}, \"colorscale\": [[0.0, \"#0d0887\"], [0.1111111111111111, \"#46039f\"], [0.2222222222222222, \"#7201a8\"], [0.3333333333333333, \"#9c179e\"], [0.4444444444444444, \"#bd3786\"], [0.5555555555555556, \"#d8576b\"], [0.6666666666666666, \"#ed7953\"], [0.7777777777777778, \"#fb9f3a\"], [0.8888888888888888, \"#fdca26\"], [1.0, \"#f0f921\"]], \"type\": \"contour\"}], \"contourcarpet\": [{\"colorbar\": {\"outlinewidth\": 0, \"ticks\": \"\"}, \"type\": \"contourcarpet\"}], \"heatmap\": [{\"colorbar\": {\"outlinewidth\": 0, \"ticks\": \"\"}, \"colorscale\": [[0.0, \"#0d0887\"], [0.1111111111111111, \"#46039f\"], [0.2222222222222222, \"#7201a8\"], [0.3333333333333333, \"#9c179e\"], [0.4444444444444444, \"#bd3786\"], [0.5555555555555556, \"#d8576b\"], [0.6666666666666666, \"#ed7953\"], [0.7777777777777778, \"#fb9f3a\"], [0.8888888888888888, \"#fdca26\"], [1.0, \"#f0f921\"]], \"type\": \"heatmap\"}], \"heatmapgl\": [{\"colorbar\": {\"outlinewidth\": 0, \"ticks\": \"\"}, \"colorscale\": [[0.0, \"#0d0887\"], [0.1111111111111111, \"#46039f\"], [0.2222222222222222, \"#7201a8\"], [0.3333333333333333, \"#9c179e\"], [0.4444444444444444, \"#bd3786\"], [0.5555555555555556, \"#d8576b\"], [0.6666666666666666, \"#ed7953\"], [0.7777777777777778, \"#fb9f3a\"], [0.8888888888888888, \"#fdca26\"], [1.0, \"#f0f921\"]], \"type\": \"heatmapgl\"}], \"histogram\": [{\"marker\": {\"colorbar\": {\"outlinewidth\": 0, \"ticks\": \"\"}}, \"type\": \"histogram\"}], \"histogram2d\": [{\"colorbar\": {\"outlinewidth\": 0, \"ticks\": \"\"}, \"colorscale\": [[0.0, \"#0d0887\"], [0.1111111111111111, \"#46039f\"], [0.2222222222222222, \"#7201a8\"], [0.3333333333333333, \"#9c179e\"], [0.4444444444444444, \"#bd3786\"], [0.5555555555555556, \"#d8576b\"], [0.6666666666666666, \"#ed7953\"], [0.7777777777777778, \"#fb9f3a\"], [0.8888888888888888, \"#fdca26\"], [1.0, \"#f0f921\"]], \"type\": \"histogram2d\"}], \"histogram2dcontour\": [{\"colorbar\": {\"outlinewidth\": 0, \"ticks\": \"\"}, \"colorscale\": [[0.0, \"#0d0887\"], [0.1111111111111111, \"#46039f\"], [0.2222222222222222, \"#7201a8\"], [0.3333333333333333, \"#9c179e\"], [0.4444444444444444, \"#bd3786\"], [0.5555555555555556, \"#d8576b\"], [0.6666666666666666, \"#ed7953\"], [0.7777777777777778, \"#fb9f3a\"], [0.8888888888888888, \"#fdca26\"], [1.0, \"#f0f921\"]], \"type\": \"histogram2dcontour\"}], \"mesh3d\": [{\"colorbar\": {\"outlinewidth\": 0, \"ticks\": \"\"}, \"type\": \"mesh3d\"}], \"parcoords\": [{\"line\": {\"colorbar\": {\"outlinewidth\": 0, \"ticks\": \"\"}}, \"type\": \"parcoords\"}], \"pie\": [{\"automargin\": true, \"type\": \"pie\"}], \"scatter\": [{\"marker\": {\"colorbar\": {\"outlinewidth\": 0, \"ticks\": \"\"}}, \"type\": \"scatter\"}], \"scatter3d\": [{\"line\": {\"colorbar\": {\"outlinewidth\": 0, \"ticks\": \"\"}}, \"marker\": {\"colorbar\": {\"outlinewidth\": 0, \"ticks\": \"\"}}, \"type\": \"scatter3d\"}], \"scattercarpet\": [{\"marker\": {\"colorbar\": {\"outlinewidth\": 0, \"ticks\": \"\"}}, \"type\": \"scattercarpet\"}], \"scattergeo\": [{\"marker\": {\"colorbar\": {\"outlinewidth\": 0, \"ticks\": \"\"}}, \"type\": \"scattergeo\"}], \"scattergl\": [{\"marker\": {\"colorbar\": {\"outlinewidth\": 0, \"ticks\": \"\"}}, \"type\": \"scattergl\"}], \"scattermapbox\": [{\"marker\": {\"colorbar\": {\"outlinewidth\": 0, \"ticks\": \"\"}}, \"type\": \"scattermapbox\"}], \"scatterpolar\": [{\"marker\": {\"colorbar\": {\"outlinewidth\": 0, \"ticks\": \"\"}}, \"type\": \"scatterpolar\"}], \"scatterpolargl\": [{\"marker\": {\"colorbar\": {\"outlinewidth\": 0, \"ticks\": \"\"}}, \"type\": \"scatterpolargl\"}], \"scatterternary\": [{\"marker\": {\"colorbar\": {\"outlinewidth\": 0, \"ticks\": \"\"}}, \"type\": \"scatterternary\"}], \"surface\": [{\"colorbar\": {\"outlinewidth\": 0, \"ticks\": \"\"}, \"colorscale\": [[0.0, \"#0d0887\"], [0.1111111111111111, \"#46039f\"], [0.2222222222222222, \"#7201a8\"], [0.3333333333333333, \"#9c179e\"], [0.4444444444444444, \"#bd3786\"], [0.5555555555555556, \"#d8576b\"], [0.6666666666666666, \"#ed7953\"], [0.7777777777777778, \"#fb9f3a\"], [0.8888888888888888, \"#fdca26\"], [1.0, \"#f0f921\"]], \"type\": \"surface\"}], \"table\": [{\"cells\": {\"fill\": {\"color\": \"#EBF0F8\"}, \"line\": {\"color\": \"white\"}}, \"header\": {\"fill\": {\"color\": \"#C8D4E3\"}, \"line\": {\"color\": \"white\"}}, \"type\": \"table\"}]}, \"layout\": {\"annotationdefaults\": {\"arrowcolor\": \"#2a3f5f\", \"arrowhead\": 0, \"arrowwidth\": 1}, \"coloraxis\": {\"colorbar\": {\"outlinewidth\": 0, \"ticks\": \"\"}}, \"colorscale\": {\"diverging\": [[0, \"#8e0152\"], [0.1, \"#c51b7d\"], [0.2, \"#de77ae\"], [0.3, \"#f1b6da\"], [0.4, \"#fde0ef\"], [0.5, \"#f7f7f7\"], [0.6, \"#e6f5d0\"], [0.7, \"#b8e186\"], [0.8, \"#7fbc41\"], [0.9, \"#4d9221\"], [1, \"#276419\"]], \"sequential\": [[0.0, \"#0d0887\"], [0.1111111111111111, \"#46039f\"], [0.2222222222222222, \"#7201a8\"], [0.3333333333333333, \"#9c179e\"], [0.4444444444444444, \"#bd3786\"], [0.5555555555555556, \"#d8576b\"], [0.6666666666666666, \"#ed7953\"], [0.7777777777777778, \"#fb9f3a\"], [0.8888888888888888, \"#fdca26\"], [1.0, \"#f0f921\"]], \"sequentialminus\": [[0.0, \"#0d0887\"], [0.1111111111111111, \"#46039f\"], [0.2222222222222222, \"#7201a8\"], [0.3333333333333333, \"#9c179e\"], [0.4444444444444444, \"#bd3786\"], [0.5555555555555556, \"#d8576b\"], [0.6666666666666666, \"#ed7953\"], [0.7777777777777778, \"#fb9f3a\"], [0.8888888888888888, \"#fdca26\"], [1.0, \"#f0f921\"]]}, \"colorway\": [\"#636efa\", \"#EF553B\", \"#00cc96\", \"#ab63fa\", \"#FFA15A\", \"#19d3f3\", \"#FF6692\", \"#B6E880\", \"#FF97FF\", \"#FECB52\"], \"font\": {\"color\": \"#2a3f5f\"}, \"geo\": {\"bgcolor\": \"white\", \"lakecolor\": \"white\", \"landcolor\": \"#E5ECF6\", \"showlakes\": true, \"showland\": true, \"subunitcolor\": \"white\"}, \"hoverlabel\": {\"align\": \"left\"}, \"hovermode\": \"closest\", \"mapbox\": {\"style\": \"light\"}, \"paper_bgcolor\": \"white\", \"plot_bgcolor\": \"#E5ECF6\", \"polar\": {\"angularaxis\": {\"gridcolor\": \"white\", \"linecolor\": \"white\", \"ticks\": \"\"}, \"bgcolor\": \"#E5ECF6\", \"radialaxis\": {\"gridcolor\": \"white\", \"linecolor\": \"white\", \"ticks\": \"\"}}, \"scene\": {\"xaxis\": {\"backgroundcolor\": \"#E5ECF6\", \"gridcolor\": \"white\", \"gridwidth\": 2, \"linecolor\": \"white\", \"showbackground\": true, \"ticks\": \"\", \"zerolinecolor\": \"white\"}, \"yaxis\": {\"backgroundcolor\": \"#E5ECF6\", \"gridcolor\": \"white\", \"gridwidth\": 2, \"linecolor\": \"white\", \"showbackground\": true, \"ticks\": \"\", \"zerolinecolor\": \"white\"}, \"zaxis\": {\"backgroundcolor\": \"#E5ECF6\", \"gridcolor\": \"white\", \"gridwidth\": 2, \"linecolor\": \"white\", \"showbackground\": true, \"ticks\": \"\", \"zerolinecolor\": \"white\"}}, \"shapedefaults\": {\"line\": {\"color\": \"#2a3f5f\"}}, \"ternary\": {\"aaxis\": {\"gridcolor\": \"white\", \"linecolor\": \"white\", \"ticks\": \"\"}, \"baxis\": {\"gridcolor\": \"white\", \"linecolor\": \"white\", \"ticks\": \"\"}, \"bgcolor\": \"#E5ECF6\", \"caxis\": {\"gridcolor\": \"white\", \"linecolor\": \"white\", \"ticks\": \"\"}}, \"title\": {\"x\": 0.05}, \"xaxis\": {\"automargin\": true, \"gridcolor\": \"white\", \"linecolor\": \"white\", \"ticks\": \"\", \"title\": {\"standoff\": 15}, \"zerolinecolor\": \"white\", \"zerolinewidth\": 2}, \"yaxis\": {\"automargin\": true, \"gridcolor\": \"white\", \"linecolor\": \"white\", \"ticks\": \"\", \"title\": {\"standoff\": 15}, \"zerolinecolor\": \"white\", \"zerolinewidth\": 2}}}, \"xaxis\": {\"anchor\": \"y\", \"domain\": [0.0, 0.45], \"title\": {\"text\": \"Epoch\"}}, \"xaxis2\": {\"anchor\": \"y2\", \"domain\": [0.55, 1.0], \"title\": {\"text\": \"Epoch\"}}, \"yaxis\": {\"anchor\": \"x\", \"domain\": [0.0, 1.0], \"range\": [0, 1], \"title\": {\"text\": \"Accuracy\"}}, \"yaxis2\": {\"anchor\": \"x2\", \"domain\": [0.0, 1.0], \"range\": [0, 1], \"title\": {\"text\": \"Loss\"}}},\n",
       "                        {\"responsive\": true}\n",
       "                    ).then(function(){\n",
       "                            \n",
       "var gd = document.getElementById('7f756b13-feab-4623-9930-61d19e724752');\n",
       "var x = new MutationObserver(function (mutations, observer) {{\n",
       "        var display = window.getComputedStyle(gd).display;\n",
       "        if (!display || display === 'none') {{\n",
       "            console.log([gd, 'removed!']);\n",
       "            Plotly.purge(gd);\n",
       "            observer.disconnect();\n",
       "        }}\n",
       "}});\n",
       "\n",
       "// Listen for the removal of the full notebook cells\n",
       "var notebookContainer = gd.closest('#notebook-container');\n",
       "if (notebookContainer) {{\n",
       "    x.observe(notebookContainer, {childList: true});\n",
       "}}\n",
       "\n",
       "// Listen for the clearing of the current output cell\n",
       "var outputEl = gd.closest('.output');\n",
       "if (outputEl) {{\n",
       "    x.observe(outputEl, {childList: true});\n",
       "}}\n",
       "\n",
       "                        })\n",
       "                };\n",
       "                });\n",
       "            </script>\n",
       "        </div>"
      ]
     },
     "metadata": {},
     "output_type": "display_data"
    }
   ],
   "source": [
    "def create_trace(x,y,ylabel,color):\n",
    "        trace = go.Scatter(\n",
    "            x = x,y = y,\n",
    "            name=ylabel,\n",
    "            marker=dict(color=color),\n",
    "            mode = \"markers+lines\",\n",
    "            text=x\n",
    "        )\n",
    "        return trace\n",
    "    \n",
    "def plot_accuracy_and_loss(train_model):\n",
    "    hist = train_model.history\n",
    "    acc = hist['accuracy']\n",
    "    val_acc = hist['val_accuracy']\n",
    "    loss = hist['loss']\n",
    "    val_loss = hist['val_loss']\n",
    "    epochs = list(range(1,len(acc)+1))\n",
    "    \n",
    "    trace_ta = create_trace(epochs,acc,\"Training accuracy\", \"Green\")\n",
    "    trace_va = create_trace(epochs,val_acc,\"Validation accuracy\", \"Red\")\n",
    "    trace_tl = create_trace(epochs,loss,\"Training loss\", \"Blue\")\n",
    "    trace_vl = create_trace(epochs,val_loss,\"Validation loss\", \"Orange\")\n",
    "   \n",
    "    fig = tools.make_subplots(rows=1,cols=2, subplot_titles=('Training and validation accuracy',\n",
    "                                                             'Training and validation loss'))\n",
    "    fig.append_trace(trace_ta,1,1)\n",
    "    fig.append_trace(trace_va,1,1)\n",
    "    fig.append_trace(trace_tl,1,2)\n",
    "    fig.append_trace(trace_vl,1,2)\n",
    "    fig['layout']['xaxis'].update(title = 'Epoch')\n",
    "    fig['layout']['xaxis2'].update(title = 'Epoch')\n",
    "    fig['layout']['yaxis'].update(title = 'Accuracy', range=[0,1])\n",
    "    fig['layout']['yaxis2'].update(title = 'Loss', range=[0,1])\n",
    "\n",
    "    \n",
    "    iplot(fig, filename='accuracy-loss')\n",
    "\n",
    "plot_accuracy_and_loss(train_model)"
   ]
  },
  {
   "cell_type": "markdown",
   "metadata": {},
   "source": [
    "The validation accuracy does not improve after few epochs and the validation loss is increasing after few epochs. This confirms our assumption that the model is overfitted. We will try to improve the model by adding Dropout layers.\n",
    "\n",
    "### Add Dropout layers to the model\n",
    "\n",
    "We add several Dropout layers to the model, to help avoiding overfitting.\n",
    "Dropout is helping avoid overfitting."
   ]
  },
  {
   "cell_type": "code",
   "execution_count": 66,
   "metadata": {},
   "outputs": [
    {
     "name": "stdout",
     "output_type": "stream",
     "text": [
      "Model: \"sequential_7\"\n",
      "_________________________________________________________________\n",
      "Layer (type)                 Output Shape              Param #   \n",
      "=================================================================\n",
      "conv2d_16 (Conv2D)           (None, 26, 26, 32)        320       \n",
      "_________________________________________________________________\n",
      "max_pooling2d_11 (MaxPooling (None, 13, 13, 32)        0         \n",
      "_________________________________________________________________\n",
      "dropout_9 (Dropout)          (None, 13, 13, 32)        0         \n",
      "_________________________________________________________________\n",
      "conv2d_17 (Conv2D)           (None, 11, 11, 64)        18496     \n",
      "_________________________________________________________________\n",
      "max_pooling2d_12 (MaxPooling (None, 5, 5, 64)          0         \n",
      "_________________________________________________________________\n",
      "dropout_10 (Dropout)         (None, 5, 5, 64)          0         \n",
      "_________________________________________________________________\n",
      "conv2d_18 (Conv2D)           (None, 3, 3, 128)         73856     \n",
      "_________________________________________________________________\n",
      "dropout_11 (Dropout)         (None, 3, 3, 128)         0         \n",
      "_________________________________________________________________\n",
      "flatten_6 (Flatten)          (None, 1152)              0         \n",
      "_________________________________________________________________\n",
      "dense_11 (Dense)             (None, 128)               147584    \n",
      "_________________________________________________________________\n",
      "dropout_12 (Dropout)         (None, 128)               0         \n",
      "_________________________________________________________________\n",
      "dense_12 (Dense)             (None, 10)                1290      \n",
      "=================================================================\n",
      "Total params: 241,546\n",
      "Trainable params: 241,546\n",
      "Non-trainable params: 0\n",
      "_________________________________________________________________\n"
     ]
    }
   ],
   "source": [
    "# Model\n",
    "cnn2 = Sequential()\n",
    "# Add convolution 2D\n",
    "cnn2.add(Conv2D(32, kernel_size=(3, 3),\n",
    "                 activation='relu',\n",
    "                 kernel_initializer='he_normal',\n",
    "                 input_shape=(ROWS, COLUMNS, 1)))\n",
    "cnn2.add(MaxPooling2D((2, 2)))\n",
    "# Add dropouts to the model\n",
    "cnn2.add(Dropout(0.25))\n",
    "cnn2.add(Conv2D(64, \n",
    "                 kernel_size=(3, 3), \n",
    "                 activation='relu'))\n",
    "cnn2.add(MaxPooling2D(pool_size=(2, 2)))\n",
    "# Add dropouts to the model\n",
    "cnn2.add(Dropout(0.25))\n",
    "cnn2.add(Conv2D(128, (3, 3), activation='relu'))\n",
    "# Add dropouts to the model\n",
    "cnn2.add(Dropout(0.4))\n",
    "cnn2.add(Flatten())\n",
    "cnn2.add(Dense(128, activation='relu'))\n",
    "# Add dropouts to the model\n",
    "cnn2.add(Dropout(0.3))\n",
    "cnn2.add(Dense(CLASS, activation='softmax'))\n",
    "\n",
    "\n",
    "cnn2.compile(loss=keras.losses.categorical_crossentropy,\n",
    "              optimizer='adam',\n",
    "              metrics=['accuracy'])\n",
    "\n",
    "cnn2.summary()"
   ]
  },
  {
   "cell_type": "code",
   "execution_count": 67,
   "metadata": {},
   "outputs": [
    {
     "name": "stdout",
     "output_type": "stream",
     "text": [
      "Train on 48000 samples, validate on 12000 samples\n",
      "Epoch 1/50\n",
      "48000/48000 [==============================] - 34s 704us/step - loss: 0.7984 - accuracy: 0.7006 - val_loss: 0.5018 - val_accuracy: 0.8208\n",
      "Epoch 2/50\n",
      "48000/48000 [==============================] - 36s 751us/step - loss: 0.5015 - accuracy: 0.8126 - val_loss: 0.4022 - val_accuracy: 0.8508\n",
      "Epoch 3/50\n",
      "48000/48000 [==============================] - 36s 749us/step - loss: 0.4289 - accuracy: 0.8420 - val_loss: 0.3514 - val_accuracy: 0.8722\n",
      "Epoch 4/50\n",
      "48000/48000 [==============================] - 45s 933us/step - loss: 0.3859 - accuracy: 0.8593 - val_loss: 0.3161 - val_accuracy: 0.8854\n",
      "Epoch 5/50\n",
      "48000/48000 [==============================] - 42s 868us/step - loss: 0.3588 - accuracy: 0.8693 - val_loss: 0.2907 - val_accuracy: 0.8947\n",
      "Epoch 6/50\n",
      "48000/48000 [==============================] - 40s 823us/step - loss: 0.3397 - accuracy: 0.8766 - val_loss: 0.2768 - val_accuracy: 0.8989\n",
      "Epoch 7/50\n",
      "48000/48000 [==============================] - 40s 832us/step - loss: 0.3211 - accuracy: 0.8820 - val_loss: 0.2620 - val_accuracy: 0.9039\n",
      "Epoch 8/50\n",
      "48000/48000 [==============================] - 40s 824us/step - loss: 0.3077 - accuracy: 0.8864 - val_loss: 0.2552 - val_accuracy: 0.9073\n",
      "Epoch 9/50\n",
      "48000/48000 [==============================] - 40s 838us/step - loss: 0.2993 - accuracy: 0.8905 - val_loss: 0.2533 - val_accuracy: 0.9075\n",
      "Epoch 10/50\n",
      "48000/48000 [==============================] - 39s 817us/step - loss: 0.2899 - accuracy: 0.8929 - val_loss: 0.2525 - val_accuracy: 0.9079\n",
      "Epoch 11/50\n",
      "48000/48000 [==============================] - 37s 774us/step - loss: 0.2823 - accuracy: 0.8959 - val_loss: 0.2373 - val_accuracy: 0.9124\n",
      "Epoch 12/50\n",
      "48000/48000 [==============================] - 34s 701us/step - loss: 0.2748 - accuracy: 0.8974 - val_loss: 0.2380 - val_accuracy: 0.9100\n",
      "Epoch 13/50\n",
      "48000/48000 [==============================] - 34s 710us/step - loss: 0.2700 - accuracy: 0.9005 - val_loss: 0.2341 - val_accuracy: 0.9138\n",
      "Epoch 14/50\n",
      "48000/48000 [==============================] - 34s 703us/step - loss: 0.2665 - accuracy: 0.9015 - val_loss: 0.2274 - val_accuracy: 0.9172\n",
      "Epoch 15/50\n",
      "48000/48000 [==============================] - 34s 704us/step - loss: 0.2602 - accuracy: 0.9041 - val_loss: 0.2317 - val_accuracy: 0.9159\n",
      "Epoch 16/50\n",
      "48000/48000 [==============================] - 36s 743us/step - loss: 0.2529 - accuracy: 0.9065 - val_loss: 0.2248 - val_accuracy: 0.9177\n",
      "Epoch 17/50\n",
      "48000/48000 [==============================] - 37s 771us/step - loss: 0.2520 - accuracy: 0.9067 - val_loss: 0.2253 - val_accuracy: 0.9193\n",
      "Epoch 18/50\n",
      "48000/48000 [==============================] - 36s 760us/step - loss: 0.2471 - accuracy: 0.9070 - val_loss: 0.2343 - val_accuracy: 0.9123\n",
      "Epoch 19/50\n",
      "48000/48000 [==============================] - 39s 809us/step - loss: 0.2421 - accuracy: 0.9093 - val_loss: 0.2187 - val_accuracy: 0.9218\n",
      "Epoch 20/50\n",
      "48000/48000 [==============================] - 39s 807us/step - loss: 0.2409 - accuracy: 0.9092 - val_loss: 0.2242 - val_accuracy: 0.9171\n",
      "Epoch 21/50\n",
      "48000/48000 [==============================] - 36s 743us/step - loss: 0.2365 - accuracy: 0.9098 - val_loss: 0.2179 - val_accuracy: 0.9202\n",
      "Epoch 22/50\n",
      "48000/48000 [==============================] - 36s 752us/step - loss: 0.2317 - accuracy: 0.9132 - val_loss: 0.2169 - val_accuracy: 0.9209\n",
      "Epoch 23/50\n",
      "48000/48000 [==============================] - 44s 922us/step - loss: 0.2336 - accuracy: 0.9125 - val_loss: 0.2159 - val_accuracy: 0.9215\n",
      "Epoch 24/50\n",
      "48000/48000 [==============================] - 36s 760us/step - loss: 0.2317 - accuracy: 0.9121 - val_loss: 0.2225 - val_accuracy: 0.9217\n",
      "Epoch 25/50\n",
      "48000/48000 [==============================] - 36s 747us/step - loss: 0.2277 - accuracy: 0.9152 - val_loss: 0.2165 - val_accuracy: 0.9223\n",
      "Epoch 26/50\n",
      "48000/48000 [==============================] - 36s 746us/step - loss: 0.2226 - accuracy: 0.9166 - val_loss: 0.2221 - val_accuracy: 0.9192\n",
      "Epoch 27/50\n",
      "48000/48000 [==============================] - 36s 743us/step - loss: 0.2215 - accuracy: 0.9156 - val_loss: 0.2163 - val_accuracy: 0.9242\n",
      "Epoch 28/50\n",
      "48000/48000 [==============================] - 37s 763us/step - loss: 0.2195 - accuracy: 0.9165 - val_loss: 0.2214 - val_accuracy: 0.9198\n",
      "Epoch 29/50\n",
      "48000/48000 [==============================] - 40s 843us/step - loss: 0.2172 - accuracy: 0.9187 - val_loss: 0.2116 - val_accuracy: 0.9247\n",
      "Epoch 30/50\n",
      "48000/48000 [==============================] - 38s 799us/step - loss: 0.2150 - accuracy: 0.9187 - val_loss: 0.2153 - val_accuracy: 0.9237\n",
      "Epoch 31/50\n",
      "48000/48000 [==============================] - 38s 790us/step - loss: 0.2144 - accuracy: 0.9184 - val_loss: 0.2159 - val_accuracy: 0.9249\n",
      "Epoch 32/50\n",
      "48000/48000 [==============================] - 39s 811us/step - loss: 0.2117 - accuracy: 0.9195 - val_loss: 0.2187 - val_accuracy: 0.9234\n",
      "Epoch 33/50\n",
      "48000/48000 [==============================] - 41s 846us/step - loss: 0.2104 - accuracy: 0.9209 - val_loss: 0.2169 - val_accuracy: 0.9254\n",
      "Epoch 34/50\n",
      "48000/48000 [==============================] - 39s 811us/step - loss: 0.2085 - accuracy: 0.9207 - val_loss: 0.2119 - val_accuracy: 0.9253\n",
      "Epoch 35/50\n",
      "48000/48000 [==============================] - 41s 848us/step - loss: 0.2069 - accuracy: 0.9208 - val_loss: 0.2218 - val_accuracy: 0.9201\n",
      "Epoch 36/50\n",
      "48000/48000 [==============================] - 41s 853us/step - loss: 0.2051 - accuracy: 0.9230 - val_loss: 0.2090 - val_accuracy: 0.9260\n",
      "Epoch 37/50\n",
      "48000/48000 [==============================] - 37s 767us/step - loss: 0.2027 - accuracy: 0.9233 - val_loss: 0.2106 - val_accuracy: 0.9258\n",
      "Epoch 38/50\n",
      "48000/48000 [==============================] - 36s 746us/step - loss: 0.2012 - accuracy: 0.9240 - val_loss: 0.2100 - val_accuracy: 0.9242\n",
      "Epoch 39/50\n",
      "48000/48000 [==============================] - 36s 755us/step - loss: 0.2032 - accuracy: 0.9229 - val_loss: 0.2042 - val_accuracy: 0.9276\n",
      "Epoch 40/50\n",
      "48000/48000 [==============================] - 36s 747us/step - loss: 0.1982 - accuracy: 0.9248 - val_loss: 0.2057 - val_accuracy: 0.9262\n",
      "Epoch 41/50\n",
      "48000/48000 [==============================] - 38s 784us/step - loss: 0.2007 - accuracy: 0.9247 - val_loss: 0.2061 - val_accuracy: 0.9281\n",
      "Epoch 42/50\n",
      "48000/48000 [==============================] - 38s 787us/step - loss: 0.1980 - accuracy: 0.9254 - val_loss: 0.2078 - val_accuracy: 0.9273\n",
      "Epoch 43/50\n",
      "48000/48000 [==============================] - 38s 791us/step - loss: 0.1986 - accuracy: 0.9248 - val_loss: 0.2145 - val_accuracy: 0.9256\n",
      "Epoch 44/50\n",
      "48000/48000 [==============================] - 37s 781us/step - loss: 0.1936 - accuracy: 0.9271 - val_loss: 0.2100 - val_accuracy: 0.9276\n",
      "Epoch 45/50\n",
      "48000/48000 [==============================] - 38s 800us/step - loss: 0.1947 - accuracy: 0.9263 - val_loss: 0.2095 - val_accuracy: 0.9246\n",
      "Epoch 46/50\n",
      "48000/48000 [==============================] - 39s 803us/step - loss: 0.1971 - accuracy: 0.9254 - val_loss: 0.2063 - val_accuracy: 0.9290\n",
      "Epoch 47/50\n",
      "48000/48000 [==============================] - 40s 832us/step - loss: 0.1932 - accuracy: 0.9275 - val_loss: 0.2119 - val_accuracy: 0.9260\n",
      "Epoch 48/50\n",
      "48000/48000 [==============================] - 38s 792us/step - loss: 0.1923 - accuracy: 0.9274 - val_loss: 0.2076 - val_accuracy: 0.9280\n",
      "Epoch 49/50\n",
      "48000/48000 [==============================] - 34s 710us/step - loss: 0.1906 - accuracy: 0.9273 - val_loss: 0.2052 - val_accuracy: 0.9283\n",
      "Epoch 50/50\n",
      "48000/48000 [==============================] - 34s 701us/step - loss: 0.1891 - accuracy: 0.9289 - val_loss: 0.2084 - val_accuracy: 0.9262\n"
     ]
    }
   ],
   "source": [
    "start_time = time.time()\n",
    "train_model2 = cnn2.fit(X_train, y_train,\n",
    "                  batch_size=BATCH_SIZE,\n",
    "                  epochs=NUMBER_OF_EPOCHS,\n",
    "                  verbose=1,\n",
    "                  validation_data=(X_val, y_val))\n",
    "end_time = time.time()\n",
    "duration = end_time - start_time"
   ]
  },
  {
   "cell_type": "markdown",
   "metadata": {},
   "source": [
    "#### Test prediction accuracy\n",
    "Re-calculate the test loss and accuracy with the new model."
   ]
  },
  {
   "cell_type": "code",
   "execution_count": 68,
   "metadata": {},
   "outputs": [
    {
     "name": "stdout",
     "output_type": "stream",
     "text": [
      "10000/10000 [==============================] - 2s 166us/step\n",
      "Test loss: 0.22508072773218155\n",
      "Test accuracy: 0.914900004863739\n",
      "Duration:  1882.3961148262024\n"
     ]
    }
   ],
   "source": [
    "score = cnn2.evaluate(testX, testY, verbose=1)\n",
    "print('Test loss:', score[0])\n",
    "print('Test accuracy:', score[1])\n",
    "print('Duration: ',duration)"
   ]
  },
  {
   "cell_type": "code",
   "execution_count": 69,
   "metadata": {},
   "outputs": [
    {
     "data": {
      "application/vnd.plotly.v1+json": {
       "config": {
        "linkText": "Export to plot.ly",
        "plotlyServerURL": "https://plot.ly",
        "showLink": false
       },
       "data": [
        {
         "marker": {
          "color": "Green"
         },
         "mode": "markers+lines",
         "name": "Training accuracy",
         "text": [
          "1",
          "2",
          "3",
          "4",
          "5",
          "6",
          "7",
          "8",
          "9",
          "10",
          "11",
          "12",
          "13",
          "14",
          "15",
          "16",
          "17",
          "18",
          "19",
          "20",
          "21",
          "22",
          "23",
          "24",
          "25",
          "26",
          "27",
          "28",
          "29",
          "30",
          "31",
          "32",
          "33",
          "34",
          "35",
          "36",
          "37",
          "38",
          "39",
          "40",
          "41",
          "42",
          "43",
          "44",
          "45",
          "46",
          "47",
          "48",
          "49",
          "50"
         ],
         "type": "scatter",
         "x": [
          1,
          2,
          3,
          4,
          5,
          6,
          7,
          8,
          9,
          10,
          11,
          12,
          13,
          14,
          15,
          16,
          17,
          18,
          19,
          20,
          21,
          22,
          23,
          24,
          25,
          26,
          27,
          28,
          29,
          30,
          31,
          32,
          33,
          34,
          35,
          36,
          37,
          38,
          39,
          40,
          41,
          42,
          43,
          44,
          45,
          46,
          47,
          48,
          49,
          50
         ],
         "xaxis": "x",
         "y": [
          0.7005624771118164,
          0.812624990940094,
          0.8420416712760925,
          0.8592708110809326,
          0.8693333268165588,
          0.8766458630561829,
          0.8820000290870667,
          0.8863541483879089,
          0.890541672706604,
          0.8928541541099548,
          0.8958541750907898,
          0.8973541855812073,
          0.9004791378974915,
          0.9014583230018616,
          0.9041041731834412,
          0.906541645526886,
          0.9066874980926514,
          0.9070208072662354,
          0.9093124866485596,
          0.9091874957084656,
          0.9098125100135803,
          0.9131875038146973,
          0.9125416874885559,
          0.9121458530426025,
          0.9151874780654907,
          0.9166458249092102,
          0.9156041741371155,
          0.9164999723434448,
          0.9186875224113464,
          0.918749988079071,
          0.9184374809265137,
          0.9194791913032532,
          0.9208541512489319,
          0.9207291603088379,
          0.9208124876022339,
          0.9229999780654907,
          0.9233333468437195,
          0.9240416884422302,
          0.9228541851043701,
          0.9248124957084656,
          0.9246666431427002,
          0.9253958463668823,
          0.9248124957084656,
          0.9271458387374878,
          0.9262708425521851,
          0.9253749847412109,
          0.9274791479110718,
          0.9273958206176758,
          0.9272708296775818,
          0.9288958311080933
         ],
         "yaxis": "y"
        },
        {
         "marker": {
          "color": "Red"
         },
         "mode": "markers+lines",
         "name": "Validation accuracy",
         "text": [
          "1",
          "2",
          "3",
          "4",
          "5",
          "6",
          "7",
          "8",
          "9",
          "10",
          "11",
          "12",
          "13",
          "14",
          "15",
          "16",
          "17",
          "18",
          "19",
          "20",
          "21",
          "22",
          "23",
          "24",
          "25",
          "26",
          "27",
          "28",
          "29",
          "30",
          "31",
          "32",
          "33",
          "34",
          "35",
          "36",
          "37",
          "38",
          "39",
          "40",
          "41",
          "42",
          "43",
          "44",
          "45",
          "46",
          "47",
          "48",
          "49",
          "50"
         ],
         "type": "scatter",
         "x": [
          1,
          2,
          3,
          4,
          5,
          6,
          7,
          8,
          9,
          10,
          11,
          12,
          13,
          14,
          15,
          16,
          17,
          18,
          19,
          20,
          21,
          22,
          23,
          24,
          25,
          26,
          27,
          28,
          29,
          30,
          31,
          32,
          33,
          34,
          35,
          36,
          37,
          38,
          39,
          40,
          41,
          42,
          43,
          44,
          45,
          46,
          47,
          48,
          49,
          50
         ],
         "xaxis": "x",
         "y": [
          0.8208333253860474,
          0.8508333563804626,
          0.8721666932106018,
          0.8854166865348816,
          0.8947499990463257,
          0.8989166617393494,
          0.9039166569709778,
          0.9073333144187927,
          0.9075000286102295,
          0.9079166650772095,
          0.9124166369438171,
          0.9100000262260437,
          0.9138333201408386,
          0.9172499775886536,
          0.9159166812896729,
          0.9176666736602783,
          0.9192500114440918,
          0.9123333096504211,
          0.921833336353302,
          0.9170833230018616,
          0.9202499985694885,
          0.9209166765213013,
          0.921500027179718,
          0.92166668176651,
          0.9223333597183228,
          0.9191666841506958,
          0.9241666793823242,
          0.9198333621025085,
          0.9247499704360962,
          0.9237499833106995,
          0.924916684627533,
          0.9234166741371155,
          0.9254166483879089,
          0.9253333210945129,
          0.9200833439826965,
          0.9259999990463257,
          0.9257500171661377,
          0.9241666793823242,
          0.9275833368301392,
          0.9261666536331177,
          0.9280833601951599,
          0.9272500276565552,
          0.9255833625793457,
          0.9275833368301392,
          0.9245833158493042,
          0.9290000200271606,
          0.9259999990463257,
          0.9279999732971191,
          0.9282500147819519,
          0.9262499809265137
         ],
         "yaxis": "y"
        },
        {
         "marker": {
          "color": "Blue"
         },
         "mode": "markers+lines",
         "name": "Training loss",
         "text": [
          "1",
          "2",
          "3",
          "4",
          "5",
          "6",
          "7",
          "8",
          "9",
          "10",
          "11",
          "12",
          "13",
          "14",
          "15",
          "16",
          "17",
          "18",
          "19",
          "20",
          "21",
          "22",
          "23",
          "24",
          "25",
          "26",
          "27",
          "28",
          "29",
          "30",
          "31",
          "32",
          "33",
          "34",
          "35",
          "36",
          "37",
          "38",
          "39",
          "40",
          "41",
          "42",
          "43",
          "44",
          "45",
          "46",
          "47",
          "48",
          "49",
          "50"
         ],
         "type": "scatter",
         "x": [
          1,
          2,
          3,
          4,
          5,
          6,
          7,
          8,
          9,
          10,
          11,
          12,
          13,
          14,
          15,
          16,
          17,
          18,
          19,
          20,
          21,
          22,
          23,
          24,
          25,
          26,
          27,
          28,
          29,
          30,
          31,
          32,
          33,
          34,
          35,
          36,
          37,
          38,
          39,
          40,
          41,
          42,
          43,
          44,
          45,
          46,
          47,
          48,
          49,
          50
         ],
         "xaxis": "x2",
         "y": [
          0.7983529880046845,
          0.5014984671274821,
          0.42889933482805886,
          0.38586079521973926,
          0.35875240222613014,
          0.33971448028087614,
          0.3210936668316523,
          0.30771348655223846,
          0.29926032813390097,
          0.28993789819876353,
          0.28225927058855693,
          0.27482687260707217,
          0.27002629748980206,
          0.26649746561050414,
          0.2601897549033165,
          0.2528657951553663,
          0.2520408290425936,
          0.24707978916168213,
          0.24211045022805533,
          0.2408979777097702,
          0.23646853719154995,
          0.23168940645456315,
          0.23364047239224117,
          0.23170910374323528,
          0.22767825611432393,
          0.22264338950316112,
          0.22150292456150056,
          0.21945919291178387,
          0.21718633687496186,
          0.2150082371433576,
          0.21438090991973877,
          0.21167840592066448,
          0.21037060950199762,
          0.20848472543557484,
          0.20692272663116454,
          0.20511097113291424,
          0.20266126310825347,
          0.20115920543670654,
          0.20317423329750697,
          0.1981605712175369,
          0.20068532544374465,
          0.1979726264079412,
          0.19863239391644796,
          0.1935908492207527,
          0.19473736095428468,
          0.1971344406604767,
          0.1932236272295316,
          0.19227657840649287,
          0.19063377918799718,
          0.18910727308193842
         ],
         "yaxis": "y2"
        },
        {
         "marker": {
          "color": "Orange"
         },
         "mode": "markers+lines",
         "name": "Validation loss",
         "text": [
          "1",
          "2",
          "3",
          "4",
          "5",
          "6",
          "7",
          "8",
          "9",
          "10",
          "11",
          "12",
          "13",
          "14",
          "15",
          "16",
          "17",
          "18",
          "19",
          "20",
          "21",
          "22",
          "23",
          "24",
          "25",
          "26",
          "27",
          "28",
          "29",
          "30",
          "31",
          "32",
          "33",
          "34",
          "35",
          "36",
          "37",
          "38",
          "39",
          "40",
          "41",
          "42",
          "43",
          "44",
          "45",
          "46",
          "47",
          "48",
          "49",
          "50"
         ],
         "type": "scatter",
         "x": [
          1,
          2,
          3,
          4,
          5,
          6,
          7,
          8,
          9,
          10,
          11,
          12,
          13,
          14,
          15,
          16,
          17,
          18,
          19,
          20,
          21,
          22,
          23,
          24,
          25,
          26,
          27,
          28,
          29,
          30,
          31,
          32,
          33,
          34,
          35,
          36,
          37,
          38,
          39,
          40,
          41,
          42,
          43,
          44,
          45,
          46,
          47,
          48,
          49,
          50
         ],
         "xaxis": "x2",
         "y": [
          0.5018023241360983,
          0.40221025109291075,
          0.3513926284313202,
          0.31609460632006325,
          0.2906633493900299,
          0.2767844409147898,
          0.2620363819599152,
          0.25515969649950665,
          0.2533438727458318,
          0.25246429578463236,
          0.23734367418289185,
          0.23796259570121764,
          0.23414057620366413,
          0.22743552350997925,
          0.23166626087824504,
          0.22478790577252705,
          0.22532643779118855,
          0.2342875870068868,
          0.2186631749868393,
          0.22422847219308217,
          0.2179135341644287,
          0.21689476851622264,
          0.21588951186339062,
          0.2224890183210373,
          0.21646544488271077,
          0.22207258208592734,
          0.2163110738595327,
          0.2214181677500407,
          0.21157893153031668,
          0.21527116922537487,
          0.2158998706738154,
          0.21871991662184398,
          0.21691879439353942,
          0.21194314781824747,
          0.221780650695165,
          0.2090491690635681,
          0.2106196626027425,
          0.21003467750549315,
          0.2042269015709559,
          0.20567128411928812,
          0.20613147405783336,
          0.20776489090919495,
          0.21453009593486785,
          0.2100257761478424,
          0.20954067575931548,
          0.2062723432779312,
          0.2119327130317688,
          0.2075922450621923,
          0.20519397834936778,
          0.20839032955964407
         ],
         "yaxis": "y2"
        }
       ],
       "layout": {
        "annotations": [
         {
          "font": {
           "size": 16
          },
          "showarrow": false,
          "text": "Training and validation accuracy",
          "x": 0.225,
          "xanchor": "center",
          "xref": "paper",
          "y": 1,
          "yanchor": "bottom",
          "yref": "paper"
         },
         {
          "font": {
           "size": 16
          },
          "showarrow": false,
          "text": "Training and validation loss",
          "x": 0.775,
          "xanchor": "center",
          "xref": "paper",
          "y": 1,
          "yanchor": "bottom",
          "yref": "paper"
         }
        ],
        "template": {
         "data": {
          "bar": [
           {
            "error_x": {
             "color": "#2a3f5f"
            },
            "error_y": {
             "color": "#2a3f5f"
            },
            "marker": {
             "line": {
              "color": "#E5ECF6",
              "width": 0.5
             }
            },
            "type": "bar"
           }
          ],
          "barpolar": [
           {
            "marker": {
             "line": {
              "color": "#E5ECF6",
              "width": 0.5
             }
            },
            "type": "barpolar"
           }
          ],
          "carpet": [
           {
            "aaxis": {
             "endlinecolor": "#2a3f5f",
             "gridcolor": "white",
             "linecolor": "white",
             "minorgridcolor": "white",
             "startlinecolor": "#2a3f5f"
            },
            "baxis": {
             "endlinecolor": "#2a3f5f",
             "gridcolor": "white",
             "linecolor": "white",
             "minorgridcolor": "white",
             "startlinecolor": "#2a3f5f"
            },
            "type": "carpet"
           }
          ],
          "choropleth": [
           {
            "colorbar": {
             "outlinewidth": 0,
             "ticks": ""
            },
            "type": "choropleth"
           }
          ],
          "contour": [
           {
            "colorbar": {
             "outlinewidth": 0,
             "ticks": ""
            },
            "colorscale": [
             [
              0,
              "#0d0887"
             ],
             [
              0.1111111111111111,
              "#46039f"
             ],
             [
              0.2222222222222222,
              "#7201a8"
             ],
             [
              0.3333333333333333,
              "#9c179e"
             ],
             [
              0.4444444444444444,
              "#bd3786"
             ],
             [
              0.5555555555555556,
              "#d8576b"
             ],
             [
              0.6666666666666666,
              "#ed7953"
             ],
             [
              0.7777777777777778,
              "#fb9f3a"
             ],
             [
              0.8888888888888888,
              "#fdca26"
             ],
             [
              1,
              "#f0f921"
             ]
            ],
            "type": "contour"
           }
          ],
          "contourcarpet": [
           {
            "colorbar": {
             "outlinewidth": 0,
             "ticks": ""
            },
            "type": "contourcarpet"
           }
          ],
          "heatmap": [
           {
            "colorbar": {
             "outlinewidth": 0,
             "ticks": ""
            },
            "colorscale": [
             [
              0,
              "#0d0887"
             ],
             [
              0.1111111111111111,
              "#46039f"
             ],
             [
              0.2222222222222222,
              "#7201a8"
             ],
             [
              0.3333333333333333,
              "#9c179e"
             ],
             [
              0.4444444444444444,
              "#bd3786"
             ],
             [
              0.5555555555555556,
              "#d8576b"
             ],
             [
              0.6666666666666666,
              "#ed7953"
             ],
             [
              0.7777777777777778,
              "#fb9f3a"
             ],
             [
              0.8888888888888888,
              "#fdca26"
             ],
             [
              1,
              "#f0f921"
             ]
            ],
            "type": "heatmap"
           }
          ],
          "heatmapgl": [
           {
            "colorbar": {
             "outlinewidth": 0,
             "ticks": ""
            },
            "colorscale": [
             [
              0,
              "#0d0887"
             ],
             [
              0.1111111111111111,
              "#46039f"
             ],
             [
              0.2222222222222222,
              "#7201a8"
             ],
             [
              0.3333333333333333,
              "#9c179e"
             ],
             [
              0.4444444444444444,
              "#bd3786"
             ],
             [
              0.5555555555555556,
              "#d8576b"
             ],
             [
              0.6666666666666666,
              "#ed7953"
             ],
             [
              0.7777777777777778,
              "#fb9f3a"
             ],
             [
              0.8888888888888888,
              "#fdca26"
             ],
             [
              1,
              "#f0f921"
             ]
            ],
            "type": "heatmapgl"
           }
          ],
          "histogram": [
           {
            "marker": {
             "colorbar": {
              "outlinewidth": 0,
              "ticks": ""
             }
            },
            "type": "histogram"
           }
          ],
          "histogram2d": [
           {
            "colorbar": {
             "outlinewidth": 0,
             "ticks": ""
            },
            "colorscale": [
             [
              0,
              "#0d0887"
             ],
             [
              0.1111111111111111,
              "#46039f"
             ],
             [
              0.2222222222222222,
              "#7201a8"
             ],
             [
              0.3333333333333333,
              "#9c179e"
             ],
             [
              0.4444444444444444,
              "#bd3786"
             ],
             [
              0.5555555555555556,
              "#d8576b"
             ],
             [
              0.6666666666666666,
              "#ed7953"
             ],
             [
              0.7777777777777778,
              "#fb9f3a"
             ],
             [
              0.8888888888888888,
              "#fdca26"
             ],
             [
              1,
              "#f0f921"
             ]
            ],
            "type": "histogram2d"
           }
          ],
          "histogram2dcontour": [
           {
            "colorbar": {
             "outlinewidth": 0,
             "ticks": ""
            },
            "colorscale": [
             [
              0,
              "#0d0887"
             ],
             [
              0.1111111111111111,
              "#46039f"
             ],
             [
              0.2222222222222222,
              "#7201a8"
             ],
             [
              0.3333333333333333,
              "#9c179e"
             ],
             [
              0.4444444444444444,
              "#bd3786"
             ],
             [
              0.5555555555555556,
              "#d8576b"
             ],
             [
              0.6666666666666666,
              "#ed7953"
             ],
             [
              0.7777777777777778,
              "#fb9f3a"
             ],
             [
              0.8888888888888888,
              "#fdca26"
             ],
             [
              1,
              "#f0f921"
             ]
            ],
            "type": "histogram2dcontour"
           }
          ],
          "mesh3d": [
           {
            "colorbar": {
             "outlinewidth": 0,
             "ticks": ""
            },
            "type": "mesh3d"
           }
          ],
          "parcoords": [
           {
            "line": {
             "colorbar": {
              "outlinewidth": 0,
              "ticks": ""
             }
            },
            "type": "parcoords"
           }
          ],
          "pie": [
           {
            "automargin": true,
            "type": "pie"
           }
          ],
          "scatter": [
           {
            "marker": {
             "colorbar": {
              "outlinewidth": 0,
              "ticks": ""
             }
            },
            "type": "scatter"
           }
          ],
          "scatter3d": [
           {
            "line": {
             "colorbar": {
              "outlinewidth": 0,
              "ticks": ""
             }
            },
            "marker": {
             "colorbar": {
              "outlinewidth": 0,
              "ticks": ""
             }
            },
            "type": "scatter3d"
           }
          ],
          "scattercarpet": [
           {
            "marker": {
             "colorbar": {
              "outlinewidth": 0,
              "ticks": ""
             }
            },
            "type": "scattercarpet"
           }
          ],
          "scattergeo": [
           {
            "marker": {
             "colorbar": {
              "outlinewidth": 0,
              "ticks": ""
             }
            },
            "type": "scattergeo"
           }
          ],
          "scattergl": [
           {
            "marker": {
             "colorbar": {
              "outlinewidth": 0,
              "ticks": ""
             }
            },
            "type": "scattergl"
           }
          ],
          "scattermapbox": [
           {
            "marker": {
             "colorbar": {
              "outlinewidth": 0,
              "ticks": ""
             }
            },
            "type": "scattermapbox"
           }
          ],
          "scatterpolar": [
           {
            "marker": {
             "colorbar": {
              "outlinewidth": 0,
              "ticks": ""
             }
            },
            "type": "scatterpolar"
           }
          ],
          "scatterpolargl": [
           {
            "marker": {
             "colorbar": {
              "outlinewidth": 0,
              "ticks": ""
             }
            },
            "type": "scatterpolargl"
           }
          ],
          "scatterternary": [
           {
            "marker": {
             "colorbar": {
              "outlinewidth": 0,
              "ticks": ""
             }
            },
            "type": "scatterternary"
           }
          ],
          "surface": [
           {
            "colorbar": {
             "outlinewidth": 0,
             "ticks": ""
            },
            "colorscale": [
             [
              0,
              "#0d0887"
             ],
             [
              0.1111111111111111,
              "#46039f"
             ],
             [
              0.2222222222222222,
              "#7201a8"
             ],
             [
              0.3333333333333333,
              "#9c179e"
             ],
             [
              0.4444444444444444,
              "#bd3786"
             ],
             [
              0.5555555555555556,
              "#d8576b"
             ],
             [
              0.6666666666666666,
              "#ed7953"
             ],
             [
              0.7777777777777778,
              "#fb9f3a"
             ],
             [
              0.8888888888888888,
              "#fdca26"
             ],
             [
              1,
              "#f0f921"
             ]
            ],
            "type": "surface"
           }
          ],
          "table": [
           {
            "cells": {
             "fill": {
              "color": "#EBF0F8"
             },
             "line": {
              "color": "white"
             }
            },
            "header": {
             "fill": {
              "color": "#C8D4E3"
             },
             "line": {
              "color": "white"
             }
            },
            "type": "table"
           }
          ]
         },
         "layout": {
          "annotationdefaults": {
           "arrowcolor": "#2a3f5f",
           "arrowhead": 0,
           "arrowwidth": 1
          },
          "coloraxis": {
           "colorbar": {
            "outlinewidth": 0,
            "ticks": ""
           }
          },
          "colorscale": {
           "diverging": [
            [
             0,
             "#8e0152"
            ],
            [
             0.1,
             "#c51b7d"
            ],
            [
             0.2,
             "#de77ae"
            ],
            [
             0.3,
             "#f1b6da"
            ],
            [
             0.4,
             "#fde0ef"
            ],
            [
             0.5,
             "#f7f7f7"
            ],
            [
             0.6,
             "#e6f5d0"
            ],
            [
             0.7,
             "#b8e186"
            ],
            [
             0.8,
             "#7fbc41"
            ],
            [
             0.9,
             "#4d9221"
            ],
            [
             1,
             "#276419"
            ]
           ],
           "sequential": [
            [
             0,
             "#0d0887"
            ],
            [
             0.1111111111111111,
             "#46039f"
            ],
            [
             0.2222222222222222,
             "#7201a8"
            ],
            [
             0.3333333333333333,
             "#9c179e"
            ],
            [
             0.4444444444444444,
             "#bd3786"
            ],
            [
             0.5555555555555556,
             "#d8576b"
            ],
            [
             0.6666666666666666,
             "#ed7953"
            ],
            [
             0.7777777777777778,
             "#fb9f3a"
            ],
            [
             0.8888888888888888,
             "#fdca26"
            ],
            [
             1,
             "#f0f921"
            ]
           ],
           "sequentialminus": [
            [
             0,
             "#0d0887"
            ],
            [
             0.1111111111111111,
             "#46039f"
            ],
            [
             0.2222222222222222,
             "#7201a8"
            ],
            [
             0.3333333333333333,
             "#9c179e"
            ],
            [
             0.4444444444444444,
             "#bd3786"
            ],
            [
             0.5555555555555556,
             "#d8576b"
            ],
            [
             0.6666666666666666,
             "#ed7953"
            ],
            [
             0.7777777777777778,
             "#fb9f3a"
            ],
            [
             0.8888888888888888,
             "#fdca26"
            ],
            [
             1,
             "#f0f921"
            ]
           ]
          },
          "colorway": [
           "#636efa",
           "#EF553B",
           "#00cc96",
           "#ab63fa",
           "#FFA15A",
           "#19d3f3",
           "#FF6692",
           "#B6E880",
           "#FF97FF",
           "#FECB52"
          ],
          "font": {
           "color": "#2a3f5f"
          },
          "geo": {
           "bgcolor": "white",
           "lakecolor": "white",
           "landcolor": "#E5ECF6",
           "showlakes": true,
           "showland": true,
           "subunitcolor": "white"
          },
          "hoverlabel": {
           "align": "left"
          },
          "hovermode": "closest",
          "mapbox": {
           "style": "light"
          },
          "paper_bgcolor": "white",
          "plot_bgcolor": "#E5ECF6",
          "polar": {
           "angularaxis": {
            "gridcolor": "white",
            "linecolor": "white",
            "ticks": ""
           },
           "bgcolor": "#E5ECF6",
           "radialaxis": {
            "gridcolor": "white",
            "linecolor": "white",
            "ticks": ""
           }
          },
          "scene": {
           "xaxis": {
            "backgroundcolor": "#E5ECF6",
            "gridcolor": "white",
            "gridwidth": 2,
            "linecolor": "white",
            "showbackground": true,
            "ticks": "",
            "zerolinecolor": "white"
           },
           "yaxis": {
            "backgroundcolor": "#E5ECF6",
            "gridcolor": "white",
            "gridwidth": 2,
            "linecolor": "white",
            "showbackground": true,
            "ticks": "",
            "zerolinecolor": "white"
           },
           "zaxis": {
            "backgroundcolor": "#E5ECF6",
            "gridcolor": "white",
            "gridwidth": 2,
            "linecolor": "white",
            "showbackground": true,
            "ticks": "",
            "zerolinecolor": "white"
           }
          },
          "shapedefaults": {
           "line": {
            "color": "#2a3f5f"
           }
          },
          "ternary": {
           "aaxis": {
            "gridcolor": "white",
            "linecolor": "white",
            "ticks": ""
           },
           "baxis": {
            "gridcolor": "white",
            "linecolor": "white",
            "ticks": ""
           },
           "bgcolor": "#E5ECF6",
           "caxis": {
            "gridcolor": "white",
            "linecolor": "white",
            "ticks": ""
           }
          },
          "title": {
           "x": 0.05
          },
          "xaxis": {
           "automargin": true,
           "gridcolor": "white",
           "linecolor": "white",
           "ticks": "",
           "title": {
            "standoff": 15
           },
           "zerolinecolor": "white",
           "zerolinewidth": 2
          },
          "yaxis": {
           "automargin": true,
           "gridcolor": "white",
           "linecolor": "white",
           "ticks": "",
           "title": {
            "standoff": 15
           },
           "zerolinecolor": "white",
           "zerolinewidth": 2
          }
         }
        },
        "xaxis": {
         "anchor": "y",
         "domain": [
          0,
          0.45
         ],
         "title": {
          "text": "Epoch"
         }
        },
        "xaxis2": {
         "anchor": "y2",
         "domain": [
          0.55,
          1
         ],
         "title": {
          "text": "Epoch"
         }
        },
        "yaxis": {
         "anchor": "x",
         "domain": [
          0,
          1
         ],
         "range": [
          0,
          1
         ],
         "title": {
          "text": "Accuracy"
         }
        },
        "yaxis2": {
         "anchor": "x2",
         "domain": [
          0,
          1
         ],
         "range": [
          0,
          1
         ],
         "title": {
          "text": "Loss"
         }
        }
       }
      },
      "text/html": [
       "<div>\n",
       "        \n",
       "        \n",
       "            <div id=\"24e6a87c-0dec-4dca-81e4-062c54daa3f1\" class=\"plotly-graph-div\" style=\"height:525px; width:100%;\"></div>\n",
       "            <script type=\"text/javascript\">\n",
       "                require([\"plotly\"], function(Plotly) {\n",
       "                    window.PLOTLYENV=window.PLOTLYENV || {};\n",
       "                    \n",
       "                if (document.getElementById(\"24e6a87c-0dec-4dca-81e4-062c54daa3f1\")) {\n",
       "                    Plotly.newPlot(\n",
       "                        '24e6a87c-0dec-4dca-81e4-062c54daa3f1',\n",
       "                        [{\"marker\": {\"color\": \"Green\"}, \"mode\": \"markers+lines\", \"name\": \"Training accuracy\", \"text\": [\"1\", \"2\", \"3\", \"4\", \"5\", \"6\", \"7\", \"8\", \"9\", \"10\", \"11\", \"12\", \"13\", \"14\", \"15\", \"16\", \"17\", \"18\", \"19\", \"20\", \"21\", \"22\", \"23\", \"24\", \"25\", \"26\", \"27\", \"28\", \"29\", \"30\", \"31\", \"32\", \"33\", \"34\", \"35\", \"36\", \"37\", \"38\", \"39\", \"40\", \"41\", \"42\", \"43\", \"44\", \"45\", \"46\", \"47\", \"48\", \"49\", \"50\"], \"type\": \"scatter\", \"x\": [1, 2, 3, 4, 5, 6, 7, 8, 9, 10, 11, 12, 13, 14, 15, 16, 17, 18, 19, 20, 21, 22, 23, 24, 25, 26, 27, 28, 29, 30, 31, 32, 33, 34, 35, 36, 37, 38, 39, 40, 41, 42, 43, 44, 45, 46, 47, 48, 49, 50], \"xaxis\": \"x\", \"y\": [0.7005624771118164, 0.812624990940094, 0.8420416712760925, 0.8592708110809326, 0.8693333268165588, 0.8766458630561829, 0.8820000290870667, 0.8863541483879089, 0.890541672706604, 0.8928541541099548, 0.8958541750907898, 0.8973541855812073, 0.9004791378974915, 0.9014583230018616, 0.9041041731834412, 0.906541645526886, 0.9066874980926514, 0.9070208072662354, 0.9093124866485596, 0.9091874957084656, 0.9098125100135803, 0.9131875038146973, 0.9125416874885559, 0.9121458530426025, 0.9151874780654907, 0.9166458249092102, 0.9156041741371155, 0.9164999723434448, 0.9186875224113464, 0.918749988079071, 0.9184374809265137, 0.9194791913032532, 0.9208541512489319, 0.9207291603088379, 0.9208124876022339, 0.9229999780654907, 0.9233333468437195, 0.9240416884422302, 0.9228541851043701, 0.9248124957084656, 0.9246666431427002, 0.9253958463668823, 0.9248124957084656, 0.9271458387374878, 0.9262708425521851, 0.9253749847412109, 0.9274791479110718, 0.9273958206176758, 0.9272708296775818, 0.9288958311080933], \"yaxis\": \"y\"}, {\"marker\": {\"color\": \"Red\"}, \"mode\": \"markers+lines\", \"name\": \"Validation accuracy\", \"text\": [\"1\", \"2\", \"3\", \"4\", \"5\", \"6\", \"7\", \"8\", \"9\", \"10\", \"11\", \"12\", \"13\", \"14\", \"15\", \"16\", \"17\", \"18\", \"19\", \"20\", \"21\", \"22\", \"23\", \"24\", \"25\", \"26\", \"27\", \"28\", \"29\", \"30\", \"31\", \"32\", \"33\", \"34\", \"35\", \"36\", \"37\", \"38\", \"39\", \"40\", \"41\", \"42\", \"43\", \"44\", \"45\", \"46\", \"47\", \"48\", \"49\", \"50\"], \"type\": \"scatter\", \"x\": [1, 2, 3, 4, 5, 6, 7, 8, 9, 10, 11, 12, 13, 14, 15, 16, 17, 18, 19, 20, 21, 22, 23, 24, 25, 26, 27, 28, 29, 30, 31, 32, 33, 34, 35, 36, 37, 38, 39, 40, 41, 42, 43, 44, 45, 46, 47, 48, 49, 50], \"xaxis\": \"x\", \"y\": [0.8208333253860474, 0.8508333563804626, 0.8721666932106018, 0.8854166865348816, 0.8947499990463257, 0.8989166617393494, 0.9039166569709778, 0.9073333144187927, 0.9075000286102295, 0.9079166650772095, 0.9124166369438171, 0.9100000262260437, 0.9138333201408386, 0.9172499775886536, 0.9159166812896729, 0.9176666736602783, 0.9192500114440918, 0.9123333096504211, 0.921833336353302, 0.9170833230018616, 0.9202499985694885, 0.9209166765213013, 0.921500027179718, 0.92166668176651, 0.9223333597183228, 0.9191666841506958, 0.9241666793823242, 0.9198333621025085, 0.9247499704360962, 0.9237499833106995, 0.924916684627533, 0.9234166741371155, 0.9254166483879089, 0.9253333210945129, 0.9200833439826965, 0.9259999990463257, 0.9257500171661377, 0.9241666793823242, 0.9275833368301392, 0.9261666536331177, 0.9280833601951599, 0.9272500276565552, 0.9255833625793457, 0.9275833368301392, 0.9245833158493042, 0.9290000200271606, 0.9259999990463257, 0.9279999732971191, 0.9282500147819519, 0.9262499809265137], \"yaxis\": \"y\"}, {\"marker\": {\"color\": \"Blue\"}, \"mode\": \"markers+lines\", \"name\": \"Training loss\", \"text\": [\"1\", \"2\", \"3\", \"4\", \"5\", \"6\", \"7\", \"8\", \"9\", \"10\", \"11\", \"12\", \"13\", \"14\", \"15\", \"16\", \"17\", \"18\", \"19\", \"20\", \"21\", \"22\", \"23\", \"24\", \"25\", \"26\", \"27\", \"28\", \"29\", \"30\", \"31\", \"32\", \"33\", \"34\", \"35\", \"36\", \"37\", \"38\", \"39\", \"40\", \"41\", \"42\", \"43\", \"44\", \"45\", \"46\", \"47\", \"48\", \"49\", \"50\"], \"type\": \"scatter\", \"x\": [1, 2, 3, 4, 5, 6, 7, 8, 9, 10, 11, 12, 13, 14, 15, 16, 17, 18, 19, 20, 21, 22, 23, 24, 25, 26, 27, 28, 29, 30, 31, 32, 33, 34, 35, 36, 37, 38, 39, 40, 41, 42, 43, 44, 45, 46, 47, 48, 49, 50], \"xaxis\": \"x2\", \"y\": [0.7983529880046845, 0.5014984671274821, 0.42889933482805886, 0.38586079521973926, 0.35875240222613014, 0.33971448028087614, 0.3210936668316523, 0.30771348655223846, 0.29926032813390097, 0.28993789819876353, 0.28225927058855693, 0.27482687260707217, 0.27002629748980206, 0.26649746561050414, 0.2601897549033165, 0.2528657951553663, 0.2520408290425936, 0.24707978916168213, 0.24211045022805533, 0.2408979777097702, 0.23646853719154995, 0.23168940645456315, 0.23364047239224117, 0.23170910374323528, 0.22767825611432393, 0.22264338950316112, 0.22150292456150056, 0.21945919291178387, 0.21718633687496186, 0.2150082371433576, 0.21438090991973877, 0.21167840592066448, 0.21037060950199762, 0.20848472543557484, 0.20692272663116454, 0.20511097113291424, 0.20266126310825347, 0.20115920543670654, 0.20317423329750697, 0.1981605712175369, 0.20068532544374465, 0.1979726264079412, 0.19863239391644796, 0.1935908492207527, 0.19473736095428468, 0.1971344406604767, 0.1932236272295316, 0.19227657840649287, 0.19063377918799718, 0.18910727308193842], \"yaxis\": \"y2\"}, {\"marker\": {\"color\": \"Orange\"}, \"mode\": \"markers+lines\", \"name\": \"Validation loss\", \"text\": [\"1\", \"2\", \"3\", \"4\", \"5\", \"6\", \"7\", \"8\", \"9\", \"10\", \"11\", \"12\", \"13\", \"14\", \"15\", \"16\", \"17\", \"18\", \"19\", \"20\", \"21\", \"22\", \"23\", \"24\", \"25\", \"26\", \"27\", \"28\", \"29\", \"30\", \"31\", \"32\", \"33\", \"34\", \"35\", \"36\", \"37\", \"38\", \"39\", \"40\", \"41\", \"42\", \"43\", \"44\", \"45\", \"46\", \"47\", \"48\", \"49\", \"50\"], \"type\": \"scatter\", \"x\": [1, 2, 3, 4, 5, 6, 7, 8, 9, 10, 11, 12, 13, 14, 15, 16, 17, 18, 19, 20, 21, 22, 23, 24, 25, 26, 27, 28, 29, 30, 31, 32, 33, 34, 35, 36, 37, 38, 39, 40, 41, 42, 43, 44, 45, 46, 47, 48, 49, 50], \"xaxis\": \"x2\", \"y\": [0.5018023241360983, 0.40221025109291075, 0.3513926284313202, 0.31609460632006325, 0.2906633493900299, 0.2767844409147898, 0.2620363819599152, 0.25515969649950665, 0.2533438727458318, 0.25246429578463236, 0.23734367418289185, 0.23796259570121764, 0.23414057620366413, 0.22743552350997925, 0.23166626087824504, 0.22478790577252705, 0.22532643779118855, 0.2342875870068868, 0.2186631749868393, 0.22422847219308217, 0.2179135341644287, 0.21689476851622264, 0.21588951186339062, 0.2224890183210373, 0.21646544488271077, 0.22207258208592734, 0.2163110738595327, 0.2214181677500407, 0.21157893153031668, 0.21527116922537487, 0.2158998706738154, 0.21871991662184398, 0.21691879439353942, 0.21194314781824747, 0.221780650695165, 0.2090491690635681, 0.2106196626027425, 0.21003467750549315, 0.2042269015709559, 0.20567128411928812, 0.20613147405783336, 0.20776489090919495, 0.21453009593486785, 0.2100257761478424, 0.20954067575931548, 0.2062723432779312, 0.2119327130317688, 0.2075922450621923, 0.20519397834936778, 0.20839032955964407], \"yaxis\": \"y2\"}],\n",
       "                        {\"annotations\": [{\"font\": {\"size\": 16}, \"showarrow\": false, \"text\": \"Training and validation accuracy\", \"x\": 0.225, \"xanchor\": \"center\", \"xref\": \"paper\", \"y\": 1.0, \"yanchor\": \"bottom\", \"yref\": \"paper\"}, {\"font\": {\"size\": 16}, \"showarrow\": false, \"text\": \"Training and validation loss\", \"x\": 0.775, \"xanchor\": \"center\", \"xref\": \"paper\", \"y\": 1.0, \"yanchor\": \"bottom\", \"yref\": \"paper\"}], \"template\": {\"data\": {\"bar\": [{\"error_x\": {\"color\": \"#2a3f5f\"}, \"error_y\": {\"color\": \"#2a3f5f\"}, \"marker\": {\"line\": {\"color\": \"#E5ECF6\", \"width\": 0.5}}, \"type\": \"bar\"}], \"barpolar\": [{\"marker\": {\"line\": {\"color\": \"#E5ECF6\", \"width\": 0.5}}, \"type\": \"barpolar\"}], \"carpet\": [{\"aaxis\": {\"endlinecolor\": \"#2a3f5f\", \"gridcolor\": \"white\", \"linecolor\": \"white\", \"minorgridcolor\": \"white\", \"startlinecolor\": \"#2a3f5f\"}, \"baxis\": {\"endlinecolor\": \"#2a3f5f\", \"gridcolor\": \"white\", \"linecolor\": \"white\", \"minorgridcolor\": \"white\", \"startlinecolor\": \"#2a3f5f\"}, \"type\": \"carpet\"}], \"choropleth\": [{\"colorbar\": {\"outlinewidth\": 0, \"ticks\": \"\"}, \"type\": \"choropleth\"}], \"contour\": [{\"colorbar\": {\"outlinewidth\": 0, \"ticks\": \"\"}, \"colorscale\": [[0.0, \"#0d0887\"], [0.1111111111111111, \"#46039f\"], [0.2222222222222222, \"#7201a8\"], [0.3333333333333333, \"#9c179e\"], [0.4444444444444444, \"#bd3786\"], [0.5555555555555556, \"#d8576b\"], [0.6666666666666666, \"#ed7953\"], [0.7777777777777778, \"#fb9f3a\"], [0.8888888888888888, \"#fdca26\"], [1.0, \"#f0f921\"]], \"type\": \"contour\"}], \"contourcarpet\": [{\"colorbar\": {\"outlinewidth\": 0, \"ticks\": \"\"}, \"type\": \"contourcarpet\"}], \"heatmap\": [{\"colorbar\": {\"outlinewidth\": 0, \"ticks\": \"\"}, \"colorscale\": [[0.0, \"#0d0887\"], [0.1111111111111111, \"#46039f\"], [0.2222222222222222, \"#7201a8\"], [0.3333333333333333, \"#9c179e\"], [0.4444444444444444, \"#bd3786\"], [0.5555555555555556, \"#d8576b\"], [0.6666666666666666, \"#ed7953\"], [0.7777777777777778, \"#fb9f3a\"], [0.8888888888888888, \"#fdca26\"], [1.0, \"#f0f921\"]], \"type\": \"heatmap\"}], \"heatmapgl\": [{\"colorbar\": {\"outlinewidth\": 0, \"ticks\": \"\"}, \"colorscale\": [[0.0, \"#0d0887\"], [0.1111111111111111, \"#46039f\"], [0.2222222222222222, \"#7201a8\"], [0.3333333333333333, \"#9c179e\"], [0.4444444444444444, \"#bd3786\"], [0.5555555555555556, \"#d8576b\"], [0.6666666666666666, \"#ed7953\"], [0.7777777777777778, \"#fb9f3a\"], [0.8888888888888888, \"#fdca26\"], [1.0, \"#f0f921\"]], \"type\": \"heatmapgl\"}], \"histogram\": [{\"marker\": {\"colorbar\": {\"outlinewidth\": 0, \"ticks\": \"\"}}, \"type\": \"histogram\"}], \"histogram2d\": [{\"colorbar\": {\"outlinewidth\": 0, \"ticks\": \"\"}, \"colorscale\": [[0.0, \"#0d0887\"], [0.1111111111111111, \"#46039f\"], [0.2222222222222222, \"#7201a8\"], [0.3333333333333333, \"#9c179e\"], [0.4444444444444444, \"#bd3786\"], [0.5555555555555556, \"#d8576b\"], [0.6666666666666666, \"#ed7953\"], [0.7777777777777778, \"#fb9f3a\"], [0.8888888888888888, \"#fdca26\"], [1.0, \"#f0f921\"]], \"type\": \"histogram2d\"}], \"histogram2dcontour\": [{\"colorbar\": {\"outlinewidth\": 0, \"ticks\": \"\"}, \"colorscale\": [[0.0, \"#0d0887\"], [0.1111111111111111, \"#46039f\"], [0.2222222222222222, \"#7201a8\"], [0.3333333333333333, \"#9c179e\"], [0.4444444444444444, \"#bd3786\"], [0.5555555555555556, \"#d8576b\"], [0.6666666666666666, \"#ed7953\"], [0.7777777777777778, \"#fb9f3a\"], [0.8888888888888888, \"#fdca26\"], [1.0, \"#f0f921\"]], \"type\": \"histogram2dcontour\"}], \"mesh3d\": [{\"colorbar\": {\"outlinewidth\": 0, \"ticks\": \"\"}, \"type\": \"mesh3d\"}], \"parcoords\": [{\"line\": {\"colorbar\": {\"outlinewidth\": 0, \"ticks\": \"\"}}, \"type\": \"parcoords\"}], \"pie\": [{\"automargin\": true, \"type\": \"pie\"}], \"scatter\": [{\"marker\": {\"colorbar\": {\"outlinewidth\": 0, \"ticks\": \"\"}}, \"type\": \"scatter\"}], \"scatter3d\": [{\"line\": {\"colorbar\": {\"outlinewidth\": 0, \"ticks\": \"\"}}, \"marker\": {\"colorbar\": {\"outlinewidth\": 0, \"ticks\": \"\"}}, \"type\": \"scatter3d\"}], \"scattercarpet\": [{\"marker\": {\"colorbar\": {\"outlinewidth\": 0, \"ticks\": \"\"}}, \"type\": \"scattercarpet\"}], \"scattergeo\": [{\"marker\": {\"colorbar\": {\"outlinewidth\": 0, \"ticks\": \"\"}}, \"type\": \"scattergeo\"}], \"scattergl\": [{\"marker\": {\"colorbar\": {\"outlinewidth\": 0, \"ticks\": \"\"}}, \"type\": \"scattergl\"}], \"scattermapbox\": [{\"marker\": {\"colorbar\": {\"outlinewidth\": 0, \"ticks\": \"\"}}, \"type\": \"scattermapbox\"}], \"scatterpolar\": [{\"marker\": {\"colorbar\": {\"outlinewidth\": 0, \"ticks\": \"\"}}, \"type\": \"scatterpolar\"}], \"scatterpolargl\": [{\"marker\": {\"colorbar\": {\"outlinewidth\": 0, \"ticks\": \"\"}}, \"type\": \"scatterpolargl\"}], \"scatterternary\": [{\"marker\": {\"colorbar\": {\"outlinewidth\": 0, \"ticks\": \"\"}}, \"type\": \"scatterternary\"}], \"surface\": [{\"colorbar\": {\"outlinewidth\": 0, \"ticks\": \"\"}, \"colorscale\": [[0.0, \"#0d0887\"], [0.1111111111111111, \"#46039f\"], [0.2222222222222222, \"#7201a8\"], [0.3333333333333333, \"#9c179e\"], [0.4444444444444444, \"#bd3786\"], [0.5555555555555556, \"#d8576b\"], [0.6666666666666666, \"#ed7953\"], [0.7777777777777778, \"#fb9f3a\"], [0.8888888888888888, \"#fdca26\"], [1.0, \"#f0f921\"]], \"type\": \"surface\"}], \"table\": [{\"cells\": {\"fill\": {\"color\": \"#EBF0F8\"}, \"line\": {\"color\": \"white\"}}, \"header\": {\"fill\": {\"color\": \"#C8D4E3\"}, \"line\": {\"color\": \"white\"}}, \"type\": \"table\"}]}, \"layout\": {\"annotationdefaults\": {\"arrowcolor\": \"#2a3f5f\", \"arrowhead\": 0, \"arrowwidth\": 1}, \"coloraxis\": {\"colorbar\": {\"outlinewidth\": 0, \"ticks\": \"\"}}, \"colorscale\": {\"diverging\": [[0, \"#8e0152\"], [0.1, \"#c51b7d\"], [0.2, \"#de77ae\"], [0.3, \"#f1b6da\"], [0.4, \"#fde0ef\"], [0.5, \"#f7f7f7\"], [0.6, \"#e6f5d0\"], [0.7, \"#b8e186\"], [0.8, \"#7fbc41\"], [0.9, \"#4d9221\"], [1, \"#276419\"]], \"sequential\": [[0.0, \"#0d0887\"], [0.1111111111111111, \"#46039f\"], [0.2222222222222222, \"#7201a8\"], [0.3333333333333333, \"#9c179e\"], [0.4444444444444444, \"#bd3786\"], [0.5555555555555556, \"#d8576b\"], [0.6666666666666666, \"#ed7953\"], [0.7777777777777778, \"#fb9f3a\"], [0.8888888888888888, \"#fdca26\"], [1.0, \"#f0f921\"]], \"sequentialminus\": [[0.0, \"#0d0887\"], [0.1111111111111111, \"#46039f\"], [0.2222222222222222, \"#7201a8\"], [0.3333333333333333, \"#9c179e\"], [0.4444444444444444, \"#bd3786\"], [0.5555555555555556, \"#d8576b\"], [0.6666666666666666, \"#ed7953\"], [0.7777777777777778, \"#fb9f3a\"], [0.8888888888888888, \"#fdca26\"], [1.0, \"#f0f921\"]]}, \"colorway\": [\"#636efa\", \"#EF553B\", \"#00cc96\", \"#ab63fa\", \"#FFA15A\", \"#19d3f3\", \"#FF6692\", \"#B6E880\", \"#FF97FF\", \"#FECB52\"], \"font\": {\"color\": \"#2a3f5f\"}, \"geo\": {\"bgcolor\": \"white\", \"lakecolor\": \"white\", \"landcolor\": \"#E5ECF6\", \"showlakes\": true, \"showland\": true, \"subunitcolor\": \"white\"}, \"hoverlabel\": {\"align\": \"left\"}, \"hovermode\": \"closest\", \"mapbox\": {\"style\": \"light\"}, \"paper_bgcolor\": \"white\", \"plot_bgcolor\": \"#E5ECF6\", \"polar\": {\"angularaxis\": {\"gridcolor\": \"white\", \"linecolor\": \"white\", \"ticks\": \"\"}, \"bgcolor\": \"#E5ECF6\", \"radialaxis\": {\"gridcolor\": \"white\", \"linecolor\": \"white\", \"ticks\": \"\"}}, \"scene\": {\"xaxis\": {\"backgroundcolor\": \"#E5ECF6\", \"gridcolor\": \"white\", \"gridwidth\": 2, \"linecolor\": \"white\", \"showbackground\": true, \"ticks\": \"\", \"zerolinecolor\": \"white\"}, \"yaxis\": {\"backgroundcolor\": \"#E5ECF6\", \"gridcolor\": \"white\", \"gridwidth\": 2, \"linecolor\": \"white\", \"showbackground\": true, \"ticks\": \"\", \"zerolinecolor\": \"white\"}, \"zaxis\": {\"backgroundcolor\": \"#E5ECF6\", \"gridcolor\": \"white\", \"gridwidth\": 2, \"linecolor\": \"white\", \"showbackground\": true, \"ticks\": \"\", \"zerolinecolor\": \"white\"}}, \"shapedefaults\": {\"line\": {\"color\": \"#2a3f5f\"}}, \"ternary\": {\"aaxis\": {\"gridcolor\": \"white\", \"linecolor\": \"white\", \"ticks\": \"\"}, \"baxis\": {\"gridcolor\": \"white\", \"linecolor\": \"white\", \"ticks\": \"\"}, \"bgcolor\": \"#E5ECF6\", \"caxis\": {\"gridcolor\": \"white\", \"linecolor\": \"white\", \"ticks\": \"\"}}, \"title\": {\"x\": 0.05}, \"xaxis\": {\"automargin\": true, \"gridcolor\": \"white\", \"linecolor\": \"white\", \"ticks\": \"\", \"title\": {\"standoff\": 15}, \"zerolinecolor\": \"white\", \"zerolinewidth\": 2}, \"yaxis\": {\"automargin\": true, \"gridcolor\": \"white\", \"linecolor\": \"white\", \"ticks\": \"\", \"title\": {\"standoff\": 15}, \"zerolinecolor\": \"white\", \"zerolinewidth\": 2}}}, \"xaxis\": {\"anchor\": \"y\", \"domain\": [0.0, 0.45], \"title\": {\"text\": \"Epoch\"}}, \"xaxis2\": {\"anchor\": \"y2\", \"domain\": [0.55, 1.0], \"title\": {\"text\": \"Epoch\"}}, \"yaxis\": {\"anchor\": \"x\", \"domain\": [0.0, 1.0], \"range\": [0, 1], \"title\": {\"text\": \"Accuracy\"}}, \"yaxis2\": {\"anchor\": \"x2\", \"domain\": [0.0, 1.0], \"range\": [0, 1], \"title\": {\"text\": \"Loss\"}}},\n",
       "                        {\"responsive\": true}\n",
       "                    ).then(function(){\n",
       "                            \n",
       "var gd = document.getElementById('24e6a87c-0dec-4dca-81e4-062c54daa3f1');\n",
       "var x = new MutationObserver(function (mutations, observer) {{\n",
       "        var display = window.getComputedStyle(gd).display;\n",
       "        if (!display || display === 'none') {{\n",
       "            console.log([gd, 'removed!']);\n",
       "            Plotly.purge(gd);\n",
       "            observer.disconnect();\n",
       "        }}\n",
       "}});\n",
       "\n",
       "// Listen for the removal of the full notebook cells\n",
       "var notebookContainer = gd.closest('#notebook-container');\n",
       "if (notebookContainer) {{\n",
       "    x.observe(notebookContainer, {childList: true});\n",
       "}}\n",
       "\n",
       "// Listen for the clearing of the current output cell\n",
       "var outputEl = gd.closest('.output');\n",
       "if (outputEl) {{\n",
       "    x.observe(outputEl, {childList: true});\n",
       "}}\n",
       "\n",
       "                        })\n",
       "                };\n",
       "                });\n",
       "            </script>\n",
       "        </div>"
      ]
     },
     "metadata": {},
     "output_type": "display_data"
    }
   ],
   "source": [
    "plot_accuracy_and_loss(train_model2)"
   ]
  },
  {
   "cell_type": "markdown",
   "metadata": {},
   "source": [
    "After adding the Dropout layers, the validation accuracy and validation loss are much better.\n",
    "\n",
    "### Plot Confusion Matrix\n",
    "Confusion matrix will allow us to visualize our algorithms performance, plotting the correct answers against the answers our model has estimated. With it, we will be able to see which 'classes' of clothing items are least accurately predicted by our model. (We could then pass additional items of that class in order to strengthen our machines predictive capabilities)"
   ]
  },
  {
   "cell_type": "code",
   "execution_count": 73,
   "metadata": {},
   "outputs": [
    {
     "data": {
      "image/png": "[encoded data removed]",
      "text/plain": [
       "<Figure size 1152x576 with 2 Axes>"
      ]
     },
     "metadata": {
      "needs_background": "light"
     },
     "output_type": "display_data"
    },
    {
     "name": "stdout",
     "output_type": "stream",
     "text": [
      "Class: 0\n",
      "Number of Wrong Prediction: 95 out of 1000\n",
      "Class: 1\n",
      "Number of Wrong Prediction: 18 out of 1000\n",
      "Class: 2\n",
      "Number of Wrong Prediction: 105 out of 1000\n",
      "Class: 3\n",
      "Number of Wrong Prediction: 78 out of 1000\n",
      "Class: 4\n",
      "Number of Wrong Prediction: 141 out of 1000\n",
      "Class: 5\n",
      "Number of Wrong Prediction: 21 out of 1000\n",
      "Class: 6\n",
      "Number of Wrong Prediction: 313 out of 1000\n",
      "Class: 7\n",
      "Number of Wrong Prediction: 20 out of 1000\n",
      "Class: 8\n",
      "Number of Wrong Prediction: 15 out of 1000\n",
      "Class: 9\n",
      "Number of Wrong Prediction: 45 out of 1000\n"
     ]
    }
   ],
   "source": [
    "Y_pred = cnn2.predict(testX)\n",
    "Y_pred_classes = np.argmax(Y_pred, axis = 1)\n",
    "Y_true = np.argmax(testY, axis = 1)\n",
    "confusionMatrix = confusion_matrix(Y_true, Y_pred_classes)\n",
    "\n",
    "f,ax=plt.subplots(figsize=(16,8))\n",
    "sns.heatmap(confusionMatrix, annot=True, linewidths=0.1, cmap = \"gist_yarg_r\", linecolor=\"black\", fmt='.0f', ax=ax)\n",
    "plt.xlabel(\"Predicted Label\")\n",
    "plt.ylabel(\"True Label\")\n",
    "plt.title(\"Confusion Matrix\")\n",
    "plt.show()\n",
    "\n",
    "# For loop to print how many items of each class have been incorrectly estimated\n",
    "for i in range(len(confusionMatrix)):\n",
    "    print(\"Class:\",str(i))\n",
    "    print(\"Number of Wrong Prediction:\", str(sum(confusionMatrix[i])-confusionMatrix[i][i]), \"out of 1000\")"
   ]
  },
  {
   "cell_type": "markdown",
   "metadata": {},
   "source": [
    "### Visualize classified images\n",
    "\n",
    "#### Correctly classified images\n",
    "We visualize few images correctly classified."
   ]
  },
  {
   "cell_type": "code",
   "execution_count": 75,
   "metadata": {},
   "outputs": [
    {
     "data": {
      "image/png": "[encoded data removed]",
      "text/plain": [
       "<Figure size 1080x1080 with 16 Axes>"
      ]
     },
     "metadata": {
      "needs_background": "light"
     },
     "output_type": "display_data"
    }
   ],
   "source": [
    "#get the predictions for the test data\n",
    "predicted_classes = cnn2.predict_classes(testX)\n",
    "#get the indices to be plotted\n",
    "y_true = test_data_df.iloc[:, 0]\n",
    "\n",
    "p = predicted_classes[:10000]\n",
    "y = y_true[:10000]\n",
    "correct = np.nonzero(p==y)[0]\n",
    "incorrect = np.nonzero(p!=y)[0]\n",
    "\n",
    "def plot_images(data_index,cmap=\"Blues\"):\n",
    "    # Plot the sample images now\n",
    "    f, ax = plt.subplots(4,4, figsize=(15,15))\n",
    "\n",
    "    for i, indx in enumerate(data_index[:16]):\n",
    "        ax[i//4, i%4].imshow(testX[indx].reshape(ROWS,COLUMNS), cmap=cmap)\n",
    "        ax[i//4, i%4].axis('off')\n",
    "        ax[i//4, i%4].set_title(\"True:{}  Pred:{}\".format(labels[y_true[indx]],labels[predicted_classes[indx]]))\n",
    "    plt.show()    \n",
    "    \n",
    "plot_images(correct, \"Greens\")"
   ]
  },
  {
   "cell_type": "markdown",
   "metadata": {},
   "source": [
    "#### Incorrectly classified images\n",
    "Let's see also few images incorrectly classified."
   ]
  },
  {
   "cell_type": "code",
   "execution_count": 76,
   "metadata": {},
   "outputs": [
    {
     "data": {
      "image/png": "[encoded data removed]",
      "text/plain": [
       "<Figure size 1080x1080 with 16 Axes>"
      ]
     },
     "metadata": {
      "needs_background": "light"
     },
     "output_type": "display_data"
    }
   ],
   "source": [
    "plot_images(incorrect, \"Reds\")"
   ]
  },
  {
   "cell_type": "markdown",
   "metadata": {},
   "source": [
    "--------------------------------------------------------------------------------------------------------------\n",
    "\n",
    "## Other Models\n",
    "\n",
    "\n",
    "#### Model 1: DNN\n",
    "\n",
    "As a first model, a Deep Neural Network(DNN) model is discussed. We can successfully train a simple neural network to perform regression and classification. But, a DNN may not perform well with images. Outline of implementation using DNN is depicted in below image. <br>\n",
    "<img src=\"https://miro.medium.com/max/1152/1*29kriitcKI6M-wxtkV0NpQ.jpeg\" width=\"50%\">\n",
    "\n"
   ]
  },
  {
   "cell_type": "code",
   "execution_count": 80,
   "metadata": {},
   "outputs": [
    {
     "name": "stdout",
     "output_type": "stream",
     "text": [
      "Model: \"sequential_8\"\n",
      "_________________________________________________________________\n",
      "Layer (type)                 Output Shape              Param #   \n",
      "=================================================================\n",
      "flatten_7 (Flatten)          (None, 784)               0         \n",
      "_________________________________________________________________\n",
      "dense_13 (Dense)             (None, 128)               100480    \n",
      "_________________________________________________________________\n",
      "dropout_13 (Dropout)         (None, 128)               0         \n",
      "_________________________________________________________________\n",
      "dense_14 (Dense)             (None, 10)                1290      \n",
      "=================================================================\n",
      "Total params: 101,770\n",
      "Trainable params: 101,770\n",
      "Non-trainable params: 0\n",
      "_________________________________________________________________\n"
     ]
    }
   ],
   "source": [
    "# dnn model\n",
    "dnn = Sequential()\n",
    "\n",
    "# Add convolution 2D\n",
    "dnn.add(Flatten(input_shape=(ROWS, COLUMNS, 1)))\n",
    "dnn.add(Dense(128, activation='relu'))\n",
    "dnn.add(Dropout(0.5))\n",
    "dnn.add(Dense(CLASS, activation='softmax'))\n",
    "optim = Adam(lr=0.001, decay=0.0) # these are default values in Adam's documentation.\n",
    "\n",
    "dnn.compile(loss=keras.losses.categorical_crossentropy,\n",
    "              optimizer='adam',\n",
    "              metrics=['accuracy'])\n",
    "dnn.build()\n",
    "dnn.summary()"
   ]
  },
  {
   "cell_type": "code",
   "execution_count": 81,
   "metadata": {},
   "outputs": [
    {
     "name": "stdout",
     "output_type": "stream",
     "text": [
      "Train on 48000 samples, validate on 12000 samples\n",
      "Epoch 1/50\n",
      "48000/48000 [==============================] - 1s 31us/step - loss: 0.7243 - accuracy: 0.7465 - val_loss: 0.4919 - val_accuracy: 0.8319\n",
      "Epoch 2/50\n",
      "48000/48000 [==============================] - 1s 27us/step - loss: 0.5087 - accuracy: 0.8214 - val_loss: 0.4279 - val_accuracy: 0.8457\n",
      "Epoch 3/50\n",
      "48000/48000 [==============================] - 1s 27us/step - loss: 0.4623 - accuracy: 0.8348 - val_loss: 0.3954 - val_accuracy: 0.8566\n",
      "Epoch 4/50\n",
      "48000/48000 [==============================] - 1s 29us/step - loss: 0.4379 - accuracy: 0.8432 - val_loss: 0.3750 - val_accuracy: 0.8663\n",
      "Epoch 5/50\n",
      "48000/48000 [==============================] - 1s 27us/step - loss: 0.4163 - accuracy: 0.8512 - val_loss: 0.3677 - val_accuracy: 0.8682\n",
      "Epoch 6/50\n",
      "48000/48000 [==============================] - 1s 27us/step - loss: 0.4038 - accuracy: 0.8535 - val_loss: 0.3582 - val_accuracy: 0.8710\n",
      "Epoch 7/50\n",
      "48000/48000 [==============================] - 1s 27us/step - loss: 0.3923 - accuracy: 0.8589 - val_loss: 0.3510 - val_accuracy: 0.8739\n",
      "Epoch 8/50\n",
      "48000/48000 [==============================] - 1s 30us/step - loss: 0.3867 - accuracy: 0.8611 - val_loss: 0.3528 - val_accuracy: 0.8699\n",
      "Epoch 9/50\n",
      "48000/48000 [==============================] - 1s 27us/step - loss: 0.3766 - accuracy: 0.8642 - val_loss: 0.3470 - val_accuracy: 0.8752\n",
      "Epoch 10/50\n",
      "48000/48000 [==============================] - 1s 27us/step - loss: 0.3692 - accuracy: 0.8654 - val_loss: 0.3390 - val_accuracy: 0.8763\n",
      "Epoch 11/50\n",
      "48000/48000 [==============================] - 1s 27us/step - loss: 0.3649 - accuracy: 0.8654 - val_loss: 0.3322 - val_accuracy: 0.8817\n",
      "Epoch 12/50\n",
      "48000/48000 [==============================] - 1s 27us/step - loss: 0.3634 - accuracy: 0.8686 - val_loss: 0.3302 - val_accuracy: 0.8822\n",
      "Epoch 13/50\n",
      "48000/48000 [==============================] - 1s 27us/step - loss: 0.3560 - accuracy: 0.8708 - val_loss: 0.3301 - val_accuracy: 0.8813\n",
      "Epoch 14/50\n",
      "48000/48000 [==============================] - 1s 27us/step - loss: 0.3499 - accuracy: 0.8732 - val_loss: 0.3237 - val_accuracy: 0.8849\n",
      "Epoch 15/50\n",
      "48000/48000 [==============================] - 1s 27us/step - loss: 0.3455 - accuracy: 0.8719 - val_loss: 0.3266 - val_accuracy: 0.8784\n",
      "Epoch 16/50\n",
      "48000/48000 [==============================] - 1s 27us/step - loss: 0.3419 - accuracy: 0.8741 - val_loss: 0.3237 - val_accuracy: 0.8848\n",
      "Epoch 17/50\n",
      "48000/48000 [==============================] - 1s 28us/step - loss: 0.3386 - accuracy: 0.8764 - val_loss: 0.3219 - val_accuracy: 0.8831\n",
      "Epoch 18/50\n",
      "48000/48000 [==============================] - 1s 29us/step - loss: 0.3348 - accuracy: 0.8753 - val_loss: 0.3218 - val_accuracy: 0.8856\n",
      "Epoch 19/50\n",
      "48000/48000 [==============================] - 1s 29us/step - loss: 0.3348 - accuracy: 0.8777 - val_loss: 0.3158 - val_accuracy: 0.8857\n",
      "Epoch 20/50\n",
      "48000/48000 [==============================] - 1s 28us/step - loss: 0.3260 - accuracy: 0.8795 - val_loss: 0.3188 - val_accuracy: 0.8858\n",
      "Epoch 21/50\n",
      "48000/48000 [==============================] - 1s 30us/step - loss: 0.3249 - accuracy: 0.8796 - val_loss: 0.3230 - val_accuracy: 0.8824\n",
      "Epoch 22/50\n",
      "48000/48000 [==============================] - 1s 27us/step - loss: 0.3259 - accuracy: 0.8785 - val_loss: 0.3166 - val_accuracy: 0.8880\n",
      "Epoch 23/50\n",
      "48000/48000 [==============================] - 1s 27us/step - loss: 0.3222 - accuracy: 0.8811 - val_loss: 0.3203 - val_accuracy: 0.8865\n",
      "Epoch 24/50\n",
      "48000/48000 [==============================] - 1s 27us/step - loss: 0.3175 - accuracy: 0.8834 - val_loss: 0.3207 - val_accuracy: 0.8852\n",
      "Epoch 25/50\n",
      "48000/48000 [==============================] - 1s 27us/step - loss: 0.3185 - accuracy: 0.8826 - val_loss: 0.3146 - val_accuracy: 0.8912\n",
      "Epoch 26/50\n",
      "48000/48000 [==============================] - 1s 27us/step - loss: 0.3171 - accuracy: 0.8832 - val_loss: 0.3138 - val_accuracy: 0.8865\n",
      "Epoch 27/50\n",
      "48000/48000 [==============================] - 1s 27us/step - loss: 0.3099 - accuracy: 0.8834 - val_loss: 0.3194 - val_accuracy: 0.8878\n",
      "Epoch 28/50\n",
      "48000/48000 [==============================] - 1s 27us/step - loss: 0.3048 - accuracy: 0.8857 - val_loss: 0.3149 - val_accuracy: 0.8872\n",
      "Epoch 29/50\n",
      "48000/48000 [==============================] - 1s 27us/step - loss: 0.3061 - accuracy: 0.8853 - val_loss: 0.3097 - val_accuracy: 0.8893\n",
      "Epoch 30/50\n",
      "48000/48000 [==============================] - 1s 27us/step - loss: 0.3024 - accuracy: 0.8866 - val_loss: 0.3076 - val_accuracy: 0.8900\n",
      "Epoch 31/50\n",
      "48000/48000 [==============================] - 1s 27us/step - loss: 0.3042 - accuracy: 0.8849 - val_loss: 0.3142 - val_accuracy: 0.8887\n",
      "Epoch 32/50\n",
      "48000/48000 [==============================] - 1s 28us/step - loss: 0.3030 - accuracy: 0.8863 - val_loss: 0.3123 - val_accuracy: 0.8882\n",
      "Epoch 33/50\n",
      "48000/48000 [==============================] - 1s 27us/step - loss: 0.2984 - accuracy: 0.8886 - val_loss: 0.3169 - val_accuracy: 0.8882\n",
      "Epoch 34/50\n",
      "48000/48000 [==============================] - 1s 27us/step - loss: 0.2962 - accuracy: 0.8889 - val_loss: 0.3133 - val_accuracy: 0.8878\n",
      "Epoch 35/50\n",
      "48000/48000 [==============================] - 1s 27us/step - loss: 0.2935 - accuracy: 0.8887 - val_loss: 0.3166 - val_accuracy: 0.8910\n",
      "Epoch 36/50\n",
      "48000/48000 [==============================] - 1s 28us/step - loss: 0.2927 - accuracy: 0.8906 - val_loss: 0.3111 - val_accuracy: 0.8965\n",
      "Epoch 37/50\n",
      "48000/48000 [==============================] - 1s 28us/step - loss: 0.2927 - accuracy: 0.8896 - val_loss: 0.3092 - val_accuracy: 0.8920\n",
      "Epoch 38/50\n",
      "48000/48000 [==============================] - 1s 28us/step - loss: 0.2907 - accuracy: 0.8921 - val_loss: 0.3086 - val_accuracy: 0.8946\n",
      "Epoch 39/50\n",
      "48000/48000 [==============================] - 1s 29us/step - loss: 0.2885 - accuracy: 0.8903 - val_loss: 0.3262 - val_accuracy: 0.8846\n",
      "Epoch 40/50\n",
      "48000/48000 [==============================] - 1s 31us/step - loss: 0.2846 - accuracy: 0.8943 - val_loss: 0.3089 - val_accuracy: 0.8918\n",
      "Epoch 41/50\n",
      "48000/48000 [==============================] - 1s 30us/step - loss: 0.2811 - accuracy: 0.8935 - val_loss: 0.3129 - val_accuracy: 0.8931\n",
      "Epoch 42/50\n",
      "48000/48000 [==============================] - 2s 33us/step - loss: 0.2821 - accuracy: 0.8931 - val_loss: 0.3183 - val_accuracy: 0.8917\n",
      "Epoch 43/50\n",
      "48000/48000 [==============================] - 1s 29us/step - loss: 0.2837 - accuracy: 0.8916 - val_loss: 0.3110 - val_accuracy: 0.8944\n",
      "Epoch 44/50\n",
      "48000/48000 [==============================] - 1s 30us/step - loss: 0.2801 - accuracy: 0.8945 - val_loss: 0.3096 - val_accuracy: 0.8926\n",
      "Epoch 45/50\n",
      "48000/48000 [==============================] - 2s 32us/step - loss: 0.2782 - accuracy: 0.8944 - val_loss: 0.3187 - val_accuracy: 0.8881\n",
      "Epoch 46/50\n",
      "48000/48000 [==============================] - 2s 36us/step - loss: 0.2766 - accuracy: 0.8951 - val_loss: 0.3075 - val_accuracy: 0.8938\n",
      "Epoch 47/50\n",
      "48000/48000 [==============================] - 2s 33us/step - loss: 0.2755 - accuracy: 0.8962 - val_loss: 0.3136 - val_accuracy: 0.8925\n",
      "Epoch 48/50\n",
      "48000/48000 [==============================] - 1s 30us/step - loss: 0.2779 - accuracy: 0.8936 - val_loss: 0.3203 - val_accuracy: 0.8914\n",
      "Epoch 49/50\n",
      "48000/48000 [==============================] - 1s 29us/step - loss: 0.2759 - accuracy: 0.8953 - val_loss: 0.3128 - val_accuracy: 0.8932\n",
      "Epoch 50/50\n",
      "48000/48000 [==============================] - 1s 29us/step - loss: 0.2696 - accuracy: 0.8970 - val_loss: 0.3131 - val_accuracy: 0.8931\n"
     ]
    }
   ],
   "source": [
    "start_time = time.time()\n",
    "train_model_dnn = dnn.fit(X_train, y_train,\n",
    "                  batch_size=BATCH_SIZE,\n",
    "                  epochs=NUMBER_OF_EPOCHS,\n",
    "                  verbose=1,\n",
    "                  validation_data=(X_val, y_val))\n",
    "end_time = time.time()\n",
    "duration = end_time - start_time"
   ]
  },
  {
   "cell_type": "code",
   "execution_count": 82,
   "metadata": {},
   "outputs": [
    {
     "name": "stdout",
     "output_type": "stream",
     "text": [
      "10000/10000 [==============================] - 0s 27us/step\n",
      "Test loss: 0.3482525764107704\n",
      "Test accuracy: 0.8820000290870667\n",
      "Duration:  68.71407628059387\n"
     ]
    }
   ],
   "source": [
    "score = dnn.evaluate(testX, testY, verbose=1)\n",
    "print('Test loss:', score[0])\n",
    "print('Test accuracy:', score[1])\n",
    "print('Duration: ',duration)"
   ]
  },
  {
   "cell_type": "markdown",
   "metadata": {},
   "source": [
    "#### Model 2: CNN\n",
    "\n",
    "Convolution layers have proved to be very successful in tasks involving images e.g. image classification, object identification, face recognition etc. They allow parameter sharing which results in a very optimized network compared to using Dense layers.\n",
    "\n",
    "<img src=\"https://miro.medium.com/max/1152/1*1YGLNeWWyEsA9NpNK6Y0UA.jpeg\" width=\"50%\">\n",
    "\n",
    "### Increase performance with\n",
    "\n",
    "#### Learning Rate Decay\n",
    "If learning rate is too high, model will take unnecessarily big steps on the gradient curve, it could cause jumping over the global optima. In this case reaching global optima takes unnecessarily long.\n",
    "If learning rate is too small, model might settle in a region (local optima) too early, this also causes the training take longer time.\n",
    "\n",
    "Decreasing learning rate: When we are finally really close to global optima, if learning rate is not sufficiently small, we might wander around the global optima and never reach it. But if we do learning rate decay, our steps get smaller when approaching global optima; and we can reach it.\n",
    "\n",
    "Learning rate decay reduces training time, if we set it up wisely.\n",
    "\n",
    "Results\n",
    "\n",
    "Did not prevent overfitting."
   ]
  },
  {
   "cell_type": "code",
   "execution_count": 94,
   "metadata": {},
   "outputs": [
    {
     "name": "stdout",
     "output_type": "stream",
     "text": [
      "Model: \"sequential_15\"\n",
      "_________________________________________________________________\n",
      "Layer (type)                 Output Shape              Param #   \n",
      "=================================================================\n",
      "conv2d_34 (Conv2D)           (None, 26, 26, 32)        320       \n",
      "_________________________________________________________________\n",
      "max_pooling2d_23 (MaxPooling (None, 13, 13, 32)        0         \n",
      "_________________________________________________________________\n",
      "dropout_34 (Dropout)         (None, 13, 13, 32)        0         \n",
      "_________________________________________________________________\n",
      "conv2d_35 (Conv2D)           (None, 11, 11, 64)        18496     \n",
      "_________________________________________________________________\n",
      "max_pooling2d_24 (MaxPooling (None, 5, 5, 64)          0         \n",
      "_________________________________________________________________\n",
      "dropout_35 (Dropout)         (None, 5, 5, 64)          0         \n",
      "_________________________________________________________________\n",
      "conv2d_36 (Conv2D)           (None, 3, 3, 128)         73856     \n",
      "_________________________________________________________________\n",
      "dropout_36 (Dropout)         (None, 3, 3, 128)         0         \n",
      "_________________________________________________________________\n",
      "flatten_13 (Flatten)         (None, 1152)              0         \n",
      "_________________________________________________________________\n",
      "dense_25 (Dense)             (None, 128)               147584    \n",
      "_________________________________________________________________\n",
      "dropout_37 (Dropout)         (None, 128)               0         \n",
      "_________________________________________________________________\n",
      "dense_26 (Dense)             (None, 10)                1290      \n",
      "=================================================================\n",
      "Total params: 241,546\n",
      "Trainable params: 241,546\n",
      "Non-trainable params: 0\n",
      "_________________________________________________________________\n"
     ]
    }
   ],
   "source": [
    "# cnn3\n",
    "# Model\n",
    "cnn3 = Sequential()\n",
    "# Add convolution 2D\n",
    "cnn3.add(Conv2D(32, kernel_size=(3, 3),\n",
    "                 activation='relu',\n",
    "                 kernel_initializer='he_normal',\n",
    "                 input_shape=(ROWS, COLUMNS, 1)))\n",
    "cnn3.add(MaxPooling2D((2, 2)))\n",
    "# Add dropouts to the model\n",
    "cnn3.add(Dropout(0.25))\n",
    "cnn3.add(Conv2D(64, \n",
    "                 kernel_size=(3, 3), \n",
    "                 activation='relu'))\n",
    "cnn3.add(MaxPooling2D(pool_size=(2, 2)))\n",
    "# Add dropouts to the model\n",
    "cnn3.add(Dropout(0.25))\n",
    "cnn3.add(Conv2D(128, (3, 3), activation='relu'))\n",
    "# Add dropouts to the model\n",
    "cnn3.add(Dropout(0.4))\n",
    "cnn3.add(Flatten())\n",
    "cnn3.add(Dense(128, activation='relu'))\n",
    "# Add dropouts to the model\n",
    "cnn3.add(Dropout(0.3))\n",
    "cnn3.add(Dense(CLASS, activation='softmax'))\n",
    "\n",
    "optim = Adam(lr=0.002, decay=0.5) # these are default values in Adam's documentation.\n",
    "cnn3.compile(loss=keras.losses.categorical_crossentropy,\n",
    "                  optimizer=optim,\n",
    "                  metrics=['accuracy'])\n",
    "cnn3.summary()"
   ]
  },
  {
   "cell_type": "code",
   "execution_count": 95,
   "metadata": {},
   "outputs": [
    {
     "name": "stdout",
     "output_type": "stream",
     "text": [
      "Train on 48000 samples, validate on 12000 samples\n",
      "Epoch 1/50\n",
      "48000/48000 [==============================] - 58s 1ms/step - loss: 1.3514 - accuracy: 0.5018 - val_loss: 1.0672 - val_accuracy: 0.6658\n",
      "Epoch 2/50\n",
      "48000/48000 [==============================] - 58s 1ms/step - loss: 1.1506 - accuracy: 0.5709 - val_loss: 1.0113 - val_accuracy: 0.6823\n",
      "Epoch 3/50\n",
      "48000/48000 [==============================] - 55s 1ms/step - loss: 1.1118 - accuracy: 0.5877 - val_loss: 0.9814 - val_accuracy: 0.6915\n",
      "Epoch 4/50\n",
      "48000/48000 [==============================] - 55s 1ms/step - loss: 1.0827 - accuracy: 0.6005 - val_loss: 0.9609 - val_accuracy: 0.6960\n",
      "Epoch 5/50\n",
      "48000/48000 [==============================] - 52s 1ms/step - loss: 1.0652 - accuracy: 0.6069 - val_loss: 0.9469 - val_accuracy: 0.7002\n",
      "Epoch 6/50\n",
      "48000/48000 [==============================] - 56s 1ms/step - loss: 1.0527 - accuracy: 0.6121 - val_loss: 0.9344 - val_accuracy: 0.7040\n",
      "Epoch 7/50\n",
      "48000/48000 [==============================] - 53s 1ms/step - loss: 1.0383 - accuracy: 0.6170 - val_loss: 0.9256 - val_accuracy: 0.7065\n",
      "Epoch 8/50\n",
      "48000/48000 [==============================] - 57s 1ms/step - loss: 1.0335 - accuracy: 0.6223 - val_loss: 0.9184 - val_accuracy: 0.7069\n",
      "Epoch 9/50\n",
      "48000/48000 [==============================] - 53s 1ms/step - loss: 1.0224 - accuracy: 0.6245 - val_loss: 0.9119 - val_accuracy: 0.7097\n",
      "Epoch 10/50\n",
      "48000/48000 [==============================] - 53s 1ms/step - loss: 1.0165 - accuracy: 0.6264 - val_loss: 0.9062 - val_accuracy: 0.7108\n",
      "Epoch 11/50\n",
      "48000/48000 [==============================] - 54s 1ms/step - loss: 1.0118 - accuracy: 0.6295 - val_loss: 0.9000 - val_accuracy: 0.7119\n",
      "Epoch 12/50\n",
      "48000/48000 [==============================] - 55s 1ms/step - loss: 1.0070 - accuracy: 0.6299 - val_loss: 0.8956 - val_accuracy: 0.7127\n",
      "Epoch 13/50\n",
      "48000/48000 [==============================] - 58s 1ms/step - loss: 1.0005 - accuracy: 0.6317 - val_loss: 0.8914 - val_accuracy: 0.7132\n",
      "Epoch 14/50\n",
      "48000/48000 [==============================] - 55s 1ms/step - loss: 1.0012 - accuracy: 0.6324 - val_loss: 0.8876 - val_accuracy: 0.7141\n",
      "Epoch 15/50\n",
      "48000/48000 [==============================] - 54s 1ms/step - loss: 0.9922 - accuracy: 0.6349 - val_loss: 0.8840 - val_accuracy: 0.7147\n",
      "Epoch 16/50\n",
      "48000/48000 [==============================] - 56s 1ms/step - loss: 0.9921 - accuracy: 0.6382 - val_loss: 0.8808 - val_accuracy: 0.7157\n",
      "Epoch 17/50\n",
      "48000/48000 [==============================] - 53s 1ms/step - loss: 0.9862 - accuracy: 0.6366 - val_loss: 0.8774 - val_accuracy: 0.7163\n",
      "Epoch 18/50\n",
      "48000/48000 [==============================] - 57s 1ms/step - loss: 0.9793 - accuracy: 0.6421 - val_loss: 0.8741 - val_accuracy: 0.7175\n",
      "Epoch 19/50\n",
      "48000/48000 [==============================] - 57s 1ms/step - loss: 0.9791 - accuracy: 0.6432 - val_loss: 0.8718 - val_accuracy: 0.7177\n",
      "Epoch 20/50\n",
      "48000/48000 [==============================] - 57s 1ms/step - loss: 0.9784 - accuracy: 0.6421 - val_loss: 0.8692 - val_accuracy: 0.7184\n",
      "Epoch 21/50\n",
      "48000/48000 [==============================] - 57s 1ms/step - loss: 0.9757 - accuracy: 0.6427 - val_loss: 0.8671 - val_accuracy: 0.7189\n",
      "Epoch 22/50\n",
      "48000/48000 [==============================] - 58s 1ms/step - loss: 0.9736 - accuracy: 0.6443 - val_loss: 0.8648 - val_accuracy: 0.7196\n",
      "Epoch 23/50\n",
      "48000/48000 [==============================] - 57s 1ms/step - loss: 0.9724 - accuracy: 0.6415 - val_loss: 0.8628 - val_accuracy: 0.7205\n",
      "Epoch 24/50\n",
      "48000/48000 [==============================] - 58s 1ms/step - loss: 0.9681 - accuracy: 0.6452 - val_loss: 0.8609 - val_accuracy: 0.7212\n",
      "Epoch 25/50\n",
      "48000/48000 [==============================] - 57s 1ms/step - loss: 0.9658 - accuracy: 0.6468 - val_loss: 0.8590 - val_accuracy: 0.7216\n",
      "Epoch 26/50\n",
      "48000/48000 [==============================] - 57s 1ms/step - loss: 0.9655 - accuracy: 0.6478 - val_loss: 0.8570 - val_accuracy: 0.7222\n",
      "Epoch 27/50\n",
      "48000/48000 [==============================] - 59s 1ms/step - loss: 0.9644 - accuracy: 0.6462 - val_loss: 0.8553 - val_accuracy: 0.7226\n",
      "Epoch 28/50\n",
      "48000/48000 [==============================] - 59s 1ms/step - loss: 0.9601 - accuracy: 0.6506 - val_loss: 0.8538 - val_accuracy: 0.7226\n",
      "Epoch 29/50\n",
      "48000/48000 [==============================] - 58s 1ms/step - loss: 0.9608 - accuracy: 0.6485 - val_loss: 0.8520 - val_accuracy: 0.7232\n",
      "Epoch 30/50\n",
      "48000/48000 [==============================] - 57s 1ms/step - loss: 0.9559 - accuracy: 0.6494 - val_loss: 0.8506 - val_accuracy: 0.7233\n",
      "Epoch 31/50\n",
      "48000/48000 [==============================] - 47s 976us/step - loss: 0.9544 - accuracy: 0.6494 - val_loss: 0.8490 - val_accuracy: 0.7237\n",
      "Epoch 32/50\n",
      "48000/48000 [==============================] - 35s 730us/step - loss: 0.9516 - accuracy: 0.6546 - val_loss: 0.8473 - val_accuracy: 0.7238\n",
      "Epoch 33/50\n",
      "48000/48000 [==============================] - 38s 795us/step - loss: 0.9503 - accuracy: 0.6530 - val_loss: 0.8461 - val_accuracy: 0.7245\n",
      "Epoch 34/50\n",
      "48000/48000 [==============================] - 43s 892us/step - loss: 0.9504 - accuracy: 0.6536 - val_loss: 0.8446 - val_accuracy: 0.7248\n",
      "Epoch 35/50\n",
      "48000/48000 [==============================] - 39s 810us/step - loss: 0.9519 - accuracy: 0.6528 - val_loss: 0.8435 - val_accuracy: 0.7251\n",
      "Epoch 36/50\n",
      "48000/48000 [==============================] - 38s 784us/step - loss: 0.9520 - accuracy: 0.6513 - val_loss: 0.8422 - val_accuracy: 0.7254\n",
      "Epoch 37/50\n",
      "48000/48000 [==============================] - 38s 791us/step - loss: 0.9480 - accuracy: 0.6562 - val_loss: 0.8413 - val_accuracy: 0.7257\n",
      "Epoch 38/50\n",
      "48000/48000 [==============================] - 38s 784us/step - loss: 0.9488 - accuracy: 0.6521 - val_loss: 0.8404 - val_accuracy: 0.7258\n",
      "Epoch 39/50\n",
      "48000/48000 [==============================] - 38s 786us/step - loss: 0.9466 - accuracy: 0.6543 - val_loss: 0.8391 - val_accuracy: 0.7263\n",
      "Epoch 40/50\n",
      "48000/48000 [==============================] - 37s 778us/step - loss: 0.9452 - accuracy: 0.6563 - val_loss: 0.8380 - val_accuracy: 0.7264\n",
      "Epoch 41/50\n",
      "48000/48000 [==============================] - 37s 779us/step - loss: 0.9396 - accuracy: 0.6574 - val_loss: 0.8370 - val_accuracy: 0.7268\n",
      "Epoch 42/50\n",
      "48000/48000 [==============================] - 38s 798us/step - loss: 0.9431 - accuracy: 0.6551 - val_loss: 0.8357 - val_accuracy: 0.7270\n",
      "Epoch 43/50\n",
      "48000/48000 [==============================] - 35s 720us/step - loss: 0.9425 - accuracy: 0.6558 - val_loss: 0.8349 - val_accuracy: 0.7273\n",
      "Epoch 44/50\n",
      "48000/48000 [==============================] - 34s 706us/step - loss: 0.9382 - accuracy: 0.6586 - val_loss: 0.8339 - val_accuracy: 0.7273\n",
      "Epoch 45/50\n",
      "48000/48000 [==============================] - 37s 777us/step - loss: 0.9427 - accuracy: 0.6555 - val_loss: 0.8331 - val_accuracy: 0.7278\n",
      "Epoch 46/50\n",
      "48000/48000 [==============================] - 38s 787us/step - loss: 0.9376 - accuracy: 0.6531 - val_loss: 0.8322 - val_accuracy: 0.7279\n",
      "Epoch 47/50\n",
      "48000/48000 [==============================] - 38s 791us/step - loss: 0.9381 - accuracy: 0.6591 - val_loss: 0.8314 - val_accuracy: 0.7281\n",
      "Epoch 48/50\n",
      "48000/48000 [==============================] - 37s 773us/step - loss: 0.9359 - accuracy: 0.6586 - val_loss: 0.8305 - val_accuracy: 0.7287\n",
      "Epoch 49/50\n",
      "48000/48000 [==============================] - 38s 785us/step - loss: 0.9338 - accuracy: 0.6608 - val_loss: 0.8297 - val_accuracy: 0.7286\n",
      "Epoch 50/50\n",
      "48000/48000 [==============================] - 37s 773us/step - loss: 0.9396 - accuracy: 0.6579 - val_loss: 0.8289 - val_accuracy: 0.7289\n"
     ]
    }
   ],
   "source": [
    "# train model\n",
    "start_time = time.time()\n",
    "train_model3 = cnn3.fit(X_train, y_train,\n",
    "                  batch_size=BATCH_SIZE,\n",
    "                  epochs=NUMBER_OF_EPOCHS,\n",
    "                  verbose=1,\n",
    "                  validation_data=(X_val, y_val))\n",
    "end_time = time.time()\n",
    "duration = end_time - start_time"
   ]
  },
  {
   "cell_type": "code",
   "execution_count": 96,
   "metadata": {},
   "outputs": [
    {
     "name": "stdout",
     "output_type": "stream",
     "text": [
      "10000/10000 [==============================] - 0s 33us/step\n",
      "Test loss: 0.3482525764107704\n",
      "Test accuracy: 0.8820000290870667\n",
      "Duration:  2444.316346883774\n"
     ]
    }
   ],
   "source": [
    "score = dnn.evaluate(testX, testY, verbose=1)\n",
    "print('Test loss:', score[0])\n",
    "print('Test accuracy:', score[1])\n",
    "print('Duration: ',duration)"
   ]
  },
  {
   "cell_type": "code",
   "execution_count": 97,
   "metadata": {},
   "outputs": [
    {
     "data": {
      "application/vnd.plotly.v1+json": {
       "config": {
        "linkText": "Export to plot.ly",
        "plotlyServerURL": "https://plot.ly",
        "showLink": false
       },
       "data": [
        {
         "marker": {
          "color": "Green"
         },
         "mode": "markers+lines",
         "name": "Training accuracy",
         "text": [
          "1",
          "2",
          "3",
          "4",
          "5",
          "6",
          "7",
          "8",
          "9",
          "10",
          "11",
          "12",
          "13",
          "14",
          "15",
          "16",
          "17",
          "18",
          "19",
          "20",
          "21",
          "22",
          "23",
          "24",
          "25",
          "26",
          "27",
          "28",
          "29",
          "30",
          "31",
          "32",
          "33",
          "34",
          "35",
          "36",
          "37",
          "38",
          "39",
          "40",
          "41",
          "42",
          "43",
          "44",
          "45",
          "46",
          "47",
          "48",
          "49",
          "50"
         ],
         "type": "scatter",
         "x": [
          1,
          2,
          3,
          4,
          5,
          6,
          7,
          8,
          9,
          10,
          11,
          12,
          13,
          14,
          15,
          16,
          17,
          18,
          19,
          20,
          21,
          22,
          23,
          24,
          25,
          26,
          27,
          28,
          29,
          30,
          31,
          32,
          33,
          34,
          35,
          36,
          37,
          38,
          39,
          40,
          41,
          42,
          43,
          44,
          45,
          46,
          47,
          48,
          49,
          50
         ],
         "xaxis": "x",
         "y": [
          0.7005624771118164,
          0.812624990940094,
          0.8420416712760925,
          0.8592708110809326,
          0.8693333268165588,
          0.8766458630561829,
          0.8820000290870667,
          0.8863541483879089,
          0.890541672706604,
          0.8928541541099548,
          0.8958541750907898,
          0.8973541855812073,
          0.9004791378974915,
          0.9014583230018616,
          0.9041041731834412,
          0.906541645526886,
          0.9066874980926514,
          0.9070208072662354,
          0.9093124866485596,
          0.9091874957084656,
          0.9098125100135803,
          0.9131875038146973,
          0.9125416874885559,
          0.9121458530426025,
          0.9151874780654907,
          0.9166458249092102,
          0.9156041741371155,
          0.9164999723434448,
          0.9186875224113464,
          0.918749988079071,
          0.9184374809265137,
          0.9194791913032532,
          0.9208541512489319,
          0.9207291603088379,
          0.9208124876022339,
          0.9229999780654907,
          0.9233333468437195,
          0.9240416884422302,
          0.9228541851043701,
          0.9248124957084656,
          0.9246666431427002,
          0.9253958463668823,
          0.9248124957084656,
          0.9271458387374878,
          0.9262708425521851,
          0.9253749847412109,
          0.9274791479110718,
          0.9273958206176758,
          0.9272708296775818,
          0.9288958311080933
         ],
         "yaxis": "y"
        },
        {
         "marker": {
          "color": "Red"
         },
         "mode": "markers+lines",
         "name": "Validation accuracy",
         "text": [
          "1",
          "2",
          "3",
          "4",
          "5",
          "6",
          "7",
          "8",
          "9",
          "10",
          "11",
          "12",
          "13",
          "14",
          "15",
          "16",
          "17",
          "18",
          "19",
          "20",
          "21",
          "22",
          "23",
          "24",
          "25",
          "26",
          "27",
          "28",
          "29",
          "30",
          "31",
          "32",
          "33",
          "34",
          "35",
          "36",
          "37",
          "38",
          "39",
          "40",
          "41",
          "42",
          "43",
          "44",
          "45",
          "46",
          "47",
          "48",
          "49",
          "50"
         ],
         "type": "scatter",
         "x": [
          1,
          2,
          3,
          4,
          5,
          6,
          7,
          8,
          9,
          10,
          11,
          12,
          13,
          14,
          15,
          16,
          17,
          18,
          19,
          20,
          21,
          22,
          23,
          24,
          25,
          26,
          27,
          28,
          29,
          30,
          31,
          32,
          33,
          34,
          35,
          36,
          37,
          38,
          39,
          40,
          41,
          42,
          43,
          44,
          45,
          46,
          47,
          48,
          49,
          50
         ],
         "xaxis": "x",
         "y": [
          0.8208333253860474,
          0.8508333563804626,
          0.8721666932106018,
          0.8854166865348816,
          0.8947499990463257,
          0.8989166617393494,
          0.9039166569709778,
          0.9073333144187927,
          0.9075000286102295,
          0.9079166650772095,
          0.9124166369438171,
          0.9100000262260437,
          0.9138333201408386,
          0.9172499775886536,
          0.9159166812896729,
          0.9176666736602783,
          0.9192500114440918,
          0.9123333096504211,
          0.921833336353302,
          0.9170833230018616,
          0.9202499985694885,
          0.9209166765213013,
          0.921500027179718,
          0.92166668176651,
          0.9223333597183228,
          0.9191666841506958,
          0.9241666793823242,
          0.9198333621025085,
          0.9247499704360962,
          0.9237499833106995,
          0.924916684627533,
          0.9234166741371155,
          0.9254166483879089,
          0.9253333210945129,
          0.9200833439826965,
          0.9259999990463257,
          0.9257500171661377,
          0.9241666793823242,
          0.9275833368301392,
          0.9261666536331177,
          0.9280833601951599,
          0.9272500276565552,
          0.9255833625793457,
          0.9275833368301392,
          0.9245833158493042,
          0.9290000200271606,
          0.9259999990463257,
          0.9279999732971191,
          0.9282500147819519,
          0.9262499809265137
         ],
         "yaxis": "y"
        },
        {
         "marker": {
          "color": "Blue"
         },
         "mode": "markers+lines",
         "name": "Training loss",
         "text": [
          "1",
          "2",
          "3",
          "4",
          "5",
          "6",
          "7",
          "8",
          "9",
          "10",
          "11",
          "12",
          "13",
          "14",
          "15",
          "16",
          "17",
          "18",
          "19",
          "20",
          "21",
          "22",
          "23",
          "24",
          "25",
          "26",
          "27",
          "28",
          "29",
          "30",
          "31",
          "32",
          "33",
          "34",
          "35",
          "36",
          "37",
          "38",
          "39",
          "40",
          "41",
          "42",
          "43",
          "44",
          "45",
          "46",
          "47",
          "48",
          "49",
          "50"
         ],
         "type": "scatter",
         "x": [
          1,
          2,
          3,
          4,
          5,
          6,
          7,
          8,
          9,
          10,
          11,
          12,
          13,
          14,
          15,
          16,
          17,
          18,
          19,
          20,
          21,
          22,
          23,
          24,
          25,
          26,
          27,
          28,
          29,
          30,
          31,
          32,
          33,
          34,
          35,
          36,
          37,
          38,
          39,
          40,
          41,
          42,
          43,
          44,
          45,
          46,
          47,
          48,
          49,
          50
         ],
         "xaxis": "x2",
         "y": [
          0.7983529880046845,
          0.5014984671274821,
          0.42889933482805886,
          0.38586079521973926,
          0.35875240222613014,
          0.33971448028087614,
          0.3210936668316523,
          0.30771348655223846,
          0.29926032813390097,
          0.28993789819876353,
          0.28225927058855693,
          0.27482687260707217,
          0.27002629748980206,
          0.26649746561050414,
          0.2601897549033165,
          0.2528657951553663,
          0.2520408290425936,
          0.24707978916168213,
          0.24211045022805533,
          0.2408979777097702,
          0.23646853719154995,
          0.23168940645456315,
          0.23364047239224117,
          0.23170910374323528,
          0.22767825611432393,
          0.22264338950316112,
          0.22150292456150056,
          0.21945919291178387,
          0.21718633687496186,
          0.2150082371433576,
          0.21438090991973877,
          0.21167840592066448,
          0.21037060950199762,
          0.20848472543557484,
          0.20692272663116454,
          0.20511097113291424,
          0.20266126310825347,
          0.20115920543670654,
          0.20317423329750697,
          0.1981605712175369,
          0.20068532544374465,
          0.1979726264079412,
          0.19863239391644796,
          0.1935908492207527,
          0.19473736095428468,
          0.1971344406604767,
          0.1932236272295316,
          0.19227657840649287,
          0.19063377918799718,
          0.18910727308193842
         ],
         "yaxis": "y2"
        },
        {
         "marker": {
          "color": "Orange"
         },
         "mode": "markers+lines",
         "name": "Validation loss",
         "text": [
          "1",
          "2",
          "3",
          "4",
          "5",
          "6",
          "7",
          "8",
          "9",
          "10",
          "11",
          "12",
          "13",
          "14",
          "15",
          "16",
          "17",
          "18",
          "19",
          "20",
          "21",
          "22",
          "23",
          "24",
          "25",
          "26",
          "27",
          "28",
          "29",
          "30",
          "31",
          "32",
          "33",
          "34",
          "35",
          "36",
          "37",
          "38",
          "39",
          "40",
          "41",
          "42",
          "43",
          "44",
          "45",
          "46",
          "47",
          "48",
          "49",
          "50"
         ],
         "type": "scatter",
         "x": [
          1,
          2,
          3,
          4,
          5,
          6,
          7,
          8,
          9,
          10,
          11,
          12,
          13,
          14,
          15,
          16,
          17,
          18,
          19,
          20,
          21,
          22,
          23,
          24,
          25,
          26,
          27,
          28,
          29,
          30,
          31,
          32,
          33,
          34,
          35,
          36,
          37,
          38,
          39,
          40,
          41,
          42,
          43,
          44,
          45,
          46,
          47,
          48,
          49,
          50
         ],
         "xaxis": "x2",
         "y": [
          0.5018023241360983,
          0.40221025109291075,
          0.3513926284313202,
          0.31609460632006325,
          0.2906633493900299,
          0.2767844409147898,
          0.2620363819599152,
          0.25515969649950665,
          0.2533438727458318,
          0.25246429578463236,
          0.23734367418289185,
          0.23796259570121764,
          0.23414057620366413,
          0.22743552350997925,
          0.23166626087824504,
          0.22478790577252705,
          0.22532643779118855,
          0.2342875870068868,
          0.2186631749868393,
          0.22422847219308217,
          0.2179135341644287,
          0.21689476851622264,
          0.21588951186339062,
          0.2224890183210373,
          0.21646544488271077,
          0.22207258208592734,
          0.2163110738595327,
          0.2214181677500407,
          0.21157893153031668,
          0.21527116922537487,
          0.2158998706738154,
          0.21871991662184398,
          0.21691879439353942,
          0.21194314781824747,
          0.221780650695165,
          0.2090491690635681,
          0.2106196626027425,
          0.21003467750549315,
          0.2042269015709559,
          0.20567128411928812,
          0.20613147405783336,
          0.20776489090919495,
          0.21453009593486785,
          0.2100257761478424,
          0.20954067575931548,
          0.2062723432779312,
          0.2119327130317688,
          0.2075922450621923,
          0.20519397834936778,
          0.20839032955964407
         ],
         "yaxis": "y2"
        }
       ],
       "layout": {
        "annotations": [
         {
          "font": {
           "size": 16
          },
          "showarrow": false,
          "text": "Training and validation accuracy",
          "x": 0.225,
          "xanchor": "center",
          "xref": "paper",
          "y": 1,
          "yanchor": "bottom",
          "yref": "paper"
         },
         {
          "font": {
           "size": 16
          },
          "showarrow": false,
          "text": "Training and validation loss",
          "x": 0.775,
          "xanchor": "center",
          "xref": "paper",
          "y": 1,
          "yanchor": "bottom",
          "yref": "paper"
         }
        ],
        "template": {
         "data": {
          "bar": [
           {
            "error_x": {
             "color": "#2a3f5f"
            },
            "error_y": {
             "color": "#2a3f5f"
            },
            "marker": {
             "line": {
              "color": "#E5ECF6",
              "width": 0.5
             }
            },
            "type": "bar"
           }
          ],
          "barpolar": [
           {
            "marker": {
             "line": {
              "color": "#E5ECF6",
              "width": 0.5
             }
            },
            "type": "barpolar"
           }
          ],
          "carpet": [
           {
            "aaxis": {
             "endlinecolor": "#2a3f5f",
             "gridcolor": "white",
             "linecolor": "white",
             "minorgridcolor": "white",
             "startlinecolor": "#2a3f5f"
            },
            "baxis": {
             "endlinecolor": "#2a3f5f",
             "gridcolor": "white",
             "linecolor": "white",
             "minorgridcolor": "white",
             "startlinecolor": "#2a3f5f"
            },
            "type": "carpet"
           }
          ],
          "choropleth": [
           {
            "colorbar": {
             "outlinewidth": 0,
             "ticks": ""
            },
            "type": "choropleth"
           }
          ],
          "contour": [
           {
            "colorbar": {
             "outlinewidth": 0,
             "ticks": ""
            },
            "colorscale": [
             [
              0,
              "#0d0887"
             ],
             [
              0.1111111111111111,
              "#46039f"
             ],
             [
              0.2222222222222222,
              "#7201a8"
             ],
             [
              0.3333333333333333,
              "#9c179e"
             ],
             [
              0.4444444444444444,
              "#bd3786"
             ],
             [
              0.5555555555555556,
              "#d8576b"
             ],
             [
              0.6666666666666666,
              "#ed7953"
             ],
             [
              0.7777777777777778,
              "#fb9f3a"
             ],
             [
              0.8888888888888888,
              "#fdca26"
             ],
             [
              1,
              "#f0f921"
             ]
            ],
            "type": "contour"
           }
          ],
          "contourcarpet": [
           {
            "colorbar": {
             "outlinewidth": 0,
             "ticks": ""
            },
            "type": "contourcarpet"
           }
          ],
          "heatmap": [
           {
            "colorbar": {
             "outlinewidth": 0,
             "ticks": ""
            },
            "colorscale": [
             [
              0,
              "#0d0887"
             ],
             [
              0.1111111111111111,
              "#46039f"
             ],
             [
              0.2222222222222222,
              "#7201a8"
             ],
             [
              0.3333333333333333,
              "#9c179e"
             ],
             [
              0.4444444444444444,
              "#bd3786"
             ],
             [
              0.5555555555555556,
              "#d8576b"
             ],
             [
              0.6666666666666666,
              "#ed7953"
             ],
             [
              0.7777777777777778,
              "#fb9f3a"
             ],
             [
              0.8888888888888888,
              "#fdca26"
             ],
             [
              1,
              "#f0f921"
             ]
            ],
            "type": "heatmap"
           }
          ],
          "heatmapgl": [
           {
            "colorbar": {
             "outlinewidth": 0,
             "ticks": ""
            },
            "colorscale": [
             [
              0,
              "#0d0887"
             ],
             [
              0.1111111111111111,
              "#46039f"
             ],
             [
              0.2222222222222222,
              "#7201a8"
             ],
             [
              0.3333333333333333,
              "#9c179e"
             ],
             [
              0.4444444444444444,
              "#bd3786"
             ],
             [
              0.5555555555555556,
              "#d8576b"
             ],
             [
              0.6666666666666666,
              "#ed7953"
             ],
             [
              0.7777777777777778,
              "#fb9f3a"
             ],
             [
              0.8888888888888888,
              "#fdca26"
             ],
             [
              1,
              "#f0f921"
             ]
            ],
            "type": "heatmapgl"
           }
          ],
          "histogram": [
           {
            "marker": {
             "colorbar": {
              "outlinewidth": 0,
              "ticks": ""
             }
            },
            "type": "histogram"
           }
          ],
          "histogram2d": [
           {
            "colorbar": {
             "outlinewidth": 0,
             "ticks": ""
            },
            "colorscale": [
             [
              0,
              "#0d0887"
             ],
             [
              0.1111111111111111,
              "#46039f"
             ],
             [
              0.2222222222222222,
              "#7201a8"
             ],
             [
              0.3333333333333333,
              "#9c179e"
             ],
             [
              0.4444444444444444,
              "#bd3786"
             ],
             [
              0.5555555555555556,
              "#d8576b"
             ],
             [
              0.6666666666666666,
              "#ed7953"
             ],
             [
              0.7777777777777778,
              "#fb9f3a"
             ],
             [
              0.8888888888888888,
              "#fdca26"
             ],
             [
              1,
              "#f0f921"
             ]
            ],
            "type": "histogram2d"
           }
          ],
          "histogram2dcontour": [
           {
            "colorbar": {
             "outlinewidth": 0,
             "ticks": ""
            },
            "colorscale": [
             [
              0,
              "#0d0887"
             ],
             [
              0.1111111111111111,
              "#46039f"
             ],
             [
              0.2222222222222222,
              "#7201a8"
             ],
             [
              0.3333333333333333,
              "#9c179e"
             ],
             [
              0.4444444444444444,
              "#bd3786"
             ],
             [
              0.5555555555555556,
              "#d8576b"
             ],
             [
              0.6666666666666666,
              "#ed7953"
             ],
             [
              0.7777777777777778,
              "#fb9f3a"
             ],
             [
              0.8888888888888888,
              "#fdca26"
             ],
             [
              1,
              "#f0f921"
             ]
            ],
            "type": "histogram2dcontour"
           }
          ],
          "mesh3d": [
           {
            "colorbar": {
             "outlinewidth": 0,
             "ticks": ""
            },
            "type": "mesh3d"
           }
          ],
          "parcoords": [
           {
            "line": {
             "colorbar": {
              "outlinewidth": 0,
              "ticks": ""
             }
            },
            "type": "parcoords"
           }
          ],
          "pie": [
           {
            "automargin": true,
            "type": "pie"
           }
          ],
          "scatter": [
           {
            "marker": {
             "colorbar": {
              "outlinewidth": 0,
              "ticks": ""
             }
            },
            "type": "scatter"
           }
          ],
          "scatter3d": [
           {
            "line": {
             "colorbar": {
              "outlinewidth": 0,
              "ticks": ""
             }
            },
            "marker": {
             "colorbar": {
              "outlinewidth": 0,
              "ticks": ""
             }
            },
            "type": "scatter3d"
           }
          ],
          "scattercarpet": [
           {
            "marker": {
             "colorbar": {
              "outlinewidth": 0,
              "ticks": ""
             }
            },
            "type": "scattercarpet"
           }
          ],
          "scattergeo": [
           {
            "marker": {
             "colorbar": {
              "outlinewidth": 0,
              "ticks": ""
             }
            },
            "type": "scattergeo"
           }
          ],
          "scattergl": [
           {
            "marker": {
             "colorbar": {
              "outlinewidth": 0,
              "ticks": ""
             }
            },
            "type": "scattergl"
           }
          ],
          "scattermapbox": [
           {
            "marker": {
             "colorbar": {
              "outlinewidth": 0,
              "ticks": ""
             }
            },
            "type": "scattermapbox"
           }
          ],
          "scatterpolar": [
           {
            "marker": {
             "colorbar": {
              "outlinewidth": 0,
              "ticks": ""
             }
            },
            "type": "scatterpolar"
           }
          ],
          "scatterpolargl": [
           {
            "marker": {
             "colorbar": {
              "outlinewidth": 0,
              "ticks": ""
             }
            },
            "type": "scatterpolargl"
           }
          ],
          "scatterternary": [
           {
            "marker": {
             "colorbar": {
              "outlinewidth": 0,
              "ticks": ""
             }
            },
            "type": "scatterternary"
           }
          ],
          "surface": [
           {
            "colorbar": {
             "outlinewidth": 0,
             "ticks": ""
            },
            "colorscale": [
             [
              0,
              "#0d0887"
             ],
             [
              0.1111111111111111,
              "#46039f"
             ],
             [
              0.2222222222222222,
              "#7201a8"
             ],
             [
              0.3333333333333333,
              "#9c179e"
             ],
             [
              0.4444444444444444,
              "#bd3786"
             ],
             [
              0.5555555555555556,
              "#d8576b"
             ],
             [
              0.6666666666666666,
              "#ed7953"
             ],
             [
              0.7777777777777778,
              "#fb9f3a"
             ],
             [
              0.8888888888888888,
              "#fdca26"
             ],
             [
              1,
              "#f0f921"
             ]
            ],
            "type": "surface"
           }
          ],
          "table": [
           {
            "cells": {
             "fill": {
              "color": "#EBF0F8"
             },
             "line": {
              "color": "white"
             }
            },
            "header": {
             "fill": {
              "color": "#C8D4E3"
             },
             "line": {
              "color": "white"
             }
            },
            "type": "table"
           }
          ]
         },
         "layout": {
          "annotationdefaults": {
           "arrowcolor": "#2a3f5f",
           "arrowhead": 0,
           "arrowwidth": 1
          },
          "coloraxis": {
           "colorbar": {
            "outlinewidth": 0,
            "ticks": ""
           }
          },
          "colorscale": {
           "diverging": [
            [
             0,
             "#8e0152"
            ],
            [
             0.1,
             "#c51b7d"
            ],
            [
             0.2,
             "#de77ae"
            ],
            [
             0.3,
             "#f1b6da"
            ],
            [
             0.4,
             "#fde0ef"
            ],
            [
             0.5,
             "#f7f7f7"
            ],
            [
             0.6,
             "#e6f5d0"
            ],
            [
             0.7,
             "#b8e186"
            ],
            [
             0.8,
             "#7fbc41"
            ],
            [
             0.9,
             "#4d9221"
            ],
            [
             1,
             "#276419"
            ]
           ],
           "sequential": [
            [
             0,
             "#0d0887"
            ],
            [
             0.1111111111111111,
             "#46039f"
            ],
            [
             0.2222222222222222,
             "#7201a8"
            ],
            [
             0.3333333333333333,
             "#9c179e"
            ],
            [
             0.4444444444444444,
             "#bd3786"
            ],
            [
             0.5555555555555556,
             "#d8576b"
            ],
            [
             0.6666666666666666,
             "#ed7953"
            ],
            [
             0.7777777777777778,
             "#fb9f3a"
            ],
            [
             0.8888888888888888,
             "#fdca26"
            ],
            [
             1,
             "#f0f921"
            ]
           ],
           "sequentialminus": [
            [
             0,
             "#0d0887"
            ],
            [
             0.1111111111111111,
             "#46039f"
            ],
            [
             0.2222222222222222,
             "#7201a8"
            ],
            [
             0.3333333333333333,
             "#9c179e"
            ],
            [
             0.4444444444444444,
             "#bd3786"
            ],
            [
             0.5555555555555556,
             "#d8576b"
            ],
            [
             0.6666666666666666,
             "#ed7953"
            ],
            [
             0.7777777777777778,
             "#fb9f3a"
            ],
            [
             0.8888888888888888,
             "#fdca26"
            ],
            [
             1,
             "#f0f921"
            ]
           ]
          },
          "colorway": [
           "#636efa",
           "#EF553B",
           "#00cc96",
           "#ab63fa",
           "#FFA15A",
           "#19d3f3",
           "#FF6692",
           "#B6E880",
           "#FF97FF",
           "#FECB52"
          ],
          "font": {
           "color": "#2a3f5f"
          },
          "geo": {
           "bgcolor": "white",
           "lakecolor": "white",
           "landcolor": "#E5ECF6",
           "showlakes": true,
           "showland": true,
           "subunitcolor": "white"
          },
          "hoverlabel": {
           "align": "left"
          },
          "hovermode": "closest",
          "mapbox": {
           "style": "light"
          },
          "paper_bgcolor": "white",
          "plot_bgcolor": "#E5ECF6",
          "polar": {
           "angularaxis": {
            "gridcolor": "white",
            "linecolor": "white",
            "ticks": ""
           },
           "bgcolor": "#E5ECF6",
           "radialaxis": {
            "gridcolor": "white",
            "linecolor": "white",
            "ticks": ""
           }
          },
          "scene": {
           "xaxis": {
            "backgroundcolor": "#E5ECF6",
            "gridcolor": "white",
            "gridwidth": 2,
            "linecolor": "white",
            "showbackground": true,
            "ticks": "",
            "zerolinecolor": "white"
           },
           "yaxis": {
            "backgroundcolor": "#E5ECF6",
            "gridcolor": "white",
            "gridwidth": 2,
            "linecolor": "white",
            "showbackground": true,
            "ticks": "",
            "zerolinecolor": "white"
           },
           "zaxis": {
            "backgroundcolor": "#E5ECF6",
            "gridcolor": "white",
            "gridwidth": 2,
            "linecolor": "white",
            "showbackground": true,
            "ticks": "",
            "zerolinecolor": "white"
           }
          },
          "shapedefaults": {
           "line": {
            "color": "#2a3f5f"
           }
          },
          "ternary": {
           "aaxis": {
            "gridcolor": "white",
            "linecolor": "white",
            "ticks": ""
           },
           "baxis": {
            "gridcolor": "white",
            "linecolor": "white",
            "ticks": ""
           },
           "bgcolor": "#E5ECF6",
           "caxis": {
            "gridcolor": "white",
            "linecolor": "white",
            "ticks": ""
           }
          },
          "title": {
           "x": 0.05
          },
          "xaxis": {
           "automargin": true,
           "gridcolor": "white",
           "linecolor": "white",
           "ticks": "",
           "title": {
            "standoff": 15
           },
           "zerolinecolor": "white",
           "zerolinewidth": 2
          },
          "yaxis": {
           "automargin": true,
           "gridcolor": "white",
           "linecolor": "white",
           "ticks": "",
           "title": {
            "standoff": 15
           },
           "zerolinecolor": "white",
           "zerolinewidth": 2
          }
         }
        },
        "xaxis": {
         "anchor": "y",
         "domain": [
          0,
          0.45
         ],
         "title": {
          "text": "Epoch"
         }
        },
        "xaxis2": {
         "anchor": "y2",
         "domain": [
          0.55,
          1
         ],
         "title": {
          "text": "Epoch"
         }
        },
        "yaxis": {
         "anchor": "x",
         "domain": [
          0,
          1
         ],
         "range": [
          0,
          1
         ],
         "title": {
          "text": "Accuracy"
         }
        },
        "yaxis2": {
         "anchor": "x2",
         "domain": [
          0,
          1
         ],
         "range": [
          0,
          1
         ],
         "title": {
          "text": "Loss"
         }
        }
       }
      },
      "text/html": [
       "<div>\n",
       "        \n",
       "        \n",
       "            <div id=\"b7f1e67f-72e3-4cb5-9ef2-4f76c604ec0d\" class=\"plotly-graph-div\" style=\"height:525px; width:100%;\"></div>\n",
       "            <script type=\"text/javascript\">\n",
       "                require([\"plotly\"], function(Plotly) {\n",
       "                    window.PLOTLYENV=window.PLOTLYENV || {};\n",
       "                    \n",
       "                if (document.getElementById(\"b7f1e67f-72e3-4cb5-9ef2-4f76c604ec0d\")) {\n",
       "                    Plotly.newPlot(\n",
       "                        'b7f1e67f-72e3-4cb5-9ef2-4f76c604ec0d',\n",
       "                        [{\"marker\": {\"color\": \"Green\"}, \"mode\": \"markers+lines\", \"name\": \"Training accuracy\", \"text\": [\"1\", \"2\", \"3\", \"4\", \"5\", \"6\", \"7\", \"8\", \"9\", \"10\", \"11\", \"12\", \"13\", \"14\", \"15\", \"16\", \"17\", \"18\", \"19\", \"20\", \"21\", \"22\", \"23\", \"24\", \"25\", \"26\", \"27\", \"28\", \"29\", \"30\", \"31\", \"32\", \"33\", \"34\", \"35\", \"36\", \"37\", \"38\", \"39\", \"40\", \"41\", \"42\", \"43\", \"44\", \"45\", \"46\", \"47\", \"48\", \"49\", \"50\"], \"type\": \"scatter\", \"x\": [1, 2, 3, 4, 5, 6, 7, 8, 9, 10, 11, 12, 13, 14, 15, 16, 17, 18, 19, 20, 21, 22, 23, 24, 25, 26, 27, 28, 29, 30, 31, 32, 33, 34, 35, 36, 37, 38, 39, 40, 41, 42, 43, 44, 45, 46, 47, 48, 49, 50], \"xaxis\": \"x\", \"y\": [0.7005624771118164, 0.812624990940094, 0.8420416712760925, 0.8592708110809326, 0.8693333268165588, 0.8766458630561829, 0.8820000290870667, 0.8863541483879089, 0.890541672706604, 0.8928541541099548, 0.8958541750907898, 0.8973541855812073, 0.9004791378974915, 0.9014583230018616, 0.9041041731834412, 0.906541645526886, 0.9066874980926514, 0.9070208072662354, 0.9093124866485596, 0.9091874957084656, 0.9098125100135803, 0.9131875038146973, 0.9125416874885559, 0.9121458530426025, 0.9151874780654907, 0.9166458249092102, 0.9156041741371155, 0.9164999723434448, 0.9186875224113464, 0.918749988079071, 0.9184374809265137, 0.9194791913032532, 0.9208541512489319, 0.9207291603088379, 0.9208124876022339, 0.9229999780654907, 0.9233333468437195, 0.9240416884422302, 0.9228541851043701, 0.9248124957084656, 0.9246666431427002, 0.9253958463668823, 0.9248124957084656, 0.9271458387374878, 0.9262708425521851, 0.9253749847412109, 0.9274791479110718, 0.9273958206176758, 0.9272708296775818, 0.9288958311080933], \"yaxis\": \"y\"}, {\"marker\": {\"color\": \"Red\"}, \"mode\": \"markers+lines\", \"name\": \"Validation accuracy\", \"text\": [\"1\", \"2\", \"3\", \"4\", \"5\", \"6\", \"7\", \"8\", \"9\", \"10\", \"11\", \"12\", \"13\", \"14\", \"15\", \"16\", \"17\", \"18\", \"19\", \"20\", \"21\", \"22\", \"23\", \"24\", \"25\", \"26\", \"27\", \"28\", \"29\", \"30\", \"31\", \"32\", \"33\", \"34\", \"35\", \"36\", \"37\", \"38\", \"39\", \"40\", \"41\", \"42\", \"43\", \"44\", \"45\", \"46\", \"47\", \"48\", \"49\", \"50\"], \"type\": \"scatter\", \"x\": [1, 2, 3, 4, 5, 6, 7, 8, 9, 10, 11, 12, 13, 14, 15, 16, 17, 18, 19, 20, 21, 22, 23, 24, 25, 26, 27, 28, 29, 30, 31, 32, 33, 34, 35, 36, 37, 38, 39, 40, 41, 42, 43, 44, 45, 46, 47, 48, 49, 50], \"xaxis\": \"x\", \"y\": [0.8208333253860474, 0.8508333563804626, 0.8721666932106018, 0.8854166865348816, 0.8947499990463257, 0.8989166617393494, 0.9039166569709778, 0.9073333144187927, 0.9075000286102295, 0.9079166650772095, 0.9124166369438171, 0.9100000262260437, 0.9138333201408386, 0.9172499775886536, 0.9159166812896729, 0.9176666736602783, 0.9192500114440918, 0.9123333096504211, 0.921833336353302, 0.9170833230018616, 0.9202499985694885, 0.9209166765213013, 0.921500027179718, 0.92166668176651, 0.9223333597183228, 0.9191666841506958, 0.9241666793823242, 0.9198333621025085, 0.9247499704360962, 0.9237499833106995, 0.924916684627533, 0.9234166741371155, 0.9254166483879089, 0.9253333210945129, 0.9200833439826965, 0.9259999990463257, 0.9257500171661377, 0.9241666793823242, 0.9275833368301392, 0.9261666536331177, 0.9280833601951599, 0.9272500276565552, 0.9255833625793457, 0.9275833368301392, 0.9245833158493042, 0.9290000200271606, 0.9259999990463257, 0.9279999732971191, 0.9282500147819519, 0.9262499809265137], \"yaxis\": \"y\"}, {\"marker\": {\"color\": \"Blue\"}, \"mode\": \"markers+lines\", \"name\": \"Training loss\", \"text\": [\"1\", \"2\", \"3\", \"4\", \"5\", \"6\", \"7\", \"8\", \"9\", \"10\", \"11\", \"12\", \"13\", \"14\", \"15\", \"16\", \"17\", \"18\", \"19\", \"20\", \"21\", \"22\", \"23\", \"24\", \"25\", \"26\", \"27\", \"28\", \"29\", \"30\", \"31\", \"32\", \"33\", \"34\", \"35\", \"36\", \"37\", \"38\", \"39\", \"40\", \"41\", \"42\", \"43\", \"44\", \"45\", \"46\", \"47\", \"48\", \"49\", \"50\"], \"type\": \"scatter\", \"x\": [1, 2, 3, 4, 5, 6, 7, 8, 9, 10, 11, 12, 13, 14, 15, 16, 17, 18, 19, 20, 21, 22, 23, 24, 25, 26, 27, 28, 29, 30, 31, 32, 33, 34, 35, 36, 37, 38, 39, 40, 41, 42, 43, 44, 45, 46, 47, 48, 49, 50], \"xaxis\": \"x2\", \"y\": [0.7983529880046845, 0.5014984671274821, 0.42889933482805886, 0.38586079521973926, 0.35875240222613014, 0.33971448028087614, 0.3210936668316523, 0.30771348655223846, 0.29926032813390097, 0.28993789819876353, 0.28225927058855693, 0.27482687260707217, 0.27002629748980206, 0.26649746561050414, 0.2601897549033165, 0.2528657951553663, 0.2520408290425936, 0.24707978916168213, 0.24211045022805533, 0.2408979777097702, 0.23646853719154995, 0.23168940645456315, 0.23364047239224117, 0.23170910374323528, 0.22767825611432393, 0.22264338950316112, 0.22150292456150056, 0.21945919291178387, 0.21718633687496186, 0.2150082371433576, 0.21438090991973877, 0.21167840592066448, 0.21037060950199762, 0.20848472543557484, 0.20692272663116454, 0.20511097113291424, 0.20266126310825347, 0.20115920543670654, 0.20317423329750697, 0.1981605712175369, 0.20068532544374465, 0.1979726264079412, 0.19863239391644796, 0.1935908492207527, 0.19473736095428468, 0.1971344406604767, 0.1932236272295316, 0.19227657840649287, 0.19063377918799718, 0.18910727308193842], \"yaxis\": \"y2\"}, {\"marker\": {\"color\": \"Orange\"}, \"mode\": \"markers+lines\", \"name\": \"Validation loss\", \"text\": [\"1\", \"2\", \"3\", \"4\", \"5\", \"6\", \"7\", \"8\", \"9\", \"10\", \"11\", \"12\", \"13\", \"14\", \"15\", \"16\", \"17\", \"18\", \"19\", \"20\", \"21\", \"22\", \"23\", \"24\", \"25\", \"26\", \"27\", \"28\", \"29\", \"30\", \"31\", \"32\", \"33\", \"34\", \"35\", \"36\", \"37\", \"38\", \"39\", \"40\", \"41\", \"42\", \"43\", \"44\", \"45\", \"46\", \"47\", \"48\", \"49\", \"50\"], \"type\": \"scatter\", \"x\": [1, 2, 3, 4, 5, 6, 7, 8, 9, 10, 11, 12, 13, 14, 15, 16, 17, 18, 19, 20, 21, 22, 23, 24, 25, 26, 27, 28, 29, 30, 31, 32, 33, 34, 35, 36, 37, 38, 39, 40, 41, 42, 43, 44, 45, 46, 47, 48, 49, 50], \"xaxis\": \"x2\", \"y\": [0.5018023241360983, 0.40221025109291075, 0.3513926284313202, 0.31609460632006325, 0.2906633493900299, 0.2767844409147898, 0.2620363819599152, 0.25515969649950665, 0.2533438727458318, 0.25246429578463236, 0.23734367418289185, 0.23796259570121764, 0.23414057620366413, 0.22743552350997925, 0.23166626087824504, 0.22478790577252705, 0.22532643779118855, 0.2342875870068868, 0.2186631749868393, 0.22422847219308217, 0.2179135341644287, 0.21689476851622264, 0.21588951186339062, 0.2224890183210373, 0.21646544488271077, 0.22207258208592734, 0.2163110738595327, 0.2214181677500407, 0.21157893153031668, 0.21527116922537487, 0.2158998706738154, 0.21871991662184398, 0.21691879439353942, 0.21194314781824747, 0.221780650695165, 0.2090491690635681, 0.2106196626027425, 0.21003467750549315, 0.2042269015709559, 0.20567128411928812, 0.20613147405783336, 0.20776489090919495, 0.21453009593486785, 0.2100257761478424, 0.20954067575931548, 0.2062723432779312, 0.2119327130317688, 0.2075922450621923, 0.20519397834936778, 0.20839032955964407], \"yaxis\": \"y2\"}],\n",
       "                        {\"annotations\": [{\"font\": {\"size\": 16}, \"showarrow\": false, \"text\": \"Training and validation accuracy\", \"x\": 0.225, \"xanchor\": \"center\", \"xref\": \"paper\", \"y\": 1.0, \"yanchor\": \"bottom\", \"yref\": \"paper\"}, {\"font\": {\"size\": 16}, \"showarrow\": false, \"text\": \"Training and validation loss\", \"x\": 0.775, \"xanchor\": \"center\", \"xref\": \"paper\", \"y\": 1.0, \"yanchor\": \"bottom\", \"yref\": \"paper\"}], \"template\": {\"data\": {\"bar\": [{\"error_x\": {\"color\": \"#2a3f5f\"}, \"error_y\": {\"color\": \"#2a3f5f\"}, \"marker\": {\"line\": {\"color\": \"#E5ECF6\", \"width\": 0.5}}, \"type\": \"bar\"}], \"barpolar\": [{\"marker\": {\"line\": {\"color\": \"#E5ECF6\", \"width\": 0.5}}, \"type\": \"barpolar\"}], \"carpet\": [{\"aaxis\": {\"endlinecolor\": \"#2a3f5f\", \"gridcolor\": \"white\", \"linecolor\": \"white\", \"minorgridcolor\": \"white\", \"startlinecolor\": \"#2a3f5f\"}, \"baxis\": {\"endlinecolor\": \"#2a3f5f\", \"gridcolor\": \"white\", \"linecolor\": \"white\", \"minorgridcolor\": \"white\", \"startlinecolor\": \"#2a3f5f\"}, \"type\": \"carpet\"}], \"choropleth\": [{\"colorbar\": {\"outlinewidth\": 0, \"ticks\": \"\"}, \"type\": \"choropleth\"}], \"contour\": [{\"colorbar\": {\"outlinewidth\": 0, \"ticks\": \"\"}, \"colorscale\": [[0.0, \"#0d0887\"], [0.1111111111111111, \"#46039f\"], [0.2222222222222222, \"#7201a8\"], [0.3333333333333333, \"#9c179e\"], [0.4444444444444444, \"#bd3786\"], [0.5555555555555556, \"#d8576b\"], [0.6666666666666666, \"#ed7953\"], [0.7777777777777778, \"#fb9f3a\"], [0.8888888888888888, \"#fdca26\"], [1.0, \"#f0f921\"]], \"type\": \"contour\"}], \"contourcarpet\": [{\"colorbar\": {\"outlinewidth\": 0, \"ticks\": \"\"}, \"type\": \"contourcarpet\"}], \"heatmap\": [{\"colorbar\": {\"outlinewidth\": 0, \"ticks\": \"\"}, \"colorscale\": [[0.0, \"#0d0887\"], [0.1111111111111111, \"#46039f\"], [0.2222222222222222, \"#7201a8\"], [0.3333333333333333, \"#9c179e\"], [0.4444444444444444, \"#bd3786\"], [0.5555555555555556, \"#d8576b\"], [0.6666666666666666, \"#ed7953\"], [0.7777777777777778, \"#fb9f3a\"], [0.8888888888888888, \"#fdca26\"], [1.0, \"#f0f921\"]], \"type\": \"heatmap\"}], \"heatmapgl\": [{\"colorbar\": {\"outlinewidth\": 0, \"ticks\": \"\"}, \"colorscale\": [[0.0, \"#0d0887\"], [0.1111111111111111, \"#46039f\"], [0.2222222222222222, \"#7201a8\"], [0.3333333333333333, \"#9c179e\"], [0.4444444444444444, \"#bd3786\"], [0.5555555555555556, \"#d8576b\"], [0.6666666666666666, \"#ed7953\"], [0.7777777777777778, \"#fb9f3a\"], [0.8888888888888888, \"#fdca26\"], [1.0, \"#f0f921\"]], \"type\": \"heatmapgl\"}], \"histogram\": [{\"marker\": {\"colorbar\": {\"outlinewidth\": 0, \"ticks\": \"\"}}, \"type\": \"histogram\"}], \"histogram2d\": [{\"colorbar\": {\"outlinewidth\": 0, \"ticks\": \"\"}, \"colorscale\": [[0.0, \"#0d0887\"], [0.1111111111111111, \"#46039f\"], [0.2222222222222222, \"#7201a8\"], [0.3333333333333333, \"#9c179e\"], [0.4444444444444444, \"#bd3786\"], [0.5555555555555556, \"#d8576b\"], [0.6666666666666666, \"#ed7953\"], [0.7777777777777778, \"#fb9f3a\"], [0.8888888888888888, \"#fdca26\"], [1.0, \"#f0f921\"]], \"type\": \"histogram2d\"}], \"histogram2dcontour\": [{\"colorbar\": {\"outlinewidth\": 0, \"ticks\": \"\"}, \"colorscale\": [[0.0, \"#0d0887\"], [0.1111111111111111, \"#46039f\"], [0.2222222222222222, \"#7201a8\"], [0.3333333333333333, \"#9c179e\"], [0.4444444444444444, \"#bd3786\"], [0.5555555555555556, \"#d8576b\"], [0.6666666666666666, \"#ed7953\"], [0.7777777777777778, \"#fb9f3a\"], [0.8888888888888888, \"#fdca26\"], [1.0, \"#f0f921\"]], \"type\": \"histogram2dcontour\"}], \"mesh3d\": [{\"colorbar\": {\"outlinewidth\": 0, \"ticks\": \"\"}, \"type\": \"mesh3d\"}], \"parcoords\": [{\"line\": {\"colorbar\": {\"outlinewidth\": 0, \"ticks\": \"\"}}, \"type\": \"parcoords\"}], \"pie\": [{\"automargin\": true, \"type\": \"pie\"}], \"scatter\": [{\"marker\": {\"colorbar\": {\"outlinewidth\": 0, \"ticks\": \"\"}}, \"type\": \"scatter\"}], \"scatter3d\": [{\"line\": {\"colorbar\": {\"outlinewidth\": 0, \"ticks\": \"\"}}, \"marker\": {\"colorbar\": {\"outlinewidth\": 0, \"ticks\": \"\"}}, \"type\": \"scatter3d\"}], \"scattercarpet\": [{\"marker\": {\"colorbar\": {\"outlinewidth\": 0, \"ticks\": \"\"}}, \"type\": \"scattercarpet\"}], \"scattergeo\": [{\"marker\": {\"colorbar\": {\"outlinewidth\": 0, \"ticks\": \"\"}}, \"type\": \"scattergeo\"}], \"scattergl\": [{\"marker\": {\"colorbar\": {\"outlinewidth\": 0, \"ticks\": \"\"}}, \"type\": \"scattergl\"}], \"scattermapbox\": [{\"marker\": {\"colorbar\": {\"outlinewidth\": 0, \"ticks\": \"\"}}, \"type\": \"scattermapbox\"}], \"scatterpolar\": [{\"marker\": {\"colorbar\": {\"outlinewidth\": 0, \"ticks\": \"\"}}, \"type\": \"scatterpolar\"}], \"scatterpolargl\": [{\"marker\": {\"colorbar\": {\"outlinewidth\": 0, \"ticks\": \"\"}}, \"type\": \"scatterpolargl\"}], \"scatterternary\": [{\"marker\": {\"colorbar\": {\"outlinewidth\": 0, \"ticks\": \"\"}}, \"type\": \"scatterternary\"}], \"surface\": [{\"colorbar\": {\"outlinewidth\": 0, \"ticks\": \"\"}, \"colorscale\": [[0.0, \"#0d0887\"], [0.1111111111111111, \"#46039f\"], [0.2222222222222222, \"#7201a8\"], [0.3333333333333333, \"#9c179e\"], [0.4444444444444444, \"#bd3786\"], [0.5555555555555556, \"#d8576b\"], [0.6666666666666666, \"#ed7953\"], [0.7777777777777778, \"#fb9f3a\"], [0.8888888888888888, \"#fdca26\"], [1.0, \"#f0f921\"]], \"type\": \"surface\"}], \"table\": [{\"cells\": {\"fill\": {\"color\": \"#EBF0F8\"}, \"line\": {\"color\": \"white\"}}, \"header\": {\"fill\": {\"color\": \"#C8D4E3\"}, \"line\": {\"color\": \"white\"}}, \"type\": \"table\"}]}, \"layout\": {\"annotationdefaults\": {\"arrowcolor\": \"#2a3f5f\", \"arrowhead\": 0, \"arrowwidth\": 1}, \"coloraxis\": {\"colorbar\": {\"outlinewidth\": 0, \"ticks\": \"\"}}, \"colorscale\": {\"diverging\": [[0, \"#8e0152\"], [0.1, \"#c51b7d\"], [0.2, \"#de77ae\"], [0.3, \"#f1b6da\"], [0.4, \"#fde0ef\"], [0.5, \"#f7f7f7\"], [0.6, \"#e6f5d0\"], [0.7, \"#b8e186\"], [0.8, \"#7fbc41\"], [0.9, \"#4d9221\"], [1, \"#276419\"]], \"sequential\": [[0.0, \"#0d0887\"], [0.1111111111111111, \"#46039f\"], [0.2222222222222222, \"#7201a8\"], [0.3333333333333333, \"#9c179e\"], [0.4444444444444444, \"#bd3786\"], [0.5555555555555556, \"#d8576b\"], [0.6666666666666666, \"#ed7953\"], [0.7777777777777778, \"#fb9f3a\"], [0.8888888888888888, \"#fdca26\"], [1.0, \"#f0f921\"]], \"sequentialminus\": [[0.0, \"#0d0887\"], [0.1111111111111111, \"#46039f\"], [0.2222222222222222, \"#7201a8\"], [0.3333333333333333, \"#9c179e\"], [0.4444444444444444, \"#bd3786\"], [0.5555555555555556, \"#d8576b\"], [0.6666666666666666, \"#ed7953\"], [0.7777777777777778, \"#fb9f3a\"], [0.8888888888888888, \"#fdca26\"], [1.0, \"#f0f921\"]]}, \"colorway\": [\"#636efa\", \"#EF553B\", \"#00cc96\", \"#ab63fa\", \"#FFA15A\", \"#19d3f3\", \"#FF6692\", \"#B6E880\", \"#FF97FF\", \"#FECB52\"], \"font\": {\"color\": \"#2a3f5f\"}, \"geo\": {\"bgcolor\": \"white\", \"lakecolor\": \"white\", \"landcolor\": \"#E5ECF6\", \"showlakes\": true, \"showland\": true, \"subunitcolor\": \"white\"}, \"hoverlabel\": {\"align\": \"left\"}, \"hovermode\": \"closest\", \"mapbox\": {\"style\": \"light\"}, \"paper_bgcolor\": \"white\", \"plot_bgcolor\": \"#E5ECF6\", \"polar\": {\"angularaxis\": {\"gridcolor\": \"white\", \"linecolor\": \"white\", \"ticks\": \"\"}, \"bgcolor\": \"#E5ECF6\", \"radialaxis\": {\"gridcolor\": \"white\", \"linecolor\": \"white\", \"ticks\": \"\"}}, \"scene\": {\"xaxis\": {\"backgroundcolor\": \"#E5ECF6\", \"gridcolor\": \"white\", \"gridwidth\": 2, \"linecolor\": \"white\", \"showbackground\": true, \"ticks\": \"\", \"zerolinecolor\": \"white\"}, \"yaxis\": {\"backgroundcolor\": \"#E5ECF6\", \"gridcolor\": \"white\", \"gridwidth\": 2, \"linecolor\": \"white\", \"showbackground\": true, \"ticks\": \"\", \"zerolinecolor\": \"white\"}, \"zaxis\": {\"backgroundcolor\": \"#E5ECF6\", \"gridcolor\": \"white\", \"gridwidth\": 2, \"linecolor\": \"white\", \"showbackground\": true, \"ticks\": \"\", \"zerolinecolor\": \"white\"}}, \"shapedefaults\": {\"line\": {\"color\": \"#2a3f5f\"}}, \"ternary\": {\"aaxis\": {\"gridcolor\": \"white\", \"linecolor\": \"white\", \"ticks\": \"\"}, \"baxis\": {\"gridcolor\": \"white\", \"linecolor\": \"white\", \"ticks\": \"\"}, \"bgcolor\": \"#E5ECF6\", \"caxis\": {\"gridcolor\": \"white\", \"linecolor\": \"white\", \"ticks\": \"\"}}, \"title\": {\"x\": 0.05}, \"xaxis\": {\"automargin\": true, \"gridcolor\": \"white\", \"linecolor\": \"white\", \"ticks\": \"\", \"title\": {\"standoff\": 15}, \"zerolinecolor\": \"white\", \"zerolinewidth\": 2}, \"yaxis\": {\"automargin\": true, \"gridcolor\": \"white\", \"linecolor\": \"white\", \"ticks\": \"\", \"title\": {\"standoff\": 15}, \"zerolinecolor\": \"white\", \"zerolinewidth\": 2}}}, \"xaxis\": {\"anchor\": \"y\", \"domain\": [0.0, 0.45], \"title\": {\"text\": \"Epoch\"}}, \"xaxis2\": {\"anchor\": \"y2\", \"domain\": [0.55, 1.0], \"title\": {\"text\": \"Epoch\"}}, \"yaxis\": {\"anchor\": \"x\", \"domain\": [0.0, 1.0], \"range\": [0, 1], \"title\": {\"text\": \"Accuracy\"}}, \"yaxis2\": {\"anchor\": \"x2\", \"domain\": [0.0, 1.0], \"range\": [0, 1], \"title\": {\"text\": \"Loss\"}}},\n",
       "                        {\"responsive\": true}\n",
       "                    ).then(function(){\n",
       "                            \n",
       "var gd = document.getElementById('b7f1e67f-72e3-4cb5-9ef2-4f76c604ec0d');\n",
       "var x = new MutationObserver(function (mutations, observer) {{\n",
       "        var display = window.getComputedStyle(gd).display;\n",
       "        if (!display || display === 'none') {{\n",
       "            console.log([gd, 'removed!']);\n",
       "            Plotly.purge(gd);\n",
       "            observer.disconnect();\n",
       "        }}\n",
       "}});\n",
       "\n",
       "// Listen for the removal of the full notebook cells\n",
       "var notebookContainer = gd.closest('#notebook-container');\n",
       "if (notebookContainer) {{\n",
       "    x.observe(notebookContainer, {childList: true});\n",
       "}}\n",
       "\n",
       "// Listen for the clearing of the current output cell\n",
       "var outputEl = gd.closest('.output');\n",
       "if (outputEl) {{\n",
       "    x.observe(outputEl, {childList: true});\n",
       "}}\n",
       "\n",
       "                        })\n",
       "                };\n",
       "                });\n",
       "            </script>\n",
       "        </div>"
      ]
     },
     "metadata": {},
     "output_type": "display_data"
    }
   ],
   "source": [
    "plot_accuracy_and_loss(train_model2)"
   ]
  },
  {
   "cell_type": "markdown",
   "metadata": {},
   "source": [
    "## Save the Models\n",
    "Now save the trained models to use them later to test new data."
   ]
  },
  {
   "cell_type": "code",
   "execution_count": 106,
   "metadata": {},
   "outputs": [],
   "source": [
    "# Save models\n",
    "cnn1.save(MODEL_OUTPUT_DIRECTORY+'basic_cnn.h5')\n",
    "cnn2.save(MODEL_OUTPUT_DIRECTORY+'cnn_with_dropout.h5')\n",
    "dnn.save(MODEL_OUTPUT_DIRECTORY+'dnn.h5')\n",
    "cnn3.save(MODEL_OUTPUT_DIRECTORY+'cnn_decay.h5')\n",
    "\n",
    "# Save models' histories\n",
    "basin_cnn_df = pd.DataFrame.from_dict(train_model.history)\n",
    "basin_cnn_df.to_json (MODEL_HISTORY_OUTPUT_DIRECTORY +'basic_cnn_hist.json', orient='records')\n",
    "\n",
    "cnn_with_dropout_df = pd.DataFrame.from_dict(train_model2.history)\n",
    "cnn_with_dropout_df.to_json (MODEL_HISTORY_OUTPUT_DIRECTORY +'cnn_with_dropout_hist.json', orient='records')\n",
    "\n",
    "dnn_df = pd.DataFrame.from_dict(train_model_dnn.history)\n",
    "dnn_df.to_json (MODEL_HISTORY_OUTPUT_DIRECTORY +'dnn_hist.json', orient='records')\n",
    "\n",
    "cnn_decay_df = pd.DataFrame.from_dict(train_model3.history)\n",
    "cnn_decay_df.to_json (MODEL_HISTORY_OUTPUT_DIRECTORY +'cnn_decay_hist.json', orient='records')"
   ]
  },
  {
   "cell_type": "code",
   "execution_count": null,
   "metadata": {},
   "outputs": [],
   "source": []
  }
 ],
 "metadata": {
  "kernelspec": {
   "display_name": "Python 3",
   "language": "python",
   "name": "python3"
  },
  "language_info": {
   "codemirror_mode": {
    "name": "ipython",
    "version": 3
   },
   "file_extension": ".py",
   "mimetype": "text/x-python",
   "name": "python",
   "nbconvert_exporter": "python",
   "pygments_lexer": "ipython3",
   "version": "3.6.5"
  }
 },
 "nbformat": 4,
 "nbformat_minor": 2
}
